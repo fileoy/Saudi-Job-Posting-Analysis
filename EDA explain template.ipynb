{
 "cells": [
  {
   "cell_type": "code",
   "execution_count": 130,
   "id": "e69c4ba1-85f3-4a02-ae37-c64347a01803",
   "metadata": {},
   "outputs": [],
   "source": [
    "#Import all relevant libraries\n",
    "import numpy as np\n",
    "import pandas as pd\n",
    "import matplotlib.pyplot as plt\n",
    "import seaborn as sns\n",
    "from scipy.stats import zscore\n",
    " \n",
    "## This statement allows the visuals to render within your Jupyter Notebook.\n",
    "%matplotlib inline"
   ]
  },
  {
   "cell_type": "markdown",
   "id": "e395e8bf-b530-4720-8d0f-26811e927d6e",
   "metadata": {},
   "source": [
    "## Loading the data\n",
    "We can now load the dataset into pandas using the read_csv() function. This converts the CSV file into a Pandas dataframe."
   ]
  },
  {
   "cell_type": "code",
   "execution_count": 131,
   "id": "cf4030b0-aa7f-4bd7-8e9c-c1b7f4d202d0",
   "metadata": {},
   "outputs": [],
   "source": [
    "#Read in the csv file and convert to a Pandas dataframe\n",
    "jobs_df = pd.read_csv('./data/Jadarat_data.csv')"
   ]
  },
  {
   "cell_type": "markdown",
   "id": "ca5ed983-0f72-43eb-8168-6fafd48c562e",
   "metadata": {},
   "source": [
    "### Viewing the dataframe\n",
    "We can get a quick sense of the size of our dataset by using the shape method. This returns a tuple with the number of rows and columns in the dataset."
   ]
  },
  {
   "cell_type": "code",
   "execution_count": 132,
   "id": "fc346f4a",
   "metadata": {},
   "outputs": [
    {
     "data": {
      "text/plain": [
       "(1470, 18)"
      ]
     },
     "execution_count": 132,
     "metadata": {},
     "output_type": "execute_result"
    }
   ],
   "source": [
    "jobs_df.shape"
   ]
  },
  {
   "cell_type": "code",
   "execution_count": 133,
   "id": "bfde0b69-613c-4dd1-8ebf-e4d2e570e653",
   "metadata": {},
   "outputs": [
    {
     "data": {
      "text/html": [
       "<div>\n",
       "<style scoped>\n",
       "    .dataframe tbody tr th:only-of-type {\n",
       "        vertical-align: middle;\n",
       "    }\n",
       "\n",
       "    .dataframe tbody tr th {\n",
       "        vertical-align: top;\n",
       "    }\n",
       "\n",
       "    .dataframe thead th {\n",
       "        text-align: right;\n",
       "    }\n",
       "</style>\n",
       "<table border=\"1\" class=\"dataframe\">\n",
       "  <thead>\n",
       "    <tr style=\"text-align: right;\">\n",
       "      <th></th>\n",
       "      <th>job_title</th>\n",
       "      <th>job_date</th>\n",
       "      <th>job_desc</th>\n",
       "      <th>job_tasks</th>\n",
       "      <th>comp_name</th>\n",
       "      <th>comp_no</th>\n",
       "      <th>comp_type</th>\n",
       "      <th>comp_size</th>\n",
       "      <th>eco_activity</th>\n",
       "      <th>qualif</th>\n",
       "      <th>region</th>\n",
       "      <th>city</th>\n",
       "      <th>benefits</th>\n",
       "      <th>contract</th>\n",
       "      <th>positions</th>\n",
       "      <th>job_post_id</th>\n",
       "      <th>exper</th>\n",
       "      <th>gender</th>\n",
       "    </tr>\n",
       "  </thead>\n",
       "  <tbody>\n",
       "    <tr>\n",
       "      <th>0</th>\n",
       "      <td>محاسب</td>\n",
       "      <td>27/05/1444</td>\n",
       "      <td>['إعداد وتنظيم مستندات الصرف ومتابعة تحصيل الإ...</td>\n",
       "      <td>['   تدقيق المطالبات المالية والتأكد من اكتمال...</td>\n",
       "      <td>شركة مقر العالم للسفريات</td>\n",
       "      <td>1-317262</td>\n",
       "      <td>خاص</td>\n",
       "      <td>متوسطة فئة أ</td>\n",
       "      <td>أنشطة وكالات السياحة والسفر</td>\n",
       "      <td>['Language data', 'اللغة الانجليزية', 'محترف']</td>\n",
       "      <td>الرياض</td>\n",
       "      <td>AR RIYADH...</td>\n",
       "      <td>['Salary', '5000.0']</td>\n",
       "      <td>دوام كامل</td>\n",
       "      <td>0 / 1</td>\n",
       "      <td>20202026350419</td>\n",
       "      <td>0 Years</td>\n",
       "      <td>both</td>\n",
       "    </tr>\n",
       "    <tr>\n",
       "      <th>1</th>\n",
       "      <td>بائع</td>\n",
       "      <td>27/05/1444</td>\n",
       "      <td>['بيع مجموعة من السلع والخدمات للعملاء، وتوفير...</td>\n",
       "      <td>['   بيع مجموعة من السلع والخدمات للعملاء.', '...</td>\n",
       "      <td>شركة عالم الكهرباء للمقاولات</td>\n",
       "      <td>4-1324428</td>\n",
       "      <td>خاص</td>\n",
       "      <td>متوسطة فئة ب</td>\n",
       "      <td>تركيب انظمة التبريد وتكييف الهواء وصيانتها واص...</td>\n",
       "      <td>NaN</td>\n",
       "      <td>المنطقة الشرقية</td>\n",
       "      <td>AD DAMMAM...</td>\n",
       "      <td>['Salary', '5000.0']</td>\n",
       "      <td>دوام كامل</td>\n",
       "      <td>0 / 3</td>\n",
       "      <td>20202026350389</td>\n",
       "      <td>0 Years</td>\n",
       "      <td>both</td>\n",
       "    </tr>\n",
       "  </tbody>\n",
       "</table>\n",
       "</div>"
      ],
      "text/plain": [
       "  job_title    job_date                                           job_desc  \\\n",
       "0     محاسب  27/05/1444  ['إعداد وتنظيم مستندات الصرف ومتابعة تحصيل الإ...   \n",
       "1      بائع  27/05/1444  ['بيع مجموعة من السلع والخدمات للعملاء، وتوفير...   \n",
       "\n",
       "                                           job_tasks  \\\n",
       "0  ['   تدقيق المطالبات المالية والتأكد من اكتمال...   \n",
       "1  ['   بيع مجموعة من السلع والخدمات للعملاء.', '...   \n",
       "\n",
       "                      comp_name    comp_no comp_type     comp_size  \\\n",
       "0      شركة مقر العالم للسفريات   1-317262       خاص  متوسطة فئة أ   \n",
       "1  شركة عالم الكهرباء للمقاولات  4-1324428       خاص  متوسطة فئة ب   \n",
       "\n",
       "                                        eco_activity  \\\n",
       "0                        أنشطة وكالات السياحة والسفر   \n",
       "1  تركيب انظمة التبريد وتكييف الهواء وصيانتها واص...   \n",
       "\n",
       "                                           qualif           region  \\\n",
       "0  ['Language data', 'اللغة الانجليزية', 'محترف']           الرياض   \n",
       "1                                             NaN  المنطقة الشرقية   \n",
       "\n",
       "           city              benefits   contract positions     job_post_id  \\\n",
       "0  AR RIYADH...  ['Salary', '5000.0']  دوام كامل     0 / 1  20202026350419   \n",
       "1  AD DAMMAM...  ['Salary', '5000.0']  دوام كامل     0 / 3  20202026350389   \n",
       "\n",
       "     exper gender  \n",
       "0  0 Years   both  \n",
       "1  0 Years   both  "
      ]
     },
     "execution_count": 133,
     "metadata": {},
     "output_type": "execute_result"
    }
   ],
   "source": [
    "jobs_df.head(2)"
   ]
  },
  {
   "cell_type": "code",
   "execution_count": 134,
   "id": "eb6162ba",
   "metadata": {},
   "outputs": [
    {
     "data": {
      "text/plain": [
       "job_title       object\n",
       "job_date        object\n",
       "job_desc        object\n",
       "job_tasks       object\n",
       "comp_name       object\n",
       "comp_no         object\n",
       "comp_type       object\n",
       "comp_size       object\n",
       "eco_activity    object\n",
       "qualif          object\n",
       "region          object\n",
       "city            object\n",
       "benefits        object\n",
       "contract        object\n",
       "positions       object\n",
       "job_post_id      int64\n",
       "exper           object\n",
       "gender          object\n",
       "dtype: object"
      ]
     },
     "execution_count": 134,
     "metadata": {},
     "output_type": "execute_result"
    }
   ],
   "source": [
    "jobs_df.dtypes"
   ]
  },
  {
   "cell_type": "markdown",
   "id": "bd2b5bc4-db37-4432-b666-0714afd0c4ca",
   "metadata": {},
   "source": [
    "## 1. Data Profiling:\n",
    "Data profiling is a comprehensive process of examining the data available in an existing dataset and collecting statistics and information about that data. "
   ]
  },
  {
   "cell_type": "code",
   "execution_count": 135,
   "id": "672f2081-5a2c-4908-8cbd-29519fb3cac5",
   "metadata": {},
   "outputs": [
    {
     "name": "stdout",
     "output_type": "stream",
     "text": [
      "<class 'pandas.core.frame.DataFrame'>\n",
      "RangeIndex: 1470 entries, 0 to 1469\n",
      "Data columns (total 18 columns):\n",
      " #   Column        Non-Null Count  Dtype \n",
      "---  ------        --------------  ----- \n",
      " 0   job_title     1470 non-null   object\n",
      " 1   job_date      1470 non-null   object\n",
      " 2   job_desc      1470 non-null   object\n",
      " 3   job_tasks     1470 non-null   object\n",
      " 4   comp_name     1470 non-null   object\n",
      " 5   comp_no       1470 non-null   object\n",
      " 6   comp_type     1470 non-null   object\n",
      " 7   comp_size     1456 non-null   object\n",
      " 8   eco_activity  1380 non-null   object\n",
      " 9   qualif        780 non-null    object\n",
      " 10  region        1470 non-null   object\n",
      " 11  city          1470 non-null   object\n",
      " 12  benefits      1470 non-null   object\n",
      " 13  contract      1470 non-null   object\n",
      " 14  positions     1470 non-null   object\n",
      " 15  job_post_id   1470 non-null   int64 \n",
      " 16  exper         1470 non-null   object\n",
      " 17  gender        1470 non-null   object\n",
      "dtypes: int64(1), object(17)\n",
      "memory usage: 206.8+ KB\n"
     ]
    }
   ],
   "source": [
    "jobs_df.info()"
   ]
  },
  {
   "cell_type": "code",
   "execution_count": 136,
   "id": "c3e74446",
   "metadata": {},
   "outputs": [
    {
     "data": {
      "text/html": [
       "<div>\n",
       "<style scoped>\n",
       "    .dataframe tbody tr th:only-of-type {\n",
       "        vertical-align: middle;\n",
       "    }\n",
       "\n",
       "    .dataframe tbody tr th {\n",
       "        vertical-align: top;\n",
       "    }\n",
       "\n",
       "    .dataframe thead th {\n",
       "        text-align: right;\n",
       "    }\n",
       "</style>\n",
       "<table border=\"1\" class=\"dataframe\">\n",
       "  <thead>\n",
       "    <tr style=\"text-align: right;\">\n",
       "      <th></th>\n",
       "      <th>job_title</th>\n",
       "      <th>job_date</th>\n",
       "      <th>job_desc</th>\n",
       "      <th>job_tasks</th>\n",
       "      <th>comp_name</th>\n",
       "      <th>comp_no</th>\n",
       "      <th>comp_type</th>\n",
       "      <th>comp_size</th>\n",
       "      <th>eco_activity</th>\n",
       "      <th>qualif</th>\n",
       "      <th>region</th>\n",
       "      <th>city</th>\n",
       "      <th>benefits</th>\n",
       "      <th>contract</th>\n",
       "      <th>positions</th>\n",
       "      <th>exper</th>\n",
       "      <th>gender</th>\n",
       "    </tr>\n",
       "  </thead>\n",
       "  <tbody>\n",
       "    <tr>\n",
       "      <th>count</th>\n",
       "      <td>1470</td>\n",
       "      <td>1470</td>\n",
       "      <td>1470</td>\n",
       "      <td>1470</td>\n",
       "      <td>1470</td>\n",
       "      <td>1470</td>\n",
       "      <td>1470</td>\n",
       "      <td>1456</td>\n",
       "      <td>1380</td>\n",
       "      <td>780</td>\n",
       "      <td>1470</td>\n",
       "      <td>1470</td>\n",
       "      <td>1470</td>\n",
       "      <td>1470</td>\n",
       "      <td>1470</td>\n",
       "      <td>1470</td>\n",
       "      <td>1470</td>\n",
       "    </tr>\n",
       "    <tr>\n",
       "      <th>unique</th>\n",
       "      <td>324</td>\n",
       "      <td>92</td>\n",
       "      <td>438</td>\n",
       "      <td>444</td>\n",
       "      <td>886</td>\n",
       "      <td>894</td>\n",
       "      <td>2</td>\n",
       "      <td>7</td>\n",
       "      <td>361</td>\n",
       "      <td>615</td>\n",
       "      <td>14</td>\n",
       "      <td>114</td>\n",
       "      <td>393</td>\n",
       "      <td>2</td>\n",
       "      <td>25</td>\n",
       "      <td>6</td>\n",
       "      <td>3</td>\n",
       "    </tr>\n",
       "    <tr>\n",
       "      <th>top</th>\n",
       "      <td>بائع</td>\n",
       "      <td>Publish date</td>\n",
       "      <td>['بيع مجموعة من السلع والخدمات للعملاء، وتوفير...</td>\n",
       "      <td>['   بيع مجموعة من السلع والخدمات للعملاء.', '...</td>\n",
       "      <td>شركه العرض المتقن للخدمات التجارية شركة مساهمة...</td>\n",
       "      <td>1-169123</td>\n",
       "      <td>خاص</td>\n",
       "      <td>صغيرة فئة ب</td>\n",
       "      <td>المطاعم مع الخدمة</td>\n",
       "      <td>['Language data', 'الانجليزية', 'متوسط']</td>\n",
       "      <td>الرياض</td>\n",
       "      <td>AR RIYADH...</td>\n",
       "      <td>['Salary', '4000.0']</td>\n",
       "      <td>دوام كامل</td>\n",
       "      <td>0 / 1</td>\n",
       "      <td>0 Years</td>\n",
       "      <td>both</td>\n",
       "    </tr>\n",
       "    <tr>\n",
       "      <th>freq</th>\n",
       "      <td>98</td>\n",
       "      <td>47</td>\n",
       "      <td>93</td>\n",
       "      <td>90</td>\n",
       "      <td>16</td>\n",
       "      <td>16</td>\n",
       "      <td>1465</td>\n",
       "      <td>635</td>\n",
       "      <td>65</td>\n",
       "      <td>28</td>\n",
       "      <td>622</td>\n",
       "      <td>523</td>\n",
       "      <td>449</td>\n",
       "      <td>1448</td>\n",
       "      <td>853</td>\n",
       "      <td>833</td>\n",
       "      <td>587</td>\n",
       "    </tr>\n",
       "  </tbody>\n",
       "</table>\n",
       "</div>"
      ],
      "text/plain": [
       "       job_title      job_date  \\\n",
       "count       1470          1470   \n",
       "unique       324            92   \n",
       "top         بائع  Publish date   \n",
       "freq          98            47   \n",
       "\n",
       "                                                 job_desc  \\\n",
       "count                                                1470   \n",
       "unique                                                438   \n",
       "top     ['بيع مجموعة من السلع والخدمات للعملاء، وتوفير...   \n",
       "freq                                                   93   \n",
       "\n",
       "                                                job_tasks  \\\n",
       "count                                                1470   \n",
       "unique                                                444   \n",
       "top     ['   بيع مجموعة من السلع والخدمات للعملاء.', '...   \n",
       "freq                                                   90   \n",
       "\n",
       "                                                comp_name   comp_no comp_type  \\\n",
       "count                                                1470      1470      1470   \n",
       "unique                                                886       894         2   \n",
       "top     شركه العرض المتقن للخدمات التجارية شركة مساهمة...  1-169123       خاص   \n",
       "freq                                                   16        16      1465   \n",
       "\n",
       "          comp_size       eco_activity  \\\n",
       "count          1456               1380   \n",
       "unique            7                361   \n",
       "top     صغيرة فئة ب  المطاعم مع الخدمة   \n",
       "freq            635                 65   \n",
       "\n",
       "                                          qualif  region          city  \\\n",
       "count                                        780    1470          1470   \n",
       "unique                                       615      14           114   \n",
       "top     ['Language data', 'الانجليزية', 'متوسط']  الرياض  AR RIYADH...   \n",
       "freq                                          28     622           523   \n",
       "\n",
       "                    benefits   contract positions    exper gender  \n",
       "count                   1470       1470      1470     1470   1470  \n",
       "unique                   393          2        25        6      3  \n",
       "top     ['Salary', '4000.0']  دوام كامل     0 / 1  0 Years   both  \n",
       "freq                     449       1448       853      833    587  "
      ]
     },
     "execution_count": 136,
     "metadata": {},
     "output_type": "execute_result"
    }
   ],
   "source": [
    "jobs_df.describe(include='object')"
   ]
  },
  {
   "cell_type": "code",
   "execution_count": 137,
   "id": "b9b840db",
   "metadata": {},
   "outputs": [
    {
     "data": {
      "text/plain": [
       "Index(['job_title', 'job_date', 'job_desc', 'job_tasks', 'comp_name',\n",
       "       'comp_no', 'comp_type', 'comp_size', 'eco_activity', 'qualif', 'region',\n",
       "       'city', 'benefits', 'contract', 'positions', 'job_post_id', 'exper',\n",
       "       'gender'],\n",
       "      dtype='object')"
      ]
     },
     "execution_count": 137,
     "metadata": {},
     "output_type": "execute_result"
    }
   ],
   "source": [
    "jobs_df.columns"
   ]
  },
  {
   "cell_type": "markdown",
   "id": "834929aa-fd6a-4ec5-84d4-77c4b3c1a506",
   "metadata": {},
   "source": [
    "The process of profiling differs slightly for categorical and numerical variables due to their inherent differences.\n",
    "\n",
    "**The two main types of data are:**\n",
    "- Quantitative (numerical) data\n",
    "- Qualitative (categorical) data"
   ]
  },
  {
   "cell_type": "markdown",
   "id": "3a9954f5-6fbc-45b4-ad86-3e21b6e0ca2d",
   "metadata": {},
   "source": [
    "### Data Quality Checks\n",
    "Data quality checks involve the process of ensuring that the data is accurate, complete, consistent, relevant, and reliable. \n",
    "\n",
    "\n",
    "**Here are typical steps involved in checking data quality:**"
   ]
  },
  {
   "cell_type": "markdown",
   "id": "4818c876-173d-4e56-9e7d-b4334d2def25",
   "metadata": {},
   "source": [
    "#### 1. Reliability:\n",
    "Evaluate the data's source and collection process to determine its trustworthiness."
   ]
  },
  {
   "cell_type": "code",
   "execution_count": 138,
   "id": "9034ae7b-dc1d-4cba-8f9e-bb499d021cde",
   "metadata": {},
   "outputs": [],
   "source": [
    "# In kaggle the data source is mentions \"Jadarat\""
   ]
  },
  {
   "cell_type": "markdown",
   "id": "2ce0cc59-8c92-4acc-8d07-c40764e1a86b",
   "metadata": {},
   "source": [
    "#### 2. Timeliness: \n",
    "Ensure the data is up-to-date and reflective of the current situation or the period of interest for the analysis."
   ]
  },
  {
   "cell_type": "code",
   "execution_count": 139,
   "id": "4b78ae35-7226-4cb6-b8b2-a46c2ed17cf9",
   "metadata": {},
   "outputs": [],
   "source": [
    "# Given that the problem statement didn't mention the time period, that means it should be for this year, but the data source is out of date."
   ]
  },
  {
   "cell_type": "markdown",
   "id": "7fab0fe2-6624-4615-b9d8-3c3669056bf8",
   "metadata": {},
   "source": [
    "#### 3. Consistency: \n",
    "\n",
    "Confirm that the data is consistent within the dataset and across multiple data sources. For example, the same data point should not have different values in different places.\n"
   ]
  },
  {
   "cell_type": "code",
   "execution_count": 140,
   "id": "7fecc573-959f-4800-8ddd-a67985c68b18",
   "metadata": {},
   "outputs": [],
   "source": [
    "# N/A"
   ]
  },
  {
   "cell_type": "markdown",
   "id": "bec3d183-bba0-4b12-b963-487daab1e876",
   "metadata": {},
   "source": [
    "#### 4. Relevance: \n",
    "Assess whether the data is appropriate and applicable for the intended analysis. Data that is not relevant can skew results and lead to incorrect conclusions.\n",
    "\n",
    "**Key considerations for relevance include:**\n",
    "\n",
    "> 1. Sample Appropriateness: Confirm that your data sample aligns with your analysis objectives. For instance, utilizing data from the Northern region will not yield accurate insights for the Western region of the Kingdom.\n",
    ">\n",
    "> 2. Variable Selection: Any column will not be relevant for our analysis, we can get rid of these using the drop() method. We will set the “axis” argument to 1 since we’re dealing with columns, and set the “inplace” argument to True to make the change permanent.\n"
   ]
  },
  {
   "cell_type": "code",
   "execution_count": 141,
   "id": "adfc5a62",
   "metadata": {},
   "outputs": [
    {
     "data": {
      "text/html": [
       "<div>\n",
       "<style scoped>\n",
       "    .dataframe tbody tr th:only-of-type {\n",
       "        vertical-align: middle;\n",
       "    }\n",
       "\n",
       "    .dataframe tbody tr th {\n",
       "        vertical-align: top;\n",
       "    }\n",
       "\n",
       "    .dataframe thead th {\n",
       "        text-align: right;\n",
       "    }\n",
       "</style>\n",
       "<table border=\"1\" class=\"dataframe\">\n",
       "  <thead>\n",
       "    <tr style=\"text-align: right;\">\n",
       "      <th></th>\n",
       "      <th>job_title</th>\n",
       "      <th>job_date</th>\n",
       "      <th>job_desc</th>\n",
       "      <th>job_tasks</th>\n",
       "      <th>comp_name</th>\n",
       "      <th>comp_no</th>\n",
       "      <th>comp_type</th>\n",
       "      <th>comp_size</th>\n",
       "      <th>eco_activity</th>\n",
       "      <th>qualif</th>\n",
       "      <th>region</th>\n",
       "      <th>city</th>\n",
       "      <th>benefits</th>\n",
       "      <th>contract</th>\n",
       "      <th>positions</th>\n",
       "      <th>job_post_id</th>\n",
       "      <th>exper</th>\n",
       "      <th>gender</th>\n",
       "    </tr>\n",
       "  </thead>\n",
       "  <tbody>\n",
       "    <tr>\n",
       "      <th>0</th>\n",
       "      <td>محاسب</td>\n",
       "      <td>27/05/1444</td>\n",
       "      <td>['إعداد وتنظيم مستندات الصرف ومتابعة تحصيل الإ...</td>\n",
       "      <td>['   تدقيق المطالبات المالية والتأكد من اكتمال...</td>\n",
       "      <td>شركة مقر العالم للسفريات</td>\n",
       "      <td>1-317262</td>\n",
       "      <td>خاص</td>\n",
       "      <td>متوسطة فئة أ</td>\n",
       "      <td>أنشطة وكالات السياحة والسفر</td>\n",
       "      <td>['Language data', 'اللغة الانجليزية', 'محترف']</td>\n",
       "      <td>الرياض</td>\n",
       "      <td>AR RIYADH...</td>\n",
       "      <td>['Salary', '5000.0']</td>\n",
       "      <td>دوام كامل</td>\n",
       "      <td>0 / 1</td>\n",
       "      <td>20202026350419</td>\n",
       "      <td>0 Years</td>\n",
       "      <td>both</td>\n",
       "    </tr>\n",
       "    <tr>\n",
       "      <th>1</th>\n",
       "      <td>بائع</td>\n",
       "      <td>27/05/1444</td>\n",
       "      <td>['بيع مجموعة من السلع والخدمات للعملاء، وتوفير...</td>\n",
       "      <td>['   بيع مجموعة من السلع والخدمات للعملاء.', '...</td>\n",
       "      <td>شركة عالم الكهرباء للمقاولات</td>\n",
       "      <td>4-1324428</td>\n",
       "      <td>خاص</td>\n",
       "      <td>متوسطة فئة ب</td>\n",
       "      <td>تركيب انظمة التبريد وتكييف الهواء وصيانتها واص...</td>\n",
       "      <td>NaN</td>\n",
       "      <td>المنطقة الشرقية</td>\n",
       "      <td>AD DAMMAM...</td>\n",
       "      <td>['Salary', '5000.0']</td>\n",
       "      <td>دوام كامل</td>\n",
       "      <td>0 / 3</td>\n",
       "      <td>20202026350389</td>\n",
       "      <td>0 Years</td>\n",
       "      <td>both</td>\n",
       "    </tr>\n",
       "  </tbody>\n",
       "</table>\n",
       "</div>"
      ],
      "text/plain": [
       "  job_title    job_date                                           job_desc  \\\n",
       "0     محاسب  27/05/1444  ['إعداد وتنظيم مستندات الصرف ومتابعة تحصيل الإ...   \n",
       "1      بائع  27/05/1444  ['بيع مجموعة من السلع والخدمات للعملاء، وتوفير...   \n",
       "\n",
       "                                           job_tasks  \\\n",
       "0  ['   تدقيق المطالبات المالية والتأكد من اكتمال...   \n",
       "1  ['   بيع مجموعة من السلع والخدمات للعملاء.', '...   \n",
       "\n",
       "                      comp_name    comp_no comp_type     comp_size  \\\n",
       "0      شركة مقر العالم للسفريات   1-317262       خاص  متوسطة فئة أ   \n",
       "1  شركة عالم الكهرباء للمقاولات  4-1324428       خاص  متوسطة فئة ب   \n",
       "\n",
       "                                        eco_activity  \\\n",
       "0                        أنشطة وكالات السياحة والسفر   \n",
       "1  تركيب انظمة التبريد وتكييف الهواء وصيانتها واص...   \n",
       "\n",
       "                                           qualif           region  \\\n",
       "0  ['Language data', 'اللغة الانجليزية', 'محترف']           الرياض   \n",
       "1                                             NaN  المنطقة الشرقية   \n",
       "\n",
       "           city              benefits   contract positions     job_post_id  \\\n",
       "0  AR RIYADH...  ['Salary', '5000.0']  دوام كامل     0 / 1  20202026350419   \n",
       "1  AD DAMMAM...  ['Salary', '5000.0']  دوام كامل     0 / 3  20202026350389   \n",
       "\n",
       "     exper gender  \n",
       "0  0 Years   both  \n",
       "1  0 Years   both  "
      ]
     },
     "execution_count": 141,
     "metadata": {},
     "output_type": "execute_result"
    }
   ],
   "source": [
    "jobs_df.head(2)"
   ]
  },
  {
   "cell_type": "code",
   "execution_count": 142,
   "id": "50a934b7-a0cd-443f-8a27-f10e9a6e8647",
   "metadata": {
    "scrolled": true
   },
   "outputs": [],
   "source": [
    "# No need for ['job_date', 'job_desc', 'job_tasks', 'comp_type', 'comp_size', 'eco_activity' , 'qualif', 'positions', 'job_post_id'], because we don't need them to answer the problem statements.\n",
    "jobs_df.drop(['job_date', 'job_desc', 'job_tasks', 'comp_type', 'comp_size', 'eco_activity' , 'qualif', 'positions', 'job_post_id'], axis=1, inplace=True)"
   ]
  },
  {
   "cell_type": "code",
   "execution_count": 143,
   "id": "8a254460",
   "metadata": {},
   "outputs": [
    {
     "data": {
      "text/html": [
       "<div>\n",
       "<style scoped>\n",
       "    .dataframe tbody tr th:only-of-type {\n",
       "        vertical-align: middle;\n",
       "    }\n",
       "\n",
       "    .dataframe tbody tr th {\n",
       "        vertical-align: top;\n",
       "    }\n",
       "\n",
       "    .dataframe thead th {\n",
       "        text-align: right;\n",
       "    }\n",
       "</style>\n",
       "<table border=\"1\" class=\"dataframe\">\n",
       "  <thead>\n",
       "    <tr style=\"text-align: right;\">\n",
       "      <th></th>\n",
       "      <th>job_title</th>\n",
       "      <th>comp_name</th>\n",
       "      <th>comp_no</th>\n",
       "      <th>region</th>\n",
       "      <th>city</th>\n",
       "      <th>benefits</th>\n",
       "      <th>contract</th>\n",
       "      <th>exper</th>\n",
       "      <th>gender</th>\n",
       "    </tr>\n",
       "  </thead>\n",
       "  <tbody>\n",
       "    <tr>\n",
       "      <th>0</th>\n",
       "      <td>محاسب</td>\n",
       "      <td>شركة مقر العالم للسفريات</td>\n",
       "      <td>1-317262</td>\n",
       "      <td>الرياض</td>\n",
       "      <td>AR RIYADH...</td>\n",
       "      <td>['Salary', '5000.0']</td>\n",
       "      <td>دوام كامل</td>\n",
       "      <td>0 Years</td>\n",
       "      <td>both</td>\n",
       "    </tr>\n",
       "    <tr>\n",
       "      <th>1</th>\n",
       "      <td>بائع</td>\n",
       "      <td>شركة عالم الكهرباء للمقاولات</td>\n",
       "      <td>4-1324428</td>\n",
       "      <td>المنطقة الشرقية</td>\n",
       "      <td>AD DAMMAM...</td>\n",
       "      <td>['Salary', '5000.0']</td>\n",
       "      <td>دوام كامل</td>\n",
       "      <td>0 Years</td>\n",
       "      <td>both</td>\n",
       "    </tr>\n",
       "  </tbody>\n",
       "</table>\n",
       "</div>"
      ],
      "text/plain": [
       "  job_title                     comp_name    comp_no           region  \\\n",
       "0     محاسب      شركة مقر العالم للسفريات   1-317262           الرياض   \n",
       "1      بائع  شركة عالم الكهرباء للمقاولات  4-1324428  المنطقة الشرقية   \n",
       "\n",
       "           city              benefits   contract    exper gender  \n",
       "0  AR RIYADH...  ['Salary', '5000.0']  دوام كامل  0 Years   both  \n",
       "1  AD DAMMAM...  ['Salary', '5000.0']  دوام كامل  0 Years   both  "
      ]
     },
     "execution_count": 143,
     "metadata": {},
     "output_type": "execute_result"
    }
   ],
   "source": [
    "jobs_df.head(2)"
   ]
  },
  {
   "cell_type": "markdown",
   "id": "0f5e3a2a-bbb7-4d06-8220-c93277b70146",
   "metadata": {},
   "source": [
    "#### 5. Uniqueness: \n",
    "Check for and remove duplicate records to prevent skewed analysis results.\n"
   ]
  },
  {
   "cell_type": "code",
   "execution_count": 144,
   "id": "a509a7aa-58f4-4d39-8eb8-e8298a21f2a7",
   "metadata": {},
   "outputs": [
    {
     "data": {
      "text/plain": [
       "np.int64(116)"
      ]
     },
     "execution_count": 144,
     "metadata": {},
     "output_type": "execute_result"
    }
   ],
   "source": [
    "jobs_df.duplicated().sum()"
   ]
  },
  {
   "cell_type": "code",
   "execution_count": 145,
   "id": "04c62559-3b48-48cf-a4e9-857e2e0ff416",
   "metadata": {},
   "outputs": [],
   "source": [
    "# go to delete duplicates columns\n",
    "jobs_df.drop_duplicates(inplace=True)"
   ]
  },
  {
   "cell_type": "code",
   "execution_count": 146,
   "id": "f387512a",
   "metadata": {},
   "outputs": [
    {
     "data": {
      "text/plain": [
       "np.int64(0)"
      ]
     },
     "execution_count": 146,
     "metadata": {},
     "output_type": "execute_result"
    }
   ],
   "source": [
    "jobs_df.duplicated().sum()"
   ]
  },
  {
   "cell_type": "markdown",
   "id": "c7724ac2-4ea2-4cf4-a9e0-e64368f87b92",
   "metadata": {},
   "source": [
    "#### 6. Completeness: \n",
    "Ensure that no critical data is missing. This might mean checking for null values or required fields that are empty.\n",
    "\n",
    "We will start by checking the dataset for missing or null values. For this, we can use the isna() method which returns a dataframe of boolean values indicating if a field is null or not. To group all missing values by column, we can include the sum() method."
   ]
  },
  {
   "cell_type": "code",
   "execution_count": 147,
   "id": "fa69632c",
   "metadata": {},
   "outputs": [
    {
     "data": {
      "text/plain": [
       "(1354, 9)"
      ]
     },
     "execution_count": 147,
     "metadata": {},
     "output_type": "execute_result"
    }
   ],
   "source": [
    "jobs_df.shape"
   ]
  },
  {
   "cell_type": "code",
   "execution_count": 148,
   "id": "48a4de54-a344-4b94-9908-9528c15c13f7",
   "metadata": {},
   "outputs": [
    {
     "name": "stdout",
     "output_type": "stream",
     "text": [
      "<class 'pandas.core.frame.DataFrame'>\n",
      "Index: 1354 entries, 0 to 1468\n",
      "Data columns (total 9 columns):\n",
      " #   Column     Non-Null Count  Dtype \n",
      "---  ------     --------------  ----- \n",
      " 0   job_title  1354 non-null   object\n",
      " 1   comp_name  1354 non-null   object\n",
      " 2   comp_no    1354 non-null   object\n",
      " 3   region     1354 non-null   object\n",
      " 4   city       1354 non-null   object\n",
      " 5   benefits   1354 non-null   object\n",
      " 6   contract   1354 non-null   object\n",
      " 7   exper      1354 non-null   object\n",
      " 8   gender     1354 non-null   object\n",
      "dtypes: object(9)\n",
      "memory usage: 105.8+ KB\n"
     ]
    }
   ],
   "source": [
    "#Display number missing values per column\n",
    "jobs_df.info()"
   ]
  },
  {
   "cell_type": "code",
   "execution_count": 149,
   "id": "abec31c4-0904-4b73-8cee-b7bc14ab1e67",
   "metadata": {},
   "outputs": [],
   "source": [
    "# go to clean them \n",
    "# No missing values in the dataset"
   ]
  },
  {
   "cell_type": "markdown",
   "id": "b40de63c-5a1d-49ed-a87e-c5229ee08bbe",
   "metadata": {},
   "source": [
    "#### 7. Check Accuracy:\n",
    "\n",
    "Verify that the data is correct and precise. This could involve comparing data samples with known sources or using validation rules.\n",
    "\n",
    "**The process includes:**\n",
    "1. Validating the appropriateness of data types for the dataset.\n",
    "2. Identifying outliers  using established validation  rule"
   ]
  },
  {
   "cell_type": "code",
   "execution_count": 150,
   "id": "68be5334-ae10-4abd-8097-3259fe5e72c8",
   "metadata": {},
   "outputs": [
    {
     "data": {
      "text/plain": [
       "job_title    object\n",
       "comp_name    object\n",
       "comp_no      object\n",
       "region       object\n",
       "city         object\n",
       "benefits     object\n",
       "contract     object\n",
       "exper        object\n",
       "gender       object\n",
       "dtype: object"
      ]
     },
     "execution_count": 150,
     "metadata": {},
     "output_type": "execute_result"
    }
   ],
   "source": [
    "# check columns types \n",
    "jobs_df.dtypes"
   ]
  },
  {
   "cell_type": "code",
   "execution_count": 151,
   "id": "2ee790ba-dcc0-45f1-b6f8-0133e913e149",
   "metadata": {},
   "outputs": [
    {
     "data": {
      "text/plain": [
       "region\n",
       "الرياض             571\n",
       "مكة المكرمة        339\n",
       "المنطقة الشرقية    206\n",
       "المدينة المنورة     75\n",
       "الباحة              45\n",
       "عسير                37\n",
       "القصيم              29\n",
       "حائل                18\n",
       "تبوك                11\n",
       "نجران                8\n",
       "جازان                7\n",
       "الحدود الشمالية      4\n",
       "الجوف                3\n",
       "اخرى                 1\n",
       "Name: count, dtype: int64"
      ]
     },
     "execution_count": 151,
     "metadata": {},
     "output_type": "execute_result"
    }
   ],
   "source": [
    "# go to clean them \n",
    "jobs_df['region'].value_counts()"
   ]
  },
  {
   "cell_type": "code",
   "execution_count": 152,
   "id": "f9cbb12b",
   "metadata": {},
   "outputs": [
    {
     "data": {
      "text/plain": [
       "array(['الرياض', 'المنطقة الشرقية', 'مكة المكرمة', 'حائل',\n",
       "       'المدينة المنورة', 'الباحة', 'عسير', 'القصيم', 'تبوك', 'جازان',\n",
       "       'الحدود الشمالية', 'نجران', 'الجوف', 'اخرى'], dtype=object)"
      ]
     },
     "execution_count": 152,
     "metadata": {},
     "output_type": "execute_result"
    }
   ],
   "source": [
    "jobs_df['region'].unique()"
   ]
  },
  {
   "cell_type": "code",
   "execution_count": 153,
   "id": "d41ed41b",
   "metadata": {},
   "outputs": [
    {
     "data": {
      "text/html": [
       "<div>\n",
       "<style scoped>\n",
       "    .dataframe tbody tr th:only-of-type {\n",
       "        vertical-align: middle;\n",
       "    }\n",
       "\n",
       "    .dataframe tbody tr th {\n",
       "        vertical-align: top;\n",
       "    }\n",
       "\n",
       "    .dataframe thead th {\n",
       "        text-align: right;\n",
       "    }\n",
       "</style>\n",
       "<table border=\"1\" class=\"dataframe\">\n",
       "  <thead>\n",
       "    <tr style=\"text-align: right;\">\n",
       "      <th></th>\n",
       "      <th>job_title</th>\n",
       "      <th>comp_name</th>\n",
       "      <th>comp_no</th>\n",
       "      <th>region</th>\n",
       "      <th>city</th>\n",
       "      <th>benefits</th>\n",
       "      <th>contract</th>\n",
       "      <th>exper</th>\n",
       "      <th>gender</th>\n",
       "    </tr>\n",
       "  </thead>\n",
       "  <tbody>\n",
       "    <tr>\n",
       "      <th>499</th>\n",
       "      <td>محاسب</td>\n",
       "      <td>مؤسسة سلاسل بابل للمقاولات</td>\n",
       "      <td>13-97350</td>\n",
       "      <td>اخرى</td>\n",
       "      <td>ABU TARFA...</td>\n",
       "      <td>['Salary', '4000.0']</td>\n",
       "      <td>دوام كامل</td>\n",
       "      <td>0 Years</td>\n",
       "      <td>F</td>\n",
       "    </tr>\n",
       "  </tbody>\n",
       "</table>\n",
       "</div>"
      ],
      "text/plain": [
       "    job_title                   comp_name   comp_no region          city  \\\n",
       "499     محاسب  مؤسسة سلاسل بابل للمقاولات  13-97350   اخرى  ABU TARFA...   \n",
       "\n",
       "                 benefits   contract    exper gender  \n",
       "499  ['Salary', '4000.0']  دوام كامل  0 Years      F  "
      ]
     },
     "execution_count": 153,
     "metadata": {},
     "output_type": "execute_result"
    }
   ],
   "source": [
    "jobs_df[jobs_df['region'] == 'اخرى']"
   ]
  },
  {
   "cell_type": "code",
   "execution_count": 154,
   "id": "b1f45171",
   "metadata": {},
   "outputs": [],
   "source": [
    "jobs_df.drop(jobs_df[jobs_df['region'] == 'اخرى'].index, inplace=True)"
   ]
  },
  {
   "cell_type": "code",
   "execution_count": 155,
   "id": "9e81f679",
   "metadata": {},
   "outputs": [
    {
     "data": {
      "text/plain": [
       "array(['الرياض', 'المنطقة الشرقية', 'مكة المكرمة', 'حائل',\n",
       "       'المدينة المنورة', 'الباحة', 'عسير', 'القصيم', 'تبوك', 'جازان',\n",
       "       'الحدود الشمالية', 'نجران', 'الجوف'], dtype=object)"
      ]
     },
     "execution_count": 155,
     "metadata": {},
     "output_type": "execute_result"
    }
   ],
   "source": [
    "jobs_df['region'].unique()"
   ]
  },
  {
   "cell_type": "code",
   "execution_count": 156,
   "id": "7c814f96",
   "metadata": {},
   "outputs": [
    {
     "data": {
      "text/plain": [
       "array([\"['Salary', '5000.0']\", \"['Salary', '4000.0']\",\n",
       "       \"['Salary', '4500.0']\", \"['Salary', '6000.0']\",\n",
       "       \"['Salary', '8000.0']\", \"['Salary', '10000.0']\",\n",
       "       \"['Salary', '7200.0', 'Benefits', 'بدل نقل 800 ريال']\",\n",
       "       \"['Salary', '7000.0']\", \"['Salary', '3000.0']\",\n",
       "       \"['Salary', '9000.0']\", \"['Salary', '12000.0']\",\n",
       "       \"['Salary', '5500.0']\", \"['Salary', '8400.0']\",\n",
       "       \"['Salary', '4000.0', 'Benefits', '500']\",\n",
       "       \"['Salary', '4000.0', 'Benefits', '2000']\",\n",
       "       \"['Salary', '4000.0', 'Benefits', 'تأمين طبي حسب نظام مكتب العمل']\",\n",
       "       \"['Salary', '4000.0', 'Benefits', '1000 حسب الخبره']\",\n",
       "       \"['Salary', '4000.0', 'Benefits', '4000 SR']\",\n",
       "       \"['Salary', '3200.0', 'Benefits', '3200 ريال']\",\n",
       "       \"['Salary', '5000.0', 'Benefits', '500 بدل نقل و500 بدل سكن وتامين طبي']\",\n",
       "       \"['Salary', '4500.0', 'Benefits', 'حسب سنوات الخبرة']\",\n",
       "       \"['Salary', '4500.0', 'Benefits', 'تارقت شهري', 'بونص سنوي']\",\n",
       "       \"['Salary', '4500.0', 'Benefits', 'اجازه يومين بالاسبوع ']\",\n",
       "       \"['Salary', '4170.0', 'Benefits', 'بدل نقل 400']\",\n",
       "       \"['Salary', '4500.0', 'Benefits', 'تأمين طبي+ اجازة يوم واحد ']\",\n",
       "       \"['Salary', '4000.0', 'Benefits', 'ستكون مزايا اخرى في حال اتقان العمل']\",\n",
       "       \"['Salary', '4500.0', 'Benefits', 'تحدد عند المقابلة ']\",\n",
       "       \"['Salary', '4000.0', 'Benefits', 'تامين طبي ']\",\n",
       "       \"['Salary', '4000.0', 'Benefits', 'تامين طبي']\",\n",
       "       \"['Salary', '5500.0', 'Benefits', '500 ']\", \"['Salary', '3640.0']\",\n",
       "       \"['Salary', '8000.0', 'Benefits', 'عمولة على الدخل']\",\n",
       "       \"['Salary', '5250.0', 'Benefits', 'بدل نقل 450 ريال', '', 'اجازة يومي الجمعة والسبت']\",\n",
       "       \"['Salary', '5000.0', 'Benefits', 'بعد المقابلة ']\",\n",
       "       \"['Salary', '4000.0', 'Benefits', 'مكافأت شهرية ', 'حوافز اسبوعية']\",\n",
       "       \"['Salary', '7000.0', 'Benefits', '  ']\",\n",
       "       \"['Salary', '4000.0', 'Benefits', 'يتم الاتفاق عليها عند العمل ']\",\n",
       "       \"['Salary', '5000.0', 'Benefits', 'عمولات وزياده في حال اتقان العمل ']\",\n",
       "       \"['Salary', '5500.0', 'Benefits', 'نسبة على الرد ']\",\n",
       "       \"['Salary', '6000.0', 'Benefits', 'تامين طبي وتامين اجتماعي']\",\n",
       "       \"['Salary', '4400.0', 'Benefits', 'اضافي ']\",\n",
       "       \"['Salary', '4000.0', 'Benefits', 'بدلات اخرى 500']\",\n",
       "       \"['Salary', '3200.0']\", \"['Salary', '4082.0', 'Benefits', '326']\",\n",
       "       \"['Salary', '7000.0', 'Benefits', 'بدل مواصلات ', 'يحدد الراتب بعد المقابلة الشخصية بما لا يقل عن 7000 الاف اجر للاشتراك']\",\n",
       "       \"['Salary', '5000.0', 'Benefits', 'بدل مواصلات 400']\",\n",
       "       \"['Salary', '4000.0', 'Benefits', 'لايوجد']\",\n",
       "       \"['Salary', '8000.0', 'Benefits', 'تحدد بعد المقابلة الشخصية ']\",\n",
       "       \"['Salary', '5000.0', 'Benefits', 'بدل مواصلات 400 ريال']\",\n",
       "       \"['Salary', '6150.0']\",\n",
       "       \"['Salary', '6500.0', 'Benefits', 'تامين طبي ', 'اجازه سنويه 21 مدفعة الاجر ']\",\n",
       "       \"['Salary', '4400.0']\",\n",
       "       \"['Salary', '5000.0', 'Benefits', 'بدل نقل 400 ريال', 'اجازة مدفوعة الاجر 30 يوم بالسنة', 'تأمين طبي للموظف وعائلته']\",\n",
       "       \"['Salary', '5000.0', 'Benefits', '300']\",\n",
       "       \"['Salary', '4000.0', 'Benefits', 'بدل مواصلات 500 ']\",\n",
       "       \"['Salary', '15000.0']\", \"['Salary', '16000.0']\",\n",
       "       \"['Salary', '5000.0', 'Benefits', 'تامين طبي']\",\n",
       "       \"['Salary', '4500.0', 'Benefits', 'تأمين طب ']\",\n",
       "       \"['Salary', '4500.0', 'Benefits', 'الراتب شامل بدل سكن + بدل مواصلات ']\",\n",
       "       \"['Salary', '7000.0', 'Benefits', 'تأمين طبي ممتاز ']\",\n",
       "       \"['Salary', '5000.0', 'Benefits', 'تأمين طبي']\",\n",
       "       \"['Salary', '6500.0']\",\n",
       "       \"['Salary', '3000.0', 'Benefits', ' الدوام 4 ساعات مساء من 5 عصر  الي 9 مساء ', 'مكتب مقاولات عامة ']\",\n",
       "       \"['Salary', '5700.0']\",\n",
       "       \"['Salary', '5500.0', 'Benefits', 'بدل مواصلات 500']\",\n",
       "       \"['Salary', '5000.0', 'Benefits', 'بدل أنتقال', 'حوافز على المبيعات']\",\n",
       "       \"['Salary', '4000.0', 'Benefits', 'بدل تنقل ', 'حوافز ماديه على المبيعات ']\",\n",
       "       \"['Salary', '4000.0', 'Benefits', '400تامينات اجتماعية ']\",\n",
       "       \"['Salary', '4000.0', 'Benefits', 'الراتب يتحدد بعد المقابلة الشخصية ']\",\n",
       "       \"['Salary', '10000.0', 'Benefits', 'الراتب يتراوح من 10000 الى 15000 ويتحدد بعد المقابلة الشخصية ']\",\n",
       "       \"['Salary', '5000.0', 'Benefits', 'الراتب الاساسي يتحدد بعد المقابلة ']\",\n",
       "       \"['Salary', '4000.0', 'Benefits', 'الراتب يتحدد بعد المقابله الشخصية ']\",\n",
       "       \"['Salary', '4782.0']\",\n",
       "       \"['Salary', '3200.0', 'Benefits', 'تأمين طبي']\",\n",
       "       \"['Salary', '7000.0', 'Benefits', '* تامين طبي']\",\n",
       "       \"['Salary', '5000.0', 'Benefits', '* تأمين طبي']\",\n",
       "       \"['Salary', '6000.0', 'Benefits', '0']\",\n",
       "       \"['Salary', '4000.0', 'Benefits', '0']\",\n",
       "       \"['Salary', '10000.0', 'Benefits', 'نسبة  30% علي دخل العيادة الخاصة به بعد 20000 ريال ']\",\n",
       "       \"['Salary', '4500.0', 'Benefits', 'تأمين طبي', 'دورات تدريبيه وتطويرية', 'مكأفأت معنويه ومادية']\",\n",
       "       \"['Salary', '4000.0', 'Benefits', '400']\",\n",
       "       \"['Salary', '4000.0', 'Benefits', 'عمولات عند تحقيق الهدف']\",\n",
       "       \"['Salary', '6000.0', 'Benefits', 'حوافز 3000 ريال شهري ', 'تامين طبي ', 'فرص عاليه للتطوير الوظيفي ']\",\n",
       "       \"['Salary', '4000.0', 'Benefits', 'مكافأت سنوية']\",\n",
       "       \"['Salary', '4375.0']\",\n",
       "       \"['Salary', '5000.0', 'Benefits', 'الراتب شامل']\",\n",
       "       \"['Salary', '6500.0', 'Benefits', 'اجازه يومين في الاسبوع', 'خصومات لدى منسوبين', 'ومزايا اخرى تحدد وقت المقابلة الشخصية ']\",\n",
       "       \"['Salary', '4000.0', 'Benefits', 'يوجد بدل ساعات اضافيه ان لزم الامر']\",\n",
       "       \"['Salary', '5500.0', 'Benefits', 'حسب السيرة الذاتية']\",\n",
       "       \"['Salary', '4434.0', 'Benefits', 'شامل بدل السكن والمواصلات']\",\n",
       "       \"['Salary', '10000.0', 'Benefits', 'تأمين طبي للموظف ولأفراد اسرتة - بدل مواصلات']\",\n",
       "       \"['Salary', '6000.0', 'Benefits', 'بعد المقابلة الشخصية ']\",\n",
       "       \"['Salary', '6500.0', 'Benefits', 'بدلات اخرى +بدل مواصلات']\",\n",
       "       \"['Salary', '4000.0', 'Benefits', 'عمولة مبيعات ']\",\n",
       "       \"['Salary', '6000.0', 'Benefits', 'نسبة الخصم ال10% من التأمينات الاجتماعية مستردة للموظف']\",\n",
       "       \"['Salary', '13889.0']\", \"['Salary', '4444.0']\",\n",
       "       \"['Salary', '4800.0']\",\n",
       "       \"['Salary', '5000.0', 'Benefits', '- تأمين طبي ', '- دوات تدريبيه وتطويريه']\",\n",
       "       \"['Salary', '6000.0', 'Benefits', 'نسبة خصم التأمينات الاجتماعية ال10& مستردة للموظف']\",\n",
       "       \"['Salary', '4000.0', 'Benefits', 'حوافز مبيعات']\",\n",
       "       \"['Salary', '5000.0', 'Benefits', '500']\",\n",
       "       \"['Salary', '4500.0', 'Benefits', '600 بدل مواصلات']\",\n",
       "       \"['Salary', '4500.0', 'Benefits', 'تأمين طبي وعلاوت سنوية وحوافز حسب تقييم مهندسي المشروع']\",\n",
       "       \"['Salary', '4000.0', 'Benefits', 'تأمين طبي']\",\n",
       "       \"['Salary', '4000.0', 'Benefits', 'عمولة على المبيعات ', 'تأمين طبي', '4000 رابت صافي بعد استقطاع اشتراك التامينات الاجتماعية ']\",\n",
       "       \"['Salary', '4000.0', 'Benefits', 'حسب سياسات الشركة ']\",\n",
       "       \"['Salary', '5625.0', 'Benefits', 'عمولات ']\",\n",
       "       \"['Salary', '9200.0', 'Benefits', 'الرواتب تعتمد على توصيل الطرود ']\",\n",
       "       \"['Salary', '5600.0']\", \"['Salary', '8803.0']\",\n",
       "       \"['Salary', '4000.0', 'Benefits', 'تامين طبي', 'تامينات', 'تدريب ']\",\n",
       "       \"['Salary', '4000.0', 'Benefits', 'فرص للترقي وزياده الراتب والعمولات البيعيه']\",\n",
       "       \"['Salary', '4000.0', 'Benefits', 'مكافئات شهرية', 'علاوات سنوية ']\",\n",
       "       \"['Salary', '6000.0', 'Benefits', 'عمولة مبيعات، تأمين طبي']\",\n",
       "       \"['Salary', '4000.0', 'Benefits', 'عمولات']\",\n",
       "       \"['Salary', '3200.0', 'Benefits', 'تسجيل تامينات الاجتماعية']\",\n",
       "       \"['Salary', '4000.0', 'Benefits', 'عمولة عند تحقيق هدف المبيعات الشهري']\",\n",
       "       \"['Salary', '6000.0', 'Benefits', 'عمولات ربع سنوية']\",\n",
       "       \"['Salary', '6000.0', 'Benefits', 'عمولات كل ربع سنة']\",\n",
       "       \"['Salary', '3500.0']\",\n",
       "       \"['Salary', '5093.0', 'Benefits', 'بدل نقل: 407 ريال ']\",\n",
       "       \"['Salary', '5800.0']\",\n",
       "       \"['Salary', '9000.0', 'Benefits', 'الراتب الاجمالي 9000 قابل للزيادة حسب المقابلة الشخصية']\",\n",
       "       \"['Salary', '4000.0', 'Benefits', ' ']\", \"['Salary', '5625.0']\",\n",
       "       \"['Salary', '6000.0', 'Benefits', 'ــ الراتب من 7000 إلى 8000 ريال بحسب المقابلة الشخصية ', 'ــ تأمين طبي بحسب اللائحة الداخلية . ']\",\n",
       "       \"['Salary', '5000.0', 'Benefits', '1- التامين الطبي ', '2- اجازات سنويه 30 ', '3- خصم للوالدين 50%', '4- خصم للاخوان 30%', '5- زيادة سنوية 4% حسب تقييم السنوية ']\",\n",
       "       \"['Salary', '5000.0', 'Benefits', 'ارسال السيرة الذاتية على اميل ', 'salih_1434h@hotmail.com']\",\n",
       "       \"['Salary', '5000.0', 'Benefits', 'بدل مواصلات']\",\n",
       "       \"['Salary', '5200.0']\",\n",
       "       \"['Salary', '8000.0', 'Benefits', 'ان يكون الخبرة فوق 10 سنوات ', 'ويكون مسجل في الهيئة السعودية للمهندسين محترف']\",\n",
       "       \"['Salary', '4000.0', 'Benefits', 'فرص للترقي']\",\n",
       "       \"['Salary', '8500.0', 'Benefits', 'تأمين طبي']\",\n",
       "       \"['Salary', '4000.0', 'Benefits', 'مكافآت سنويه']\",\n",
       "       \"['Salary', '3600.0']\",\n",
       "       \"['Salary', '6000.0', 'Benefits', 'بدل خارج دوام -- مواصلات  ']\",\n",
       "       \"['Salary', '6000.0', 'Benefits', 'تحدد بعد المقابله']\",\n",
       "       \"['Salary', '7000.0', 'Benefits', 'يحدد بعد المقابله']\",\n",
       "       \"['Salary', '7500.0']\", \"['Salary', '4408.0']\",\n",
       "       \"['Salary', '5500.0', 'Benefits', 'عمولات ']\",\n",
       "       \"['Salary', '4000.0', 'Benefits', 'بدل مواصلات + عمولة مبيعات + تأمين طبي']\",\n",
       "       \"['Salary', '27000.0']\",\n",
       "       \"['Salary', '7500.0', 'Benefits', '600 بل مواصلات', 'تامين طبي']\",\n",
       "       \"['Salary', '4083.0', 'Benefits', '500 بدل مواصلات ', 'تامين طبي']\",\n",
       "       \"['Salary', '7000.0', 'Benefits', 'تامين طبي', 'اجازه يوم في الاسبوع', 'اجازه سنويه']\",\n",
       "       \"['Salary', '12000.0', 'Benefits', 'تامين طبي ', 'اجازه يوم في الاسبوع', 'اجازه سنويه']\",\n",
       "       \"['Salary', '5500.0', 'Benefits', 'راتب أساسي بدون بدلات']\",\n",
       "       \"['Salary', '5500.0', 'Benefits', 'راتب أساسي فقط']\",\n",
       "       \"['Salary', '5000.0', 'Benefits', 'عمولة مستهدفة من ارباح الفرع ']\",\n",
       "       \"['Salary', '10000.0', 'Benefits', 'راتب أساسي فقط']\",\n",
       "       \"['Salary', '4000.0', 'Benefits', 'عمولات بيع']\",\n",
       "       \"['Salary', '4600.0']\", \"['Salary', '8496.0']\",\n",
       "       \"['Salary', '6000.0', 'Benefits', 'تحدد بعد المقابله ']\",\n",
       "       \"['Salary', '6000.0', 'Benefits', '1000 بدل نقل']\",\n",
       "       \"['Salary', '4500.0', 'Benefits', 'تأمين طبي .']\",\n",
       "       \"['Salary', '4500.0', 'Benefits', 'بونص شهري حسب تحقيق الهدف']\",\n",
       "       \"['Salary', '8000.0', 'Benefits', 'مواصلات']\",\n",
       "       \"['Salary', '6000.0', 'Benefits', '1000']\", \"['Salary', '6250.0']\",\n",
       "       \"['Salary', '8333.0', 'Benefits', 'تأمين طبي وبدل نقل ']\",\n",
       "       \"['Salary', '5000.0', 'Benefits', 'تامين طبي', 'دورات تدريبيه', 'اخرى']\",\n",
       "       \"['Salary', '4000.0', 'Benefits', 'مكافئات تصل الى ١٠٠٠ شهريا']\",\n",
       "       \"['Salary', '4000.0', 'Benefits', 'مكافاة وحوافز ']\",\n",
       "       \"['Salary', '4000.0', 'Benefits', 'عمولات البيع']\",\n",
       "       \"['Salary', '5500.0', 'Benefits', 'زيادة سنوية وعموولات ']\",\n",
       "       \"['Salary', '32000.0', 'Benefits', 'حافز سنوي ( راتبين)', 'حوافز  حسب الاداء', 'تأمين طبي']\",\n",
       "       \"['Salary', '4000.0', 'Benefits', 'تأمينات + تأمين طبي']\",\n",
       "       \"['Salary', '12325.0']\",\n",
       "       \"['Salary', '4000.0', 'Benefits', 'حسب الكفاءة ومايتم تحديده بعد المقابلة الشخصية']\",\n",
       "       \"['Salary', '3500.0', 'Benefits', 'بدل نقل 500']\",\n",
       "       \"['Salary', '6583.0', 'Benefits', 'بدل المواصلات + تأمين طبي ']\",\n",
       "       \"['Salary', '6583.0', 'Benefits', 'بدل مواصلات + تأمين طبي']\",\n",
       "       \"['Salary', '4000.0', 'Benefits', 'تأمين طبي وتأمين اجتماعي']\",\n",
       "       \"['Salary', '6583.0', 'Benefits', 'بدل المواصلات + تأمين طبي']\",\n",
       "       \"['Salary', '4000.0', 'Benefits', 'مكافاءات نهاية السنة']\",\n",
       "       \"['Salary', '4000.0', 'Benefits', 'بدل تنقلات']\",\n",
       "       \"['Salary', '5500.0', 'Benefits', 'للعمل في مدينة جدة']\",\n",
       "       \"['Salary', '5000.0', 'Benefits', 'ساعات عمل مرنة']\",\n",
       "       \"['Salary', '4000.0', 'Benefits', 'بدل مواصلات']\",\n",
       "       \"['Salary', '5500.0', 'Benefits', 'خصم أبناء 40% من رسوم الأبناء ']\",\n",
       "       \"['Salary', '6000.0', 'Benefits', 'خصم ابناء 40% من رسوم التسجيل ']\",\n",
       "       \"['Salary', '4800.0', 'Benefits', 'خصم أبناء 40% من رسوم الأبناء ']\",\n",
       "       \"['Salary', '6500.0', 'Benefits', 'خصم أبناء 40%']\",\n",
       "       \"['Salary', '6000.0', 'Benefits', 'خصم أبناء 40% ']\",\n",
       "       \"['Salary', '7500.0', 'Benefits', 'خصم أبناء 40%']\",\n",
       "       \"['Salary', '8500.0', 'Benefits', 'خصم 40% من الرسوم الدراسية ']\",\n",
       "       \"['Salary', '6000.0', 'Benefits', 'خصم 40 % من الرسوم الدراسية ']\",\n",
       "       \"['Salary', '5599.0', 'Benefits', 'خصم 40% من رسوم تسجيل الأبناء في المدرسة ']\",\n",
       "       \"['Salary', '4500.0', 'Benefits', 'خصم أبناء 40% من الرسوم الدراسية ', 'تأمين طبي ', 'إجازات بين الفصول الدراسية مدفوعة']\",\n",
       "       \"['Salary', '3500.0', 'Benefits', '500 سكن']\",\n",
       "       \"['Salary', '4000.0', 'Benefits', 'حسب المقابله ']\",\n",
       "       \"['Salary', '5000.0', 'Benefits', 'بدل نقل']\",\n",
       "       \"['Salary', '5000.0', 'Benefits', 'عمولة مبيعات 1%']\",\n",
       "       \"['Salary', '8500.0']\",\n",
       "       \"['Salary', '5500.0', 'Benefits', 'تأمين طبي - اجازه سنويه - مكافئات سنويه - دورات تدريبيه']\",\n",
       "       \"['Salary', '9500.0']\", \"['Salary', '11000.0']\",\n",
       "       \"['Salary', '6000.0', 'Benefits', 'اخري ']\",\n",
       "       \"['Salary', '4750.0']\",\n",
       "       \"['Salary', '4000.0', 'Benefits', 'الراتب شامل 4000ريال كل شي']\",\n",
       "       \"['Salary', '4500.0', 'Benefits', 'وجود بونص بعد تحقيق الهدف و مكافأة تحفيزيه و جود تامين طبي ']\",\n",
       "       \"['Salary', '5000.0', 'Benefits', 'بدل موصلات + تأمين صحي']\",\n",
       "       \"['Salary', '3500.0', 'Benefits', 'عمولة مبيعات ']\",\n",
       "       \"['Salary', '4500.0', 'Benefits', 'بدلات ']\",\n",
       "       \"['Salary', '6000.0', 'Benefits', 'مزايا اخرى']\",\n",
       "       \"['Salary', '4000.0', 'Benefits', '2000  قد يختلف الراتب والمزايا بناء على اثر المقابلة ', 'العمل سيكون لساعات مححدة في اليوم مابين 4- 5 ساعات ', 'وقد يتم اختيار مواعيد العمل وفق لرغبة الموظف ', '', 'العمل شبه تطوعي في جمعية تعنى بخدمة المجتمع']\",\n",
       "       \"['Salary', '5000.0', 'Benefits', 'أوفر تايم - عمولات - أجازة يوم فالسبوع']\",\n",
       "       \"['Salary', '5000.0', 'Benefits', 'أوفر تايم عمولات - أجارز يوم فالاسبوع ']\",\n",
       "       \"['Salary', '5000.0', 'Benefits', 'أوفر تايم - أجارز يوم واحد في الاسبوع - عمولات اضافية ']\",\n",
       "       \"['Salary', '4320.0']\",\n",
       "       \"['Salary', '4630.0', 'Benefits', 'بدل التذاكر سنوياً حسب سياسة الشركة', 'التأمين الطبي للموظف والمعالين حسب مجلي الضمان الصحي']\",\n",
       "       \"['Salary', '4375.0', 'Benefits', '850 بدل نقل وطبيعة ']\",\n",
       "       \"['Salary', '5066.0']\",\n",
       "       \"['Salary', '4630.0', 'Benefits', 'بدل التذاكر سنوياً حسب سياسة الشركة', 'التأمين الطبي للموظف والمعالين حسب مجلس الضمان الصحي']\",\n",
       "       \"['Salary', '5000.0', 'Benefits', 'تأمين طبي ']\",\n",
       "       \"['Salary', '4000.0', 'Benefits', 'الراتب فى حدود 4000 الى 4500']\",\n",
       "       \"['Salary', '6000.0', 'Benefits', 'تذكرة سنوية ']\",\n",
       "       \"['Salary', '4687.0']\",\n",
       "       \"['Salary', '4625.0', 'Benefits', 'بدل مواصلات 375 ريال.', 'فترة عمل وردية واحدة.', 'يومين راحة في الاسبوع.']\",\n",
       "       \"['Salary', '6000.0', 'Benefits', '1000ريال بدل نقل ويمكن للجنة النظر في المزايا']\",\n",
       "       \"['Salary', '6000.0', 'Benefits', '1000 ريال بدل نقل ويمكن للجنة النظر في المزايا']\",\n",
       "       \"['Salary', '5000.0', 'Benefits', 'حوافز وعمولات ']\",\n",
       "       \"['Salary', '4000.0', 'Benefits', 'تسجيل بالتأمينات الاجتماعية ', 'تامين طبي ']\",\n",
       "       \"['Salary', '5000.0', 'Benefits', '300 بدل نقل', 'تأمين طبي']\",\n",
       "       \"['Salary', '7000.0', 'Benefits', '1000']\",\n",
       "       \"['Salary', '3200.0', 'Benefits', '1300 بدلات ومزايا ']\",\n",
       "       \"['Salary', '10250.0']\",\n",
       "       \"['Salary', '5000.0', 'Benefits', 'حوافز و مكافات شهرية']\",\n",
       "       \"['Salary', '4000.0', 'Benefits', 'تامين طبي + اجازة يوم واحد بالاسبوع']\",\n",
       "       \"['Salary', '5000.0', 'Benefits', 'راتب +اجازة سنوية مدفوعة +']\",\n",
       "       \"['Salary', '5040.0', 'Benefits', 'حسب سياسة المنشأة']\",\n",
       "       \"['Salary', '3198.0']\",\n",
       "       \"['Salary', '6000.0', 'Benefits', '500 بدل نقل']\",\n",
       "       \"['Salary', '4050.0']\",\n",
       "       \"['Salary', '4000.0', 'Benefits', 'عمولات ومكافآت ']\",\n",
       "       \"['Salary', '4000.0', 'Benefits', 'تأمين طبي ']\",\n",
       "       \"['Salary', '9600.0']\",\n",
       "       \"['Salary', '8000.0', 'Benefits', 'تأمين طبي']\",\n",
       "       \"['Salary', '3500.0', 'Benefits', 'جوال، بنزين لسيارة العمل ']\",\n",
       "       \"['Salary', '7000.0', 'Benefits', 'بدل المواصلات']\",\n",
       "       \"['Salary', '8500.0', 'Benefits', 'بدل المواصلات']\",\n",
       "       \"['Salary', '5600.0', 'Benefits', 'بدل مواصلات']\",\n",
       "       \"['Salary', '7000.0', 'Benefits', '0']\",\n",
       "       \"['Salary', '6000.0', 'Benefits', 'شامل البدلات']\",\n",
       "       \"['Salary', '6000.0', 'Benefits', 'شامل']\",\n",
       "       \"['Salary', '4000.0', 'Benefits', 'يوجد نسب على المبيعات اضافة على الراتب']\",\n",
       "       \"['Salary', '4000.0', 'Benefits', 'عمولة شهرية على مبيعات المعرض']\",\n",
       "       \"['Salary', '6000.0', 'Benefits', '2000 ريال حسب الخبرة']\",\n",
       "       \"['Salary', '4200.0']\",\n",
       "       \"['Salary', '3200.0', 'Benefits', 'أرسال السيره على الجوال0563952421']\",\n",
       "       \"['Salary', '8000.0', 'Benefits', 'الراتب من 8000 الى 15000']\",\n",
       "       \"['Salary', '4082.0']\",\n",
       "       \"['Salary', '4000.0', 'Benefits', 'عمولات مجزية']\",\n",
       "       \"['Salary', '35000.0']\", \"['Salary', '13200.0']\",\n",
       "       \"['Salary', '4000.0', 'Benefits', 'حوافز بيعية']\",\n",
       "       \"['Salary', '3000.0', 'Benefits', 'عمولة مبيعات']\",\n",
       "       \"['Salary', '5000.0', 'Benefits', 'وجبات موظفين']\",\n",
       "       \"['Salary', '4000.0', 'Benefits', '1000']\",\n",
       "       \"['Salary', '7500.0', 'Benefits', '1500']\", \"['Salary', '5271.0']\",\n",
       "       \"['Salary', '5500.0', 'Benefits', 'بدل مواصلات 1500 ريال']\",\n",
       "       \"['Salary', '5000.0', 'Benefits', 'التامين الطبي, حوافز , بيئة عمل احترافية ']\",\n",
       "       \"['Salary', '15532.0']\",\n",
       "       \"['Salary', '4667.0', 'Benefits', 'بدل انتقال= 333']\",\n",
       "       \"['Salary', '5500.0', 'Benefits', 'الراتب يحدد بعد المقابلة، وفقاً لطبيعة الدوام الذي يتفق عليه (كامل أو جزئي)(حضوري أو عن بعد) وعدد أيام العمل المطلوبة']\",\n",
       "       \"['Salary', '4000.0', 'Benefits', '5 ايام عمل يومين راحة', 'اجازة سنوية 21 يوم ']\",\n",
       "       \"['Salary', '4300.0', 'Benefits', 'حوافز سنوية في حال تحقيق خطة عمل المؤسسة']\",\n",
       "       \"['Salary', '12000.0', 'Benefits', 'تعتمد على المقابلة الشخصية و تشمل التسجيل في التأمينات و التأمين الصحي و بونص.']\",\n",
       "       \"['Salary', '4000.0', 'Benefits', 'بونص يبدء من 4 ال 10 بالمية + تارقت ']\",\n",
       "       \"['Salary', '4001.0']\", \"['Salary', '4500.0', 'Benefits', '1050']\",\n",
       "       \"['Salary', '5500.0', 'Benefits', 'تأمين طبي']\",\n",
       "       \"['Salary', '3300.0', 'Benefits', '00']\",\n",
       "       \"['Salary', '5500.0', 'Benefits', 'حوافز شهرية ومكافاة']\",\n",
       "       \"['Salary', '4000.0', 'Benefits', 'امكانية العمل لساعات اضافية وحوافز يتم الاتفاق عليها في حال نمو المبيعات ']\",\n",
       "       \"['Salary', '5000.0', 'Benefits', 'بدل مواصلات  + تامين طبي  ']\",\n",
       "       \"['Salary', '5483.0', 'Benefits', 'بدل مواصلات ', 'التامين الطبي ']\",\n",
       "       \"['Salary', '4000.0', 'Benefits', 'نسبة على القضايا التي يحضرها عن طريقة قابلة للنقاش ']\",\n",
       "       \"['Salary', '5625.0', 'Benefits', 'مزايا أخرى']\",\n",
       "       \"['Salary', '6250.0', 'Benefits', 'مزايا أخرى ']\",\n",
       "       \"['Salary', '7200.0', 'Benefits', 'بدل مواصلات: 800 ريال سعودي']\",\n",
       "       \"['Salary', '5000.0', 'Benefits', '500 بدل نقل']\",\n",
       "       \"['Salary', '5000.0', 'Benefits', 'بدل نقل 500 ريال']\",\n",
       "       \"['Salary', '4000.0', 'Benefits', 'بونص كل ثلاث اشهر راتب او راتبين حسب الاداء . ', 'نسبة ١ ٪\\\\u061c من اجمالي صافي المبيعات سنويا توزع على حسب الاحقية ']\",\n",
       "       \"['Salary', '5000.0', 'Benefits', '-الراتب يبدأ من 5000 ريال ويرتفع حسب خبرة ومهارات المتقدم ', '-بدل نقل ١٠٪ من الراتب الأساسي', '- تأمين طبي', '- اجازة يومين بالاسبوع']\",\n",
       "       \"['Salary', '5500.0', 'Benefits', '-الراتب يبدأ من 5500 ريال (شامل بدل السكن) ويرتفع حسب خبرة ومهارات المتقدم ', '-بدل نقل ١٠٪ من الراتب الاساسي', '- تأمين طبي', '- اجازة يومين بالاسبوع']\",\n",
       "       \"['Salary', '6000.0', 'Benefits', '-الراتب يبدأ من ٦٠٠٠ ريال ويرتفع حسب خبرة ومهارات المتقدم ', '- تأمين طبي', '- اجازة يومين بالاسبوع']\",\n",
       "       \"['Salary', '6000.0', 'Benefits', 'التامين الطبي ']\",\n",
       "       \"['Salary', '7000.0', 'Benefits', 'الراتب يتراوح من 5000 الى 8000 يتحدد بعد المقابلة وفترة التجربة .', '', 'عند اتمام البيع يوجد نسبه لكل بيعه ويود حافز حسن اداء يحدد من قبل المدير المباشر .']\",\n",
       "       \"['Salary', '5500.0', 'Benefits', '500 ريال بدلات']\",\n",
       "       \"['Salary', '4000.0', 'Benefits', 'حوفز']\",\n",
       "       \"['Salary', '5000.0', 'Benefits', '+ عمولة مبيعات']\",\n",
       "       \"['Salary', '4000.0', 'Benefits', 'عمولات ']\",\n",
       "       \"['Salary', '5000.0', 'Benefits', 'عمولة شهرية']\",\n",
       "       \"['Salary', '4500.0', 'Benefits', 'اجازة سنوية 21 وبعد 5 سنوات تصبح 30 يوم']\",\n",
       "       \"['Salary', '6000.0', 'Benefits', '1000 بدل نقل وللجنة تحديد الراتب بشكل كامل']\",\n",
       "       \"['Salary', '4000.0', 'Benefits', '1-تامين صحي.', '2-اجازة اسبوعية مرنه.', '3-عمولة بيع.']\",\n",
       "       \"['Salary', '7000.0', 'Benefits', 'عمولات بيع']\",\n",
       "       \"['Salary', '7000.0', 'Benefits', 'حسب الاتفاق']\",\n",
       "       \"['Salary', '4000.0', 'Benefits', 'عموله']\",\n",
       "       \"['Salary', '6000.0', 'Benefits', '4500 ريال راتب أساسي', '1000 ريال بد سكن', '500 ريال بدل إنتقال']\",\n",
       "       \"['Salary', '3500.0', 'Benefits', 'لا يوجد']\",\n",
       "       \"['Salary', '8000.0', 'Benefits', 'حوافز']\",\n",
       "       \"['Salary', '7000.0', 'Benefits', 'حوافز']\",\n",
       "       \"['Salary', '5000.0', 'Benefits', 'تأمين طبي', 'بدل نقل']\",\n",
       "       \"['Salary', '5000.0', 'Benefits', 'يتغير الراتب المحدد بناء على خبرات ومهارات المتقدم ']\",\n",
       "       \"['Salary', '5000.0', 'Benefits', 'تأمين طبي.', 'بدل نقل.']\",\n",
       "       \"['Salary', '5000.0', 'Benefits', 'التأمين الطبي.', 'بدل نقل.']\",\n",
       "       \"['Salary', '5000.0', 'Benefits', 'تأمين طبي.']\",\n",
       "       \"['Salary', '7000.0', 'Benefits', 'التأمين الطبي.']\",\n",
       "       \"['Salary', '7000.0', 'Benefits', 'تأمين طبي.']\",\n",
       "       \"['Salary', '7000.0', 'Benefits', '- تأمين طبي.']\",\n",
       "       \"['Salary', '6000.0', 'Benefits', 'الراتب تقريبيا ']\",\n",
       "       \"['Salary', '4000.0', 'Benefits', 'الراتب كامل بدون خصم ', '2 يومين اجازة في الاسبوع ']\",\n",
       "       \"['Salary', '7000.0', 'Benefits', 'بدل مواصلات + تامين طبي']\",\n",
       "       \"['Salary', '7757.0']\",\n",
       "       \"['Salary', '4000.0', 'Benefits', '1000 ريال بدلات أخرى ']\",\n",
       "       \"['Salary', '18000.0']\",\n",
       "       \"['Salary', '8000.0', 'Benefits', 'بعد المقابلة تحدد']\",\n",
       "       \"['Salary', '6000.0', 'Benefits', 'حوافز']\",\n",
       "       \"['Salary', '4000.0', 'Benefits', 'خبره']\",\n",
       "       \"['Salary', '7500.0', 'Benefits', 'تأمين طبي للموظف و عائلته']\",\n",
       "       \"['Salary', '10000.0', 'Benefits', 'بدل مواصلات']\",\n",
       "       \"['Salary', '7500.0', 'Benefits', 'يوجد مزايا تنافسية تحدد بعد المقابلة']\",\n",
       "       \"['Salary', '4000.0', 'Benefits', '500 مكافاة التزام + وجبة يومية مجانية للموظف ']\",\n",
       "       \"['Salary', '4500.0', 'Benefits', 'تامين طبي ', 'تامينات']\",\n",
       "       \"['Salary', '3500.0', 'Benefits', '1000 ريال بدلات اخرى ']\",\n",
       "       \"['Salary', '7000.0', 'Benefits', 'تأمين طبي']\",\n",
       "       \"['Salary', '3600.0', 'Benefits', 'بدل نقل 400 ريال']\",\n",
       "       \"['Salary', '3600.0', 'Benefits', 'بدل نقل 400 ريال ', 'بدل أداء  500 ريال ']\",\n",
       "       \"['Salary', '4000.0', 'Benefits', 'تأمينات']\",\n",
       "       \"['Salary', '4000.0', 'Benefits', 'حوافز ومكافأت']\",\n",
       "       \"['Salary', '5500.0', 'Benefits', 'يشترط وجود رخصه قياده']\",\n",
       "       \"['Salary', '4500.0', 'Benefits', 'بونص على التحصيل']\",\n",
       "       \"['Salary', '6999.0']\",\n",
       "       \"['Salary', '6000.0', 'Benefits', 'يوجد بدلات ومزايا ونسب شهرية وسنوية ']\",\n",
       "       \"['Salary', '15000.0', 'Benefits', 'بدل انتقال ']\",\n",
       "       \"['Salary', '4082.0', 'Benefits', 'موصلات 326']\",\n",
       "       \"['Salary', '4000.0', 'Benefits', '1. بيئة عمل ايجابية ومريحة', '2. قابلية التطور الوظيفي', '3. فريق عمل داعم وخلوق']\",\n",
       "       \"['Salary', '4000.0', 'Benefits', '1. بيئة عمل إيجابية محفزة مريحة .', '2. فرصة التطور الوظيفي .', '3. تقديم الدورات والدعم .']\",\n",
       "       \"['Salary', '9900.0']\",\n",
       "       \"['Salary', '5000.0', 'Benefits', 'عمولات يتم تحديدها على حسب المؤهلات']\",\n",
       "       \"['Salary', '4000.0', 'Benefits', 'تأمينات  ']\",\n",
       "       \"['Salary', '4082.0', 'Benefits', 'بدل موصلات 326']\",\n",
       "       \"['Salary', '5000.0', 'Benefits', 'فرص للترقي وزياده الراتب']\",\n",
       "       \"['Salary', '4000.0', 'Benefits', 'فرص للترقيه وزياده الراتب']\",\n",
       "       \"['Salary', '4000.0', 'Benefits', '600']\", \"['Salary', '4900.0']\",\n",
       "       \"['Salary', '4000.0', 'Benefits', 'بدل وقود ونقل 500 ريال ']\",\n",
       "       \"['Salary', '3000.0', 'Benefits', '0']\",\n",
       "       \"['Salary', '4000.0', 'Benefits', 'الراتب حسب المقابلة']\",\n",
       "       \"['Salary', '12400.0']\",\n",
       "       \"['Salary', '4200.0', 'Benefits', 'تأمين طبي حسب سياسة المنشأة']\",\n",
       "       \"['Salary', '6000.0', 'Benefits', 'تأمين طبي ', 'إجازة سنوية 21 يوم ']\",\n",
       "       \"['Salary', '5500.0', 'Benefits', '- تأمين طبي']\",\n",
       "       \"['Salary', '4000.0', 'Benefits', 'بونص وبدلات']\",\n",
       "       \"['Salary', '9259.0']\",\n",
       "       \"['Salary', '4000.0', 'Benefits', 'بدل خارج دوام/منطقة اخرى']\",\n",
       "       \"['Salary', '4000.0', 'Benefits', 'حسب المقابلة']\",\n",
       "       \"['Salary', '4000.0', 'Benefits', 'حسب المقابة ']\",\n",
       "       \"['Salary', '4000.0', 'Benefits', 'يتم التواصل وإرسال السيرة الذاتية علي رقم (0555636186)']\",\n",
       "       \"['Salary', '4000.0', 'Benefits', 'تأمين طبي + حوافز مالية ']\",\n",
       "       \"['Salary', '4000.0', 'Benefits', 'بإمكانه اللاستفادة من أنشطة النادي بدون مقابل خارج وقت العمل ']\",\n",
       "       \"['Salary', '7000.0', 'Benefits', 'تأمين صحي و بدل جوال ']\",\n",
       "       \"['Salary', '6000.0', 'Benefits', 'بدل نقل 5%']\",\n",
       "       \"['Salary', '4000.0', 'Benefits', 'لا يوجد']\",\n",
       "       \"['Salary', '5000.0', 'Benefits', 'بعد انتهاء فترة التدريب من الممكن زيادة الراتب']\",\n",
       "       \"['Salary', '5500.0', 'Benefits', 'هنالك مزايا آخرى سوف تحدد بعد المقابلة الشخصية والموافقة على المتقدم']\",\n",
       "       \"['Salary', '5000.0', 'Benefits', 'زيادة في الراتب بعد التجربة']\",\n",
       "       \"['Salary', '8000.0', 'Benefits', 'هنالك مزايا آخرى سوف تحدد بعد إجراء المقابلة الشخصية والموافقه على المتقدم']\",\n",
       "       \"['Salary', '5000.0', 'Benefits', 'تامين صحي']\",\n",
       "       \"['Salary', '12000.0', 'Benefits', 'عمولات بيع ']\",\n",
       "       \"['Salary', '7000.0', 'Benefits', 'مكافأة نهاية السنه على الإنجاز ']\",\n",
       "       \"['Salary', '4000.0', 'Benefits', 'عمولات حسب الاداء']\",\n",
       "       \"['Salary', '14000.0']\",\n",
       "       \"['Salary', '5000.0', 'Benefits', 'بدل نقل تأمين طبي']\",\n",
       "       \"['Salary', '4000.0', 'Benefits', 'بدل سكن']\",\n",
       "       \"['Salary', '4100.0']\",\n",
       "       \"['Salary', '5000.0', 'Benefits', 'عمولة مبيعات', 'بدل نقل ']\",\n",
       "       \"['Salary', '4000.0', 'Benefits', 'نسبة مبيعات']\",\n",
       "       \"['Salary', '4500.0', 'Benefits', 'تأمين طبي ', 'اجازة سنوية 21 يوم']\",\n",
       "       \"['Salary', '4500.0', 'Benefits', 'لايوجد ']\",\n",
       "       \"['Salary', '7000.0', 'Benefits', 'بدون']\",\n",
       "       \"['Salary', '4200.0', 'Benefits', 'تأمين طبي حسب سياسة الشركة']\",\n",
       "       \"['Salary', '5000.0', 'Benefits', 'بدل المواصلات 1000']\",\n",
       "       \"['Salary', '5556.0']\",\n",
       "       \"['Salary', '5000.0', 'Benefits', 'عموله']\",\n",
       "       \"['Salary', '4000.0', 'Benefits', 'اجازة سنوية 30 يوم ']\"],\n",
       "      dtype=object)"
      ]
     },
     "execution_count": 156,
     "metadata": {},
     "output_type": "execute_result"
    }
   ],
   "source": [
    "jobs_df['benefits'].unique()"
   ]
  },
  {
   "cell_type": "code",
   "execution_count": 157,
   "id": "b3b9694b",
   "metadata": {},
   "outputs": [],
   "source": [
    "import re\n",
    "jobs_df['salary (SAR)'] = jobs_df['benefits'].apply(lambda x: float(re.search(r\"\\d+\\.\\d+\", x).group()))"
   ]
  },
  {
   "cell_type": "code",
   "execution_count": 158,
   "id": "3ec59344",
   "metadata": {},
   "outputs": [
    {
     "data": {
      "text/html": [
       "<div>\n",
       "<style scoped>\n",
       "    .dataframe tbody tr th:only-of-type {\n",
       "        vertical-align: middle;\n",
       "    }\n",
       "\n",
       "    .dataframe tbody tr th {\n",
       "        vertical-align: top;\n",
       "    }\n",
       "\n",
       "    .dataframe thead th {\n",
       "        text-align: right;\n",
       "    }\n",
       "</style>\n",
       "<table border=\"1\" class=\"dataframe\">\n",
       "  <thead>\n",
       "    <tr style=\"text-align: right;\">\n",
       "      <th></th>\n",
       "      <th>job_title</th>\n",
       "      <th>comp_name</th>\n",
       "      <th>comp_no</th>\n",
       "      <th>region</th>\n",
       "      <th>city</th>\n",
       "      <th>benefits</th>\n",
       "      <th>contract</th>\n",
       "      <th>exper</th>\n",
       "      <th>gender</th>\n",
       "      <th>salary (SAR)</th>\n",
       "    </tr>\n",
       "  </thead>\n",
       "  <tbody>\n",
       "    <tr>\n",
       "      <th>0</th>\n",
       "      <td>محاسب</td>\n",
       "      <td>شركة مقر العالم للسفريات</td>\n",
       "      <td>1-317262</td>\n",
       "      <td>الرياض</td>\n",
       "      <td>AR RIYADH...</td>\n",
       "      <td>['Salary', '5000.0']</td>\n",
       "      <td>دوام كامل</td>\n",
       "      <td>0 Years</td>\n",
       "      <td>both</td>\n",
       "      <td>5000.0</td>\n",
       "    </tr>\n",
       "    <tr>\n",
       "      <th>1</th>\n",
       "      <td>بائع</td>\n",
       "      <td>شركة عالم الكهرباء للمقاولات</td>\n",
       "      <td>4-1324428</td>\n",
       "      <td>المنطقة الشرقية</td>\n",
       "      <td>AD DAMMAM...</td>\n",
       "      <td>['Salary', '5000.0']</td>\n",
       "      <td>دوام كامل</td>\n",
       "      <td>0 Years</td>\n",
       "      <td>both</td>\n",
       "      <td>5000.0</td>\n",
       "    </tr>\n",
       "  </tbody>\n",
       "</table>\n",
       "</div>"
      ],
      "text/plain": [
       "  job_title                     comp_name    comp_no           region  \\\n",
       "0     محاسب      شركة مقر العالم للسفريات   1-317262           الرياض   \n",
       "1      بائع  شركة عالم الكهرباء للمقاولات  4-1324428  المنطقة الشرقية   \n",
       "\n",
       "           city              benefits   contract    exper gender  salary (SAR)  \n",
       "0  AR RIYADH...  ['Salary', '5000.0']  دوام كامل  0 Years   both        5000.0  \n",
       "1  AD DAMMAM...  ['Salary', '5000.0']  دوام كامل  0 Years   both        5000.0  "
      ]
     },
     "execution_count": 158,
     "metadata": {},
     "output_type": "execute_result"
    }
   ],
   "source": [
    "jobs_df.head(2)"
   ]
  },
  {
   "cell_type": "code",
   "execution_count": 159,
   "id": "6e69d7e6",
   "metadata": {},
   "outputs": [
    {
     "data": {
      "text/plain": [
       "exper\n",
       "0 Years     765\n",
       "2 Years     401\n",
       "4 Years     141\n",
       "7 Years      29\n",
       "10 Years     14\n",
       "12 Years      3\n",
       "Name: count, dtype: int64"
      ]
     },
     "execution_count": 159,
     "metadata": {},
     "output_type": "execute_result"
    }
   ],
   "source": [
    "jobs_df['exper'].value_counts()"
   ]
  },
  {
   "cell_type": "code",
   "execution_count": 160,
   "id": "4e684053",
   "metadata": {},
   "outputs": [],
   "source": [
    "jobs_df['experience (years)'] = jobs_df['exper'].apply(lambda x: int(re.search(r\"\\d+\", x).group()))\n"
   ]
  },
  {
   "cell_type": "code",
   "execution_count": 161,
   "id": "0fd7378e",
   "metadata": {},
   "outputs": [
    {
     "data": {
      "text/html": [
       "<div>\n",
       "<style scoped>\n",
       "    .dataframe tbody tr th:only-of-type {\n",
       "        vertical-align: middle;\n",
       "    }\n",
       "\n",
       "    .dataframe tbody tr th {\n",
       "        vertical-align: top;\n",
       "    }\n",
       "\n",
       "    .dataframe thead th {\n",
       "        text-align: right;\n",
       "    }\n",
       "</style>\n",
       "<table border=\"1\" class=\"dataframe\">\n",
       "  <thead>\n",
       "    <tr style=\"text-align: right;\">\n",
       "      <th></th>\n",
       "      <th>job_title</th>\n",
       "      <th>comp_name</th>\n",
       "      <th>comp_no</th>\n",
       "      <th>region</th>\n",
       "      <th>city</th>\n",
       "      <th>benefits</th>\n",
       "      <th>contract</th>\n",
       "      <th>exper</th>\n",
       "      <th>gender</th>\n",
       "      <th>salary (SAR)</th>\n",
       "      <th>experience (years)</th>\n",
       "    </tr>\n",
       "  </thead>\n",
       "  <tbody>\n",
       "    <tr>\n",
       "      <th>0</th>\n",
       "      <td>محاسب</td>\n",
       "      <td>شركة مقر العالم للسفريات</td>\n",
       "      <td>1-317262</td>\n",
       "      <td>الرياض</td>\n",
       "      <td>AR RIYADH...</td>\n",
       "      <td>['Salary', '5000.0']</td>\n",
       "      <td>دوام كامل</td>\n",
       "      <td>0 Years</td>\n",
       "      <td>both</td>\n",
       "      <td>5000.0</td>\n",
       "      <td>0</td>\n",
       "    </tr>\n",
       "    <tr>\n",
       "      <th>1</th>\n",
       "      <td>بائع</td>\n",
       "      <td>شركة عالم الكهرباء للمقاولات</td>\n",
       "      <td>4-1324428</td>\n",
       "      <td>المنطقة الشرقية</td>\n",
       "      <td>AD DAMMAM...</td>\n",
       "      <td>['Salary', '5000.0']</td>\n",
       "      <td>دوام كامل</td>\n",
       "      <td>0 Years</td>\n",
       "      <td>both</td>\n",
       "      <td>5000.0</td>\n",
       "      <td>0</td>\n",
       "    </tr>\n",
       "  </tbody>\n",
       "</table>\n",
       "</div>"
      ],
      "text/plain": [
       "  job_title                     comp_name    comp_no           region  \\\n",
       "0     محاسب      شركة مقر العالم للسفريات   1-317262           الرياض   \n",
       "1      بائع  شركة عالم الكهرباء للمقاولات  4-1324428  المنطقة الشرقية   \n",
       "\n",
       "           city              benefits   contract    exper gender  \\\n",
       "0  AR RIYADH...  ['Salary', '5000.0']  دوام كامل  0 Years   both   \n",
       "1  AD DAMMAM...  ['Salary', '5000.0']  دوام كامل  0 Years   both   \n",
       "\n",
       "   salary (SAR)  experience (years)  \n",
       "0        5000.0                   0  \n",
       "1        5000.0                   0  "
      ]
     },
     "execution_count": 161,
     "metadata": {},
     "output_type": "execute_result"
    }
   ],
   "source": [
    "jobs_df.head(2)"
   ]
  },
  {
   "cell_type": "code",
   "execution_count": 162,
   "id": "1b7ca446",
   "metadata": {},
   "outputs": [
    {
     "data": {
      "text/plain": [
       "gender\n",
       "both    538\n",
       "M       442\n",
       "F       373\n",
       "Name: count, dtype: int64"
      ]
     },
     "execution_count": 162,
     "metadata": {},
     "output_type": "execute_result"
    }
   ],
   "source": [
    "jobs_df['gender'].value_counts()"
   ]
  },
  {
   "cell_type": "code",
   "execution_count": 163,
   "id": "491cb7be",
   "metadata": {},
   "outputs": [],
   "source": [
    "jobs_df['gender'] = jobs_df['gender'].replace({'M': 'Male', 'F': 'Female'})"
   ]
  },
  {
   "cell_type": "code",
   "execution_count": 164,
   "id": "c857ca7b",
   "metadata": {},
   "outputs": [],
   "source": [
    "# Now no need for ['exper', 'benefits']\n",
    "jobs_df.drop(['exper', 'benefits'], axis=1, inplace=True)"
   ]
  },
  {
   "cell_type": "code",
   "execution_count": 165,
   "id": "4b1aff66",
   "metadata": {},
   "outputs": [
    {
     "data": {
      "text/html": [
       "<div>\n",
       "<style scoped>\n",
       "    .dataframe tbody tr th:only-of-type {\n",
       "        vertical-align: middle;\n",
       "    }\n",
       "\n",
       "    .dataframe tbody tr th {\n",
       "        vertical-align: top;\n",
       "    }\n",
       "\n",
       "    .dataframe thead th {\n",
       "        text-align: right;\n",
       "    }\n",
       "</style>\n",
       "<table border=\"1\" class=\"dataframe\">\n",
       "  <thead>\n",
       "    <tr style=\"text-align: right;\">\n",
       "      <th></th>\n",
       "      <th>job_title</th>\n",
       "      <th>comp_name</th>\n",
       "      <th>comp_no</th>\n",
       "      <th>region</th>\n",
       "      <th>city</th>\n",
       "      <th>contract</th>\n",
       "      <th>gender</th>\n",
       "      <th>salary (SAR)</th>\n",
       "      <th>experience (years)</th>\n",
       "    </tr>\n",
       "  </thead>\n",
       "  <tbody>\n",
       "    <tr>\n",
       "      <th>132</th>\n",
       "      <td>محاسب</td>\n",
       "      <td>شركة خدمات اطلس الدوليه</td>\n",
       "      <td>1-276827</td>\n",
       "      <td>الرياض</td>\n",
       "      <td>ABA ASLAB...</td>\n",
       "      <td>دوام كامل</td>\n",
       "      <td>both</td>\n",
       "      <td>6000.0</td>\n",
       "      <td>0</td>\n",
       "    </tr>\n",
       "    <tr>\n",
       "      <th>726</th>\n",
       "      <td>مدير عام</td>\n",
       "      <td>شركة طاولة سبعة لتقديم الوجبات</td>\n",
       "      <td>9-2113656</td>\n",
       "      <td>مكة المكرمة</td>\n",
       "      <td>JEDDAH...</td>\n",
       "      <td>دوام كامل</td>\n",
       "      <td>Female</td>\n",
       "      <td>6000.0</td>\n",
       "      <td>4</td>\n",
       "    </tr>\n",
       "    <tr>\n",
       "      <th>74</th>\n",
       "      <td>موظف صندوق محاسبة</td>\n",
       "      <td>مركز مناهل ديرتي لتجارة الجملة و التجزئة</td>\n",
       "      <td>13-79139</td>\n",
       "      <td>مكة المكرمة</td>\n",
       "      <td>MAKKAH AL...</td>\n",
       "      <td>دوام كامل</td>\n",
       "      <td>Male</td>\n",
       "      <td>4000.0</td>\n",
       "      <td>0</td>\n",
       "    </tr>\n",
       "    <tr>\n",
       "      <th>123</th>\n",
       "      <td>صراف عملات</td>\n",
       "      <td>شركة سالم سليم دخيل الله اللهيبي واولاده للصرافه</td>\n",
       "      <td>10-1444687</td>\n",
       "      <td>المدينة المنورة</td>\n",
       "      <td>AL MADINA...</td>\n",
       "      <td>دوام كامل</td>\n",
       "      <td>Male</td>\n",
       "      <td>4500.0</td>\n",
       "      <td>0</td>\n",
       "    </tr>\n",
       "    <tr>\n",
       "      <th>104</th>\n",
       "      <td>سكرتير تنفيذي</td>\n",
       "      <td>مؤسسة رحلة الإنجاز للمقاولات</td>\n",
       "      <td>13-1737029</td>\n",
       "      <td>مكة المكرمة</td>\n",
       "      <td>MAKKAH AL...</td>\n",
       "      <td>دوام كامل</td>\n",
       "      <td>Male</td>\n",
       "      <td>4000.0</td>\n",
       "      <td>2</td>\n",
       "    </tr>\n",
       "    <tr>\n",
       "      <th>380</th>\n",
       "      <td>فني صيانة ميكانيكية</td>\n",
       "      <td>شركة الحبيب للتجارة والتعهدات التجارية المحدودة</td>\n",
       "      <td>9-170461</td>\n",
       "      <td>المنطقة الشرقية</td>\n",
       "      <td>AL QATIF...</td>\n",
       "      <td>دوام كامل</td>\n",
       "      <td>Male</td>\n",
       "      <td>5700.0</td>\n",
       "      <td>0</td>\n",
       "    </tr>\n",
       "    <tr>\n",
       "      <th>255</th>\n",
       "      <td>فني تجهيز طباعة</td>\n",
       "      <td>مؤسسة القصيم للخدمات الطلابية</td>\n",
       "      <td>3-1954839</td>\n",
       "      <td>القصيم</td>\n",
       "      <td>BURAYDAH...</td>\n",
       "      <td>دوام كامل</td>\n",
       "      <td>both</td>\n",
       "      <td>4000.0</td>\n",
       "      <td>0</td>\n",
       "    </tr>\n",
       "  </tbody>\n",
       "</table>\n",
       "</div>"
      ],
      "text/plain": [
       "               job_title                                         comp_name  \\\n",
       "132                محاسب                           شركة خدمات اطلس الدوليه   \n",
       "726             مدير عام                    شركة طاولة سبعة لتقديم الوجبات   \n",
       "74     موظف صندوق محاسبة          مركز مناهل ديرتي لتجارة الجملة و التجزئة   \n",
       "123           صراف عملات  شركة سالم سليم دخيل الله اللهيبي واولاده للصرافه   \n",
       "104        سكرتير تنفيذي                      مؤسسة رحلة الإنجاز للمقاولات   \n",
       "380  فني صيانة ميكانيكية   شركة الحبيب للتجارة والتعهدات التجارية المحدودة   \n",
       "255      فني تجهيز طباعة                     مؤسسة القصيم للخدمات الطلابية   \n",
       "\n",
       "        comp_no           region          city   contract  gender  \\\n",
       "132    1-276827           الرياض  ABA ASLAB...  دوام كامل    both   \n",
       "726   9-2113656      مكة المكرمة     JEDDAH...  دوام كامل  Female   \n",
       "74     13-79139      مكة المكرمة  MAKKAH AL...  دوام كامل    Male   \n",
       "123  10-1444687  المدينة المنورة  AL MADINA...  دوام كامل    Male   \n",
       "104  13-1737029      مكة المكرمة  MAKKAH AL...  دوام كامل    Male   \n",
       "380    9-170461  المنطقة الشرقية   AL QATIF...  دوام كامل    Male   \n",
       "255   3-1954839           القصيم   BURAYDAH...  دوام كامل    both   \n",
       "\n",
       "     salary (SAR)  experience (years)  \n",
       "132        6000.0                   0  \n",
       "726        6000.0                   4  \n",
       "74         4000.0                   0  \n",
       "123        4500.0                   0  \n",
       "104        4000.0                   2  \n",
       "380        5700.0                   0  \n",
       "255        4000.0                   0  "
      ]
     },
     "execution_count": 165,
     "metadata": {},
     "output_type": "execute_result"
    }
   ],
   "source": [
    "jobs_df.sample(7)"
   ]
  },
  {
   "cell_type": "code",
   "execution_count": 166,
   "id": "c69b303a-5459-45f9-a28e-fcee45c21c05",
   "metadata": {},
   "outputs": [
    {
     "name": "stderr",
     "output_type": "stream",
     "text": [
      "Summarize dataset: 100%|██████████| 22/22 [00:01<00:00, 20.77it/s, Completed]                                     \n",
      "Generate report structure: 100%|██████████| 1/1 [00:05<00:00,  5.79s/it]\n",
      "Render HTML: 100%|██████████| 1/1 [00:00<00:00,  2.97it/s]\n",
      "Export report to file: 100%|██████████| 1/1 [00:00<00:00, 131.46it/s]\n"
     ]
    }
   ],
   "source": [
    "# check outliers \n",
    "from ydata_profiling import ProfileReport\n",
    "import sweetviz as sv\n",
    "\n",
    "# Generate the YData Profiling report\n",
    "profile = ProfileReport(jobs_df, title=\"YData Profiling Report\")\n",
    "\n",
    "# Save the report as an HTML file\n",
    "profile.to_file(\"YData_Profiling_Report.html\")\n",
    "\n"
   ]
  },
  {
   "cell_type": "code",
   "execution_count": null,
   "id": "17583ed4",
   "metadata": {},
   "outputs": [],
   "source": []
  },
  {
   "cell_type": "markdown",
   "id": "4aca9d42-add6-45db-92cf-1f6dae5f277b",
   "metadata": {},
   "source": [
    "**What is an Outlier?** \n",
    "Outlier is an row/observation that appears far away and diverges from an overall pattern in a sample.\n",
    "\n",
    "**What are the types of Outliers?**\n",
    "1. Univariate: These outliers can be found when we look at distribution of a single variable\n",
    "2. Multivariate: are outliers in an n-dimensional space. In order to find them, you have to look at distributions in multi-dimensions. example (hight=100, weight=100) for a person\n",
    "\n",
    "**What causes Outliers?**\n",
    "Whenever we come across outliers, the ideal way to tackle them is to find out the reason of having these outliers. The method to deal with them would then depend on the reason of their occurrence.\n",
    "\n",
    "Let’s understand various types of outliers:\n",
    "\n",
    "1. Data Entry Errors:- Human errors such as errors caused during data collection, recording, or entry can cause outliers in data.\n",
    "2. Measurement Error: It is the most common source of outliers. This is caused when the measurement instrument used turns out to be faulty.\n",
    "3. Data Processing Error: Whenever we perform data mining, we extract data from multiple sources. It is possible that some manipulation or extraction errors may lead to outliers in the dataset.\n",
    "4. Sampling error: For instance, we have to measure the height of athletes. By mistake, we include a few basketball players in the sample. This inclusion is likely to cause outliers in the dataset.\n",
    "5. Natural Outlier: When an outlier is not artificial (due to error), it is a natural outlier. For instance: In my last assignment with one of the renowned insurance company, I noticed that the performance of top 50 financial advisors was far higher than rest of the population. Surprisingly, it was not due to any error. Hence, whenever we perform any data mining activity with advisors, we used to treat this segment separately.\n",
    "\n",
    "\n",
    "**What is the impact of Outliers on a dataset?**\n",
    "\n",
    "\n",
    "![image.png](https://www.analyticsvidhya.com/wp-content/uploads/2015/02/Outlier_31.png)\n",
    "\n",
    "\n",
    "\n",
    "**How to detect Outliers?**\n",
    "\n",
    "1. Most commonly used method to detect outliers is visualization (Univariate Graphical Analysis).\n",
    "\n",
    "We use 3 common visualization methods:\n",
    ">- Box-plot: A box plot is a method for graphically depicting groups of numerical data through their quartiles. The box extends from the Q1 to Q3 quartile values of the data, with a line at the median (Q2). The whiskers extend from the edges of the box to show the range of the data. Outlier points are those past the end of the whiskers. Box plots show robust measures of location and spread as well as providing information about symmetry and outliers.\n",
    ">\n",
    ">  \n",
    ">![image.png](https://miro.medium.com/v2/resize:fit:698/format:webp/1*VK5iHA2AB28HSZwWwUbNYg.png)\n",
    ">\n",
    ">\n",
    ">- Histogram\n",
    ">- Scatter Plot: A scatter plot is a mathematical diagram using Cartesian coordinates to display values for two variables for a set of data. The data are displayed as a collection of points, each having the value of one variable determining the position on the horizontal axis and the value of the other variable determining the position on the vertical axis. The points that are far from the population can be termed as an outlier.\n",
    ">\n",
    ">  \n",
    ">![image.png](https://miro.medium.com/v2/resize:fit:4800/format:webp/1*Ov6aH-8yIwNoUxtMFwgx4g.png)\n",
    ">\n",
    ">\n",
    "\n",
    "2. Using statistical method (Univariate Non-Graphical analysis):\n",
    ">- Any value, which is beyond the range of -1.5 x IQR to 1.5 x IQR\n",
    " \n",
    "![image.png](https://www.whatissixsigma.net/wp-content/uploads/2015/07/Box-Plot-Diagram-to-identify-Outliers-figure-1.png)\n",
    "\n",
    ">- Use capping methods. Any value which out of range of 5th and 95th percentile can be considered as outlier\n",
    ">- Data points, three or more standard deviation away from mean are considered outlier: The Z-score is the signed number of standard deviations by which the value of an observation or data point is above the mean value of what is being observed or measured. While calculating the Z-score we re-scale and center the data and look for data points that are too far from zero. These data points which are way too far from zero will be treated as the outliers. In most of the cases, a threshold of 3 or -3 is used i.e if the Z-score value is greater than or less than 3 or -3 respectively, that data point will be identified as outliers.\n",
    "> - Outlier detection is merely a special case of the examination of data for influential data points and it also depends on the business understanding\n"
   ]
  },
  {
   "cell_type": "code",
   "execution_count": 167,
   "id": "f0019559",
   "metadata": {},
   "outputs": [
    {
     "data": {
      "text/plain": [
       "(1353, 9)"
      ]
     },
     "execution_count": 167,
     "metadata": {},
     "output_type": "execute_result"
    }
   ],
   "source": [
    "jobs_df.shape"
   ]
  },
  {
   "cell_type": "code",
   "execution_count": 127,
   "id": "74ea6194-cc01-45d8-be38-c4543eb1714e",
   "metadata": {},
   "outputs": [],
   "source": [
    "# go to univariate graphical analysis\n",
    "# go to lesson : data visualisation 1 - chart type section\n",
    "# then go to univariate graphical analysis\n",
    "# detect outliers using graphs varbaly"
   ]
  },
  {
   "cell_type": "code",
   "execution_count": 169,
   "id": "27d51e29",
   "metadata": {},
   "outputs": [
    {
     "data": {
      "text/html": [
       "<div>\n",
       "<style scoped>\n",
       "    .dataframe tbody tr th:only-of-type {\n",
       "        vertical-align: middle;\n",
       "    }\n",
       "\n",
       "    .dataframe tbody tr th {\n",
       "        vertical-align: top;\n",
       "    }\n",
       "\n",
       "    .dataframe thead th {\n",
       "        text-align: right;\n",
       "    }\n",
       "</style>\n",
       "<table border=\"1\" class=\"dataframe\">\n",
       "  <thead>\n",
       "    <tr style=\"text-align: right;\">\n",
       "      <th></th>\n",
       "      <th>job_title</th>\n",
       "      <th>comp_name</th>\n",
       "      <th>comp_no</th>\n",
       "      <th>region</th>\n",
       "      <th>city</th>\n",
       "      <th>contract</th>\n",
       "      <th>gender</th>\n",
       "      <th>salary (SAR)</th>\n",
       "      <th>experience (years)</th>\n",
       "    </tr>\n",
       "  </thead>\n",
       "  <tbody>\n",
       "    <tr>\n",
       "      <th>0</th>\n",
       "      <td>محاسب</td>\n",
       "      <td>شركة مقر العالم للسفريات</td>\n",
       "      <td>1-317262</td>\n",
       "      <td>الرياض</td>\n",
       "      <td>AR RIYADH...</td>\n",
       "      <td>دوام كامل</td>\n",
       "      <td>both</td>\n",
       "      <td>5000.0</td>\n",
       "      <td>0</td>\n",
       "    </tr>\n",
       "    <tr>\n",
       "      <th>1</th>\n",
       "      <td>بائع</td>\n",
       "      <td>شركة عالم الكهرباء للمقاولات</td>\n",
       "      <td>4-1324428</td>\n",
       "      <td>المنطقة الشرقية</td>\n",
       "      <td>AD DAMMAM...</td>\n",
       "      <td>دوام كامل</td>\n",
       "      <td>both</td>\n",
       "      <td>5000.0</td>\n",
       "      <td>0</td>\n",
       "    </tr>\n",
       "  </tbody>\n",
       "</table>\n",
       "</div>"
      ],
      "text/plain": [
       "  job_title                     comp_name    comp_no           region  \\\n",
       "0     محاسب      شركة مقر العالم للسفريات   1-317262           الرياض   \n",
       "1      بائع  شركة عالم الكهرباء للمقاولات  4-1324428  المنطقة الشرقية   \n",
       "\n",
       "           city   contract gender  salary (SAR)  experience (years)  \n",
       "0  AR RIYADH...  دوام كامل   both        5000.0                   0  \n",
       "1  AD DAMMAM...  دوام كامل   both        5000.0                   0  "
      ]
     },
     "execution_count": 169,
     "metadata": {},
     "output_type": "execute_result"
    }
   ],
   "source": [
    "jobs_df.head(2)"
   ]
  },
  {
   "cell_type": "code",
   "execution_count": 176,
   "id": "3ad35d8b",
   "metadata": {},
   "outputs": [
    {
     "data": {
      "text/plain": [
       "job_title\n",
       "بائع                   87\n",
       "محاسب                  80\n",
       "أخصائي تسويق           52\n",
       "مساعد إداري            45\n",
       "موظف استقبال           41\n",
       "                       ..\n",
       "بائع كشك                1\n",
       "نجار هياكل خشبية        1\n",
       "مدير مشتريات            1\n",
       "مشرف مدخلي البيانات     1\n",
       "مشغل آلة تشطيب رخام     1\n",
       "Name: count, Length: 324, dtype: int64"
      ]
     },
     "execution_count": 176,
     "metadata": {},
     "output_type": "execute_result"
    }
   ],
   "source": [
    "jobs_df['job_title'].value_counts()"
   ]
  },
  {
   "cell_type": "markdown",
   "id": "f8741756",
   "metadata": {},
   "source": [
    "# Q1"
   ]
  },
  {
   "cell_type": "code",
   "execution_count": 177,
   "id": "577ff1c2",
   "metadata": {},
   "outputs": [],
   "source": [
    "# Calculate the proportion of job postings by region\n",
    "region_proportions = jobs_df['region'].value_counts(normalize=True) * 100"
   ]
  },
  {
   "cell_type": "code",
   "execution_count": 179,
   "id": "1689a973",
   "metadata": {},
   "outputs": [
    {
     "data": {
      "text/plain": [
       "region\n",
       "الرياض             42.202513\n",
       "مكة المكرمة        25.055432\n",
       "المنطقة الشرقية    15.225425\n",
       "المدينة المنورة     5.543237\n",
       "الباحة              3.325942\n",
       "عسير                2.734664\n",
       "القصيم              2.143385\n",
       "حائل                1.330377\n",
       "تبوك                0.813008\n",
       "نجران               0.591279\n",
       "جازان               0.517369\n",
       "الحدود الشمالية     0.295639\n",
       "الجوف               0.221729\n",
       "Name: proportion, dtype: float64"
      ]
     },
     "execution_count": 179,
     "metadata": {},
     "output_type": "execute_result"
    }
   ],
   "source": [
    "region_proportions"
   ]
  },
  {
   "cell_type": "code",
   "execution_count": 180,
   "id": "e070df36",
   "metadata": {},
   "outputs": [
    {
     "name": "stderr",
     "output_type": "stream",
     "text": [
      "Feature: region                              |████      | [ 40%]   00:00 -> (00:01 left)c:\\Users\\fesle\\miniconda3\\envs\\dsbootcamp\\Lib\\site-packages\\sweetviz\\graph.py:33: UserWarning: Glyph 1575 (\\N{ARABIC LETTER ALEF}) missing from font(s) Roboto.\n",
      "  figure.savefig(as_raw_bytes, format='png', transparent=True)\n",
      "c:\\Users\\fesle\\miniconda3\\envs\\dsbootcamp\\Lib\\site-packages\\sweetviz\\graph.py:33: UserWarning: Matplotlib currently does not support Arabic natively.\n",
      "  figure.savefig(as_raw_bytes, format='png', transparent=True)\n",
      "c:\\Users\\fesle\\miniconda3\\envs\\dsbootcamp\\Lib\\site-packages\\sweetviz\\graph.py:33: UserWarning: Glyph 1604 (\\N{ARABIC LETTER LAM}) missing from font(s) Roboto.\n",
      "  figure.savefig(as_raw_bytes, format='png', transparent=True)\n",
      "c:\\Users\\fesle\\miniconda3\\envs\\dsbootcamp\\Lib\\site-packages\\sweetviz\\graph.py:33: UserWarning: Glyph 1605 (\\N{ARABIC LETTER MEEM}) missing from font(s) Roboto.\n",
      "  figure.savefig(as_raw_bytes, format='png', transparent=True)\n",
      "c:\\Users\\fesle\\miniconda3\\envs\\dsbootcamp\\Lib\\site-packages\\sweetviz\\graph.py:33: UserWarning: Glyph 1583 (\\N{ARABIC LETTER DAL}) missing from font(s) Roboto.\n",
      "  figure.savefig(as_raw_bytes, format='png', transparent=True)\n",
      "c:\\Users\\fesle\\miniconda3\\envs\\dsbootcamp\\Lib\\site-packages\\sweetviz\\graph.py:33: UserWarning: Glyph 1610 (\\N{ARABIC LETTER YEH}) missing from font(s) Roboto.\n",
      "  figure.savefig(as_raw_bytes, format='png', transparent=True)\n",
      "c:\\Users\\fesle\\miniconda3\\envs\\dsbootcamp\\Lib\\site-packages\\sweetviz\\graph.py:33: UserWarning: Glyph 1606 (\\N{ARABIC LETTER NOON}) missing from font(s) Roboto.\n",
      "  figure.savefig(as_raw_bytes, format='png', transparent=True)\n",
      "c:\\Users\\fesle\\miniconda3\\envs\\dsbootcamp\\Lib\\site-packages\\sweetviz\\graph.py:33: UserWarning: Glyph 1577 (\\N{ARABIC LETTER TEH MARBUTA}) missing from font(s) Roboto.\n",
      "  figure.savefig(as_raw_bytes, format='png', transparent=True)\n",
      "c:\\Users\\fesle\\miniconda3\\envs\\dsbootcamp\\Lib\\site-packages\\sweetviz\\graph.py:33: UserWarning: Glyph 1608 (\\N{ARABIC LETTER WAW}) missing from font(s) Roboto.\n",
      "  figure.savefig(as_raw_bytes, format='png', transparent=True)\n",
      "c:\\Users\\fesle\\miniconda3\\envs\\dsbootcamp\\Lib\\site-packages\\sweetviz\\graph.py:33: UserWarning: Glyph 1585 (\\N{ARABIC LETTER REH}) missing from font(s) Roboto.\n",
      "  figure.savefig(as_raw_bytes, format='png', transparent=True)\n",
      "c:\\Users\\fesle\\miniconda3\\envs\\dsbootcamp\\Lib\\site-packages\\sweetviz\\graph.py:33: UserWarning: Glyph 1591 (\\N{ARABIC LETTER TAH}) missing from font(s) Roboto.\n",
      "  figure.savefig(as_raw_bytes, format='png', transparent=True)\n",
      "c:\\Users\\fesle\\miniconda3\\envs\\dsbootcamp\\Lib\\site-packages\\sweetviz\\graph.py:33: UserWarning: Glyph 1602 (\\N{ARABIC LETTER QAF}) missing from font(s) Roboto.\n",
      "  figure.savefig(as_raw_bytes, format='png', transparent=True)\n",
      "c:\\Users\\fesle\\miniconda3\\envs\\dsbootcamp\\Lib\\site-packages\\sweetviz\\graph.py:33: UserWarning: Glyph 1588 (\\N{ARABIC LETTER SHEEN}) missing from font(s) Roboto.\n",
      "  figure.savefig(as_raw_bytes, format='png', transparent=True)\n",
      "c:\\Users\\fesle\\miniconda3\\envs\\dsbootcamp\\Lib\\site-packages\\sweetviz\\graph.py:33: UserWarning: Glyph 1603 (\\N{ARABIC LETTER KAF}) missing from font(s) Roboto.\n",
      "  figure.savefig(as_raw_bytes, format='png', transparent=True)\n",
      "c:\\Users\\fesle\\miniconda3\\envs\\dsbootcamp\\Lib\\site-packages\\sweetviz\\graph.py:33: UserWarning: Glyph 1590 (\\N{ARABIC LETTER DAD}) missing from font(s) Roboto.\n",
      "  figure.savefig(as_raw_bytes, format='png', transparent=True)\n",
      "c:\\Users\\fesle\\miniconda3\\envs\\dsbootcamp\\Lib\\site-packages\\sweetviz\\graph.py:33: UserWarning: Glyph 1575 (\\N{ARABIC LETTER ALEF}) missing from font(s) Roboto.\n",
      "  figure.savefig(as_raw_bytes, format='png', transparent=True)\n",
      "c:\\Users\\fesle\\miniconda3\\envs\\dsbootcamp\\Lib\\site-packages\\sweetviz\\graph.py:33: UserWarning: Matplotlib currently does not support Arabic natively.\n",
      "  figure.savefig(as_raw_bytes, format='png', transparent=True)\n",
      "c:\\Users\\fesle\\miniconda3\\envs\\dsbootcamp\\Lib\\site-packages\\sweetviz\\graph.py:33: UserWarning: Glyph 1604 (\\N{ARABIC LETTER LAM}) missing from font(s) Roboto.\n",
      "  figure.savefig(as_raw_bytes, format='png', transparent=True)\n",
      "c:\\Users\\fesle\\miniconda3\\envs\\dsbootcamp\\Lib\\site-packages\\sweetviz\\graph.py:33: UserWarning: Glyph 1580 (\\N{ARABIC LETTER JEEM}) missing from font(s) Roboto.\n",
      "  figure.savefig(as_raw_bytes, format='png', transparent=True)\n",
      "c:\\Users\\fesle\\miniconda3\\envs\\dsbootcamp\\Lib\\site-packages\\sweetviz\\graph.py:33: UserWarning: Glyph 1608 (\\N{ARABIC LETTER WAW}) missing from font(s) Roboto.\n",
      "  figure.savefig(as_raw_bytes, format='png', transparent=True)\n",
      "c:\\Users\\fesle\\miniconda3\\envs\\dsbootcamp\\Lib\\site-packages\\sweetviz\\graph.py:33: UserWarning: Glyph 1601 (\\N{ARABIC LETTER FEH}) missing from font(s) Roboto.\n",
      "  figure.savefig(as_raw_bytes, format='png', transparent=True)\n",
      "c:\\Users\\fesle\\miniconda3\\envs\\dsbootcamp\\Lib\\site-packages\\sweetviz\\graph.py:33: UserWarning: Glyph 1581 (\\N{ARABIC LETTER HAH}) missing from font(s) Roboto.\n",
      "  figure.savefig(as_raw_bytes, format='png', transparent=True)\n",
      "c:\\Users\\fesle\\miniconda3\\envs\\dsbootcamp\\Lib\\site-packages\\sweetviz\\graph.py:33: UserWarning: Glyph 1583 (\\N{ARABIC LETTER DAL}) missing from font(s) Roboto.\n",
      "  figure.savefig(as_raw_bytes, format='png', transparent=True)\n",
      "c:\\Users\\fesle\\miniconda3\\envs\\dsbootcamp\\Lib\\site-packages\\sweetviz\\graph.py:33: UserWarning: Glyph 1588 (\\N{ARABIC LETTER SHEEN}) missing from font(s) Roboto.\n",
      "  figure.savefig(as_raw_bytes, format='png', transparent=True)\n",
      "c:\\Users\\fesle\\miniconda3\\envs\\dsbootcamp\\Lib\\site-packages\\sweetviz\\graph.py:33: UserWarning: Glyph 1605 (\\N{ARABIC LETTER MEEM}) missing from font(s) Roboto.\n",
      "  figure.savefig(as_raw_bytes, format='png', transparent=True)\n",
      "c:\\Users\\fesle\\miniconda3\\envs\\dsbootcamp\\Lib\\site-packages\\sweetviz\\graph.py:33: UserWarning: Glyph 1610 (\\N{ARABIC LETTER YEH}) missing from font(s) Roboto.\n",
      "  figure.savefig(as_raw_bytes, format='png', transparent=True)\n",
      "c:\\Users\\fesle\\miniconda3\\envs\\dsbootcamp\\Lib\\site-packages\\sweetviz\\graph.py:33: UserWarning: Glyph 1577 (\\N{ARABIC LETTER TEH MARBUTA}) missing from font(s) Roboto.\n",
      "  figure.savefig(as_raw_bytes, format='png', transparent=True)\n",
      "c:\\Users\\fesle\\miniconda3\\envs\\dsbootcamp\\Lib\\site-packages\\sweetviz\\graph.py:33: UserWarning: Glyph 1586 (\\N{ARABIC LETTER ZAIN}) missing from font(s) Roboto.\n",
      "  figure.savefig(as_raw_bytes, format='png', transparent=True)\n",
      "c:\\Users\\fesle\\miniconda3\\envs\\dsbootcamp\\Lib\\site-packages\\sweetviz\\graph.py:33: UserWarning: Glyph 1606 (\\N{ARABIC LETTER NOON}) missing from font(s) Roboto.\n",
      "  figure.savefig(as_raw_bytes, format='png', transparent=True)\n",
      "c:\\Users\\fesle\\miniconda3\\envs\\dsbootcamp\\Lib\\site-packages\\sweetviz\\graph.py:33: UserWarning: Glyph 1585 (\\N{ARABIC LETTER REH}) missing from font(s) Roboto.\n",
      "  figure.savefig(as_raw_bytes, format='png', transparent=True)\n",
      "c:\\Users\\fesle\\miniconda3\\envs\\dsbootcamp\\Lib\\site-packages\\sweetviz\\graph.py:33: UserWarning: Glyph 1578 (\\N{ARABIC LETTER TEH}) missing from font(s) Roboto.\n",
      "  figure.savefig(as_raw_bytes, format='png', transparent=True)\n",
      "c:\\Users\\fesle\\miniconda3\\envs\\dsbootcamp\\Lib\\site-packages\\sweetviz\\graph.py:33: UserWarning: Glyph 1576 (\\N{ARABIC LETTER BEH}) missing from font(s) Roboto.\n",
      "  figure.savefig(as_raw_bytes, format='png', transparent=True)\n",
      "c:\\Users\\fesle\\miniconda3\\envs\\dsbootcamp\\Lib\\site-packages\\sweetviz\\graph.py:33: UserWarning: Glyph 1603 (\\N{ARABIC LETTER KAF}) missing from font(s) Roboto.\n",
      "  figure.savefig(as_raw_bytes, format='png', transparent=True)\n",
      "c:\\Users\\fesle\\miniconda3\\envs\\dsbootcamp\\Lib\\site-packages\\sweetviz\\graph.py:33: UserWarning: Glyph 1574 (\\N{ARABIC LETTER YEH WITH HAMZA ABOVE}) missing from font(s) Roboto.\n",
      "  figure.savefig(as_raw_bytes, format='png', transparent=True)\n",
      "c:\\Users\\fesle\\miniconda3\\envs\\dsbootcamp\\Lib\\site-packages\\sweetviz\\graph.py:33: UserWarning: Glyph 1602 (\\N{ARABIC LETTER QAF}) missing from font(s) Roboto.\n",
      "  figure.savefig(as_raw_bytes, format='png', transparent=True)\n",
      "c:\\Users\\fesle\\miniconda3\\envs\\dsbootcamp\\Lib\\site-packages\\sweetviz\\graph.py:33: UserWarning: Glyph 1589 (\\N{ARABIC LETTER SAD}) missing from font(s) Roboto.\n",
      "  figure.savefig(as_raw_bytes, format='png', transparent=True)\n",
      "c:\\Users\\fesle\\miniconda3\\envs\\dsbootcamp\\Lib\\site-packages\\sweetviz\\graph.py:33: UserWarning: Glyph 1593 (\\N{ARABIC LETTER AIN}) missing from font(s) Roboto.\n",
      "  figure.savefig(as_raw_bytes, format='png', transparent=True)\n",
      "c:\\Users\\fesle\\miniconda3\\envs\\dsbootcamp\\Lib\\site-packages\\sweetviz\\graph.py:33: UserWarning: Glyph 1587 (\\N{ARABIC LETTER SEEN}) missing from font(s) Roboto.\n",
      "  figure.savefig(as_raw_bytes, format='png', transparent=True)\n",
      "c:\\Users\\fesle\\miniconda3\\envs\\dsbootcamp\\Lib\\site-packages\\sweetviz\\graph.py:33: UserWarning: Glyph 1591 (\\N{ARABIC LETTER TAH}) missing from font(s) Roboto.\n",
      "  figure.savefig(as_raw_bytes, format='png', transparent=True)\n",
      "c:\\Users\\fesle\\miniconda3\\envs\\dsbootcamp\\Lib\\site-packages\\sweetviz\\graph.py:33: UserWarning: Glyph 1590 (\\N{ARABIC LETTER DAD}) missing from font(s) Roboto.\n",
      "  figure.savefig(as_raw_bytes, format='png', transparent=True)\n",
      "Feature: contract                            |██████    | [ 60%]   00:00 -> (00:00 left)c:\\Users\\fesle\\miniconda3\\envs\\dsbootcamp\\Lib\\site-packages\\sweetviz\\graph.py:33: UserWarning: Glyph 1593 (\\N{ARABIC LETTER AIN}) missing from font(s) Roboto.\n",
      "  figure.savefig(as_raw_bytes, format='png', transparent=True)\n",
      "c:\\Users\\fesle\\miniconda3\\envs\\dsbootcamp\\Lib\\site-packages\\sweetviz\\graph.py:33: UserWarning: Matplotlib currently does not support Arabic natively.\n",
      "  figure.savefig(as_raw_bytes, format='png', transparent=True)\n",
      "c:\\Users\\fesle\\miniconda3\\envs\\dsbootcamp\\Lib\\site-packages\\sweetviz\\graph.py:33: UserWarning: Glyph 1605 (\\N{ARABIC LETTER MEEM}) missing from font(s) Roboto.\n",
      "  figure.savefig(as_raw_bytes, format='png', transparent=True)\n",
      "c:\\Users\\fesle\\miniconda3\\envs\\dsbootcamp\\Lib\\site-packages\\sweetviz\\graph.py:33: UserWarning: Glyph 1604 (\\N{ARABIC LETTER LAM}) missing from font(s) Roboto.\n",
      "  figure.savefig(as_raw_bytes, format='png', transparent=True)\n",
      "c:\\Users\\fesle\\miniconda3\\envs\\dsbootcamp\\Lib\\site-packages\\sweetviz\\graph.py:33: UserWarning: Glyph 1606 (\\N{ARABIC LETTER NOON}) missing from font(s) Roboto.\n",
      "  figure.savefig(as_raw_bytes, format='png', transparent=True)\n",
      "c:\\Users\\fesle\\miniconda3\\envs\\dsbootcamp\\Lib\\site-packages\\sweetviz\\graph.py:33: UserWarning: Glyph 1576 (\\N{ARABIC LETTER BEH}) missing from font(s) Roboto.\n",
      "  figure.savefig(as_raw_bytes, format='png', transparent=True)\n",
      "c:\\Users\\fesle\\miniconda3\\envs\\dsbootcamp\\Lib\\site-packages\\sweetviz\\graph.py:33: UserWarning: Glyph 1583 (\\N{ARABIC LETTER DAL}) missing from font(s) Roboto.\n",
      "  figure.savefig(as_raw_bytes, format='png', transparent=True)\n",
      "c:\\Users\\fesle\\miniconda3\\envs\\dsbootcamp\\Lib\\site-packages\\sweetviz\\graph.py:33: UserWarning: Glyph 1608 (\\N{ARABIC LETTER WAW}) missing from font(s) Roboto.\n",
      "  figure.savefig(as_raw_bytes, format='png', transparent=True)\n",
      "c:\\Users\\fesle\\miniconda3\\envs\\dsbootcamp\\Lib\\site-packages\\sweetviz\\graph.py:33: UserWarning: Glyph 1575 (\\N{ARABIC LETTER ALEF}) missing from font(s) Roboto.\n",
      "  figure.savefig(as_raw_bytes, format='png', transparent=True)\n",
      "c:\\Users\\fesle\\miniconda3\\envs\\dsbootcamp\\Lib\\site-packages\\sweetviz\\graph.py:33: UserWarning: Glyph 1603 (\\N{ARABIC LETTER KAF}) missing from font(s) Roboto.\n",
      "  figure.savefig(as_raw_bytes, format='png', transparent=True)\n",
      "c:\\Users\\fesle\\miniconda3\\envs\\dsbootcamp\\Lib\\site-packages\\sweetviz\\graph.py:33: UserWarning: Glyph 1593 (\\N{ARABIC LETTER AIN}) missing from font(s) Roboto.\n",
      "  figure.savefig(as_raw_bytes, format='png', transparent=True)\n",
      "c:\\Users\\fesle\\miniconda3\\envs\\dsbootcamp\\Lib\\site-packages\\sweetviz\\graph.py:33: UserWarning: Matplotlib currently does not support Arabic natively.\n",
      "  figure.savefig(as_raw_bytes, format='png', transparent=True)\n",
      "c:\\Users\\fesle\\miniconda3\\envs\\dsbootcamp\\Lib\\site-packages\\sweetviz\\graph.py:33: UserWarning: Glyph 1605 (\\N{ARABIC LETTER MEEM}) missing from font(s) Roboto.\n",
      "  figure.savefig(as_raw_bytes, format='png', transparent=True)\n",
      "c:\\Users\\fesle\\miniconda3\\envs\\dsbootcamp\\Lib\\site-packages\\sweetviz\\graph.py:33: UserWarning: Glyph 1604 (\\N{ARABIC LETTER LAM}) missing from font(s) Roboto.\n",
      "  figure.savefig(as_raw_bytes, format='png', transparent=True)\n",
      "c:\\Users\\fesle\\miniconda3\\envs\\dsbootcamp\\Lib\\site-packages\\sweetviz\\graph.py:33: UserWarning: Glyph 1606 (\\N{ARABIC LETTER NOON}) missing from font(s) Roboto.\n",
      "  figure.savefig(as_raw_bytes, format='png', transparent=True)\n",
      "c:\\Users\\fesle\\miniconda3\\envs\\dsbootcamp\\Lib\\site-packages\\sweetviz\\graph.py:33: UserWarning: Glyph 1576 (\\N{ARABIC LETTER BEH}) missing from font(s) Roboto.\n",
      "  figure.savefig(as_raw_bytes, format='png', transparent=True)\n",
      "c:\\Users\\fesle\\miniconda3\\envs\\dsbootcamp\\Lib\\site-packages\\sweetviz\\graph.py:33: UserWarning: Glyph 1583 (\\N{ARABIC LETTER DAL}) missing from font(s) Roboto.\n",
      "  figure.savefig(as_raw_bytes, format='png', transparent=True)\n",
      "c:\\Users\\fesle\\miniconda3\\envs\\dsbootcamp\\Lib\\site-packages\\sweetviz\\graph.py:33: UserWarning: Glyph 1608 (\\N{ARABIC LETTER WAW}) missing from font(s) Roboto.\n",
      "  figure.savefig(as_raw_bytes, format='png', transparent=True)\n",
      "c:\\Users\\fesle\\miniconda3\\envs\\dsbootcamp\\Lib\\site-packages\\sweetviz\\graph.py:33: UserWarning: Glyph 1575 (\\N{ARABIC LETTER ALEF}) missing from font(s) Roboto.\n",
      "  figure.savefig(as_raw_bytes, format='png', transparent=True)\n",
      "c:\\Users\\fesle\\miniconda3\\envs\\dsbootcamp\\Lib\\site-packages\\sweetviz\\graph.py:33: UserWarning: Glyph 1603 (\\N{ARABIC LETTER KAF}) missing from font(s) Roboto.\n",
      "  figure.savefig(as_raw_bytes, format='png', transparent=True)\n",
      "Feature: salary (SAR)                        |████████  | [ 80%]   00:01 -> (00:00 left)"
     ]
    },
    {
     "ename": "AttributeError",
     "evalue": "module 'numpy' has no attribute 'VisibleDeprecationWarning'",
     "output_type": "error",
     "traceback": [
      "\u001b[1;31m---------------------------------------------------------------------------\u001b[0m",
      "\u001b[1;31mAttributeError\u001b[0m                            Traceback (most recent call last)",
      "Cell \u001b[1;32mIn[180], line 2\u001b[0m\n\u001b[0;32m      1\u001b[0m \u001b[38;5;66;03m# Generate the Sweetviz report\u001b[39;00m\n\u001b[1;32m----> 2\u001b[0m jobs_report \u001b[38;5;241m=\u001b[39m \u001b[43msv\u001b[49m\u001b[38;5;241;43m.\u001b[39;49m\u001b[43manalyze\u001b[49m\u001b[43m(\u001b[49m\u001b[43mjobs_df\u001b[49m\u001b[43m)\u001b[49m\n\u001b[0;32m      3\u001b[0m jobs_report\u001b[38;5;241m.\u001b[39mshow_html(\u001b[38;5;124m'\u001b[39m\u001b[38;5;124mJobs_Sweetviz_Report.html\u001b[39m\u001b[38;5;124m'\u001b[39m)\n",
      "File \u001b[1;32mc:\\Users\\fesle\\miniconda3\\envs\\dsbootcamp\\Lib\\site-packages\\sweetviz\\sv_public.py:12\u001b[0m, in \u001b[0;36manalyze\u001b[1;34m(source, target_feat, feat_cfg, pairwise_analysis)\u001b[0m\n\u001b[0;32m      8\u001b[0m \u001b[38;5;28;01mdef\u001b[39;00m \u001b[38;5;21manalyze\u001b[39m(source: Union[pd\u001b[38;5;241m.\u001b[39mDataFrame, Tuple[pd\u001b[38;5;241m.\u001b[39mDataFrame, \u001b[38;5;28mstr\u001b[39m]],\n\u001b[0;32m      9\u001b[0m             target_feat: \u001b[38;5;28mstr\u001b[39m \u001b[38;5;241m=\u001b[39m \u001b[38;5;28;01mNone\u001b[39;00m,\n\u001b[0;32m     10\u001b[0m             feat_cfg: FeatureConfig \u001b[38;5;241m=\u001b[39m \u001b[38;5;28;01mNone\u001b[39;00m,\n\u001b[0;32m     11\u001b[0m             pairwise_analysis: \u001b[38;5;28mstr\u001b[39m \u001b[38;5;241m=\u001b[39m \u001b[38;5;124m'\u001b[39m\u001b[38;5;124mauto\u001b[39m\u001b[38;5;124m'\u001b[39m):\n\u001b[1;32m---> 12\u001b[0m     report \u001b[38;5;241m=\u001b[39m \u001b[43msweetviz\u001b[49m\u001b[38;5;241;43m.\u001b[39;49m\u001b[43mDataframeReport\u001b[49m\u001b[43m(\u001b[49m\u001b[43msource\u001b[49m\u001b[43m,\u001b[49m\u001b[43m \u001b[49m\u001b[43mtarget_feat\u001b[49m\u001b[43m,\u001b[49m\u001b[43m \u001b[49m\u001b[38;5;28;43;01mNone\u001b[39;49;00m\u001b[43m,\u001b[49m\n\u001b[0;32m     13\u001b[0m \u001b[43m                                      \u001b[49m\u001b[43mpairwise_analysis\u001b[49m\u001b[43m,\u001b[49m\u001b[43m \u001b[49m\u001b[43mfeat_cfg\u001b[49m\u001b[43m)\u001b[49m\n\u001b[0;32m     14\u001b[0m     \u001b[38;5;28;01mreturn\u001b[39;00m report\n",
      "File \u001b[1;32mc:\\Users\\fesle\\miniconda3\\envs\\dsbootcamp\\Lib\\site-packages\\sweetviz\\dataframe_report.py:277\u001b[0m, in \u001b[0;36mDataframeReport.__init__\u001b[1;34m(self, source, target_feature_name, compare, pairwise_analysis, fc, verbosity)\u001b[0m\n\u001b[0;32m    274\u001b[0m \u001b[38;5;28;01mfor\u001b[39;00m f \u001b[38;5;129;01min\u001b[39;00m features_to_process:\n\u001b[0;32m    275\u001b[0m     \u001b[38;5;66;03m# start = time.perf_counter()\u001b[39;00m\n\u001b[0;32m    276\u001b[0m     \u001b[38;5;28mself\u001b[39m\u001b[38;5;241m.\u001b[39mprogress_bar\u001b[38;5;241m.\u001b[39mset_description_str(\u001b[38;5;124mf\u001b[39m\u001b[38;5;124m\"\u001b[39m\u001b[38;5;124mFeature: \u001b[39m\u001b[38;5;132;01m{\u001b[39;00mf\u001b[38;5;241m.\u001b[39msource\u001b[38;5;241m.\u001b[39mname\u001b[38;5;132;01m}\u001b[39;00m\u001b[38;5;124m\"\u001b[39m)\n\u001b[1;32m--> 277\u001b[0m     \u001b[38;5;28mself\u001b[39m\u001b[38;5;241m.\u001b[39m_features[f\u001b[38;5;241m.\u001b[39msource\u001b[38;5;241m.\u001b[39mname] \u001b[38;5;241m=\u001b[39m \u001b[43msa\u001b[49m\u001b[38;5;241;43m.\u001b[39;49m\u001b[43manalyze_feature_to_dictionary\u001b[49m\u001b[43m(\u001b[49m\u001b[43mf\u001b[49m\u001b[43m)\u001b[49m\n\u001b[0;32m    278\u001b[0m     \u001b[38;5;28mself\u001b[39m\u001b[38;5;241m.\u001b[39mprogress_bar\u001b[38;5;241m.\u001b[39mupdate(\u001b[38;5;241m1\u001b[39m)\n\u001b[0;32m    279\u001b[0m     \u001b[38;5;66;03m# print(f\"DONE FEATURE------> {f.source.name}\"\u001b[39;00m\n\u001b[0;32m    280\u001b[0m     \u001b[38;5;66;03m#       f\" {(time.perf_counter() - start):.2f}   {self._features[f.source.name]['type']}\")\u001b[39;00m\n\u001b[0;32m    281\u001b[0m \u001b[38;5;66;03m# self.progress_bar.set_description_str('[FEATURES DONE]')\u001b[39;00m\n\u001b[0;32m    282\u001b[0m \u001b[38;5;66;03m# self.progress_bar.close()\u001b[39;00m\n\u001b[0;32m    283\u001b[0m \n\u001b[0;32m    284\u001b[0m \u001b[38;5;66;03m# Wrap up summary\u001b[39;00m\n",
      "File \u001b[1;32mc:\\Users\\fesle\\miniconda3\\envs\\dsbootcamp\\Lib\\site-packages\\sweetviz\\series_analyzer.py:142\u001b[0m, in \u001b[0;36manalyze_feature_to_dictionary\u001b[1;34m(to_process)\u001b[0m\n\u001b[0;32m    140\u001b[0m \u001b[38;5;66;03m# Perform full analysis on source/compare/target\u001b[39;00m\n\u001b[0;32m    141\u001b[0m \u001b[38;5;28;01mif\u001b[39;00m returned_feature_dict[\u001b[38;5;124m\"\u001b[39m\u001b[38;5;124mtype\u001b[39m\u001b[38;5;124m\"\u001b[39m] \u001b[38;5;241m==\u001b[39m FeatureType\u001b[38;5;241m.\u001b[39mTYPE_NUM:\n\u001b[1;32m--> 142\u001b[0m     \u001b[43msweetviz\u001b[49m\u001b[38;5;241;43m.\u001b[39;49m\u001b[43mseries_analyzer_numeric\u001b[49m\u001b[38;5;241;43m.\u001b[39;49m\u001b[43manalyze\u001b[49m\u001b[43m(\u001b[49m\u001b[43mto_process\u001b[49m\u001b[43m,\u001b[49m\u001b[43m \u001b[49m\u001b[43mreturned_feature_dict\u001b[49m\u001b[43m)\u001b[49m\n\u001b[0;32m    143\u001b[0m \u001b[38;5;28;01melif\u001b[39;00m returned_feature_dict[\u001b[38;5;124m\"\u001b[39m\u001b[38;5;124mtype\u001b[39m\u001b[38;5;124m\"\u001b[39m] \u001b[38;5;241m==\u001b[39m FeatureType\u001b[38;5;241m.\u001b[39mTYPE_CAT:\n\u001b[0;32m    144\u001b[0m     sweetviz\u001b[38;5;241m.\u001b[39mseries_analyzer_cat\u001b[38;5;241m.\u001b[39manalyze(to_process, returned_feature_dict)\n",
      "File \u001b[1;32mc:\\Users\\fesle\\miniconda3\\envs\\dsbootcamp\\Lib\\site-packages\\sweetviz\\series_analyzer_numeric.py:102\u001b[0m, in \u001b[0;36manalyze\u001b[1;34m(to_process, feature_dict)\u001b[0m\n\u001b[0;32m     98\u001b[0m     do_stats_numeric(to_process\u001b[38;5;241m.\u001b[39mcompare, compare_dict)\n\u001b[0;32m    100\u001b[0m do_detail_numeric(to_process\u001b[38;5;241m.\u001b[39msource, to_process\u001b[38;5;241m.\u001b[39msource_counts, to_process\u001b[38;5;241m.\u001b[39mcompare_counts, feature_dict)\n\u001b[1;32m--> 102\u001b[0m feature_dict[\u001b[38;5;124m\"\u001b[39m\u001b[38;5;124mminigraph\u001b[39m\u001b[38;5;124m\"\u001b[39m] \u001b[38;5;241m=\u001b[39m \u001b[43mGraphNumeric\u001b[49m\u001b[43m(\u001b[49m\u001b[38;5;124;43m\"\u001b[39;49m\u001b[38;5;124;43mmini\u001b[39;49m\u001b[38;5;124;43m\"\u001b[39;49m\u001b[43m,\u001b[49m\u001b[43m \u001b[49m\u001b[43mto_process\u001b[49m\u001b[43m)\u001b[49m\n\u001b[0;32m    103\u001b[0m feature_dict[\u001b[38;5;124m\"\u001b[39m\u001b[38;5;124mdetail_graphs\u001b[39m\u001b[38;5;124m\"\u001b[39m] \u001b[38;5;241m=\u001b[39m \u001b[38;5;28mlist\u001b[39m()\n\u001b[0;32m    104\u001b[0m \u001b[38;5;28;01mfor\u001b[39;00m num_bins \u001b[38;5;129;01min\u001b[39;00m [\u001b[38;5;241m0\u001b[39m, \u001b[38;5;241m5\u001b[39m, \u001b[38;5;241m15\u001b[39m, \u001b[38;5;241m30\u001b[39m]:\n",
      "File \u001b[1;32mc:\\Users\\fesle\\miniconda3\\envs\\dsbootcamp\\Lib\\site-packages\\sweetviz\\graph_numeric.py:71\u001b[0m, in \u001b[0;36mGraphNumeric.__init__\u001b[1;34m(self, which_graph, to_process)\u001b[0m\n\u001b[0;32m     67\u001b[0m     normalizing_weights \u001b[38;5;241m=\u001b[39m norm_source\n\u001b[0;32m     69\u001b[0m gap_percent \u001b[38;5;241m=\u001b[39m config[\u001b[38;5;124m\"\u001b[39m\u001b[38;5;124mGraphs\u001b[39m\u001b[38;5;124m\"\u001b[39m]\u001b[38;5;241m.\u001b[39mgetfloat(\u001b[38;5;124m\"\u001b[39m\u001b[38;5;124msummary_graph_categorical_gap\u001b[39m\u001b[38;5;124m\"\u001b[39m)\n\u001b[1;32m---> 71\u001b[0m warnings\u001b[38;5;241m.\u001b[39mfilterwarnings(\u001b[38;5;124m'\u001b[39m\u001b[38;5;124mignore\u001b[39m\u001b[38;5;124m'\u001b[39m, category\u001b[38;5;241m=\u001b[39m\u001b[43mnp\u001b[49m\u001b[38;5;241;43m.\u001b[39;49m\u001b[43mVisibleDeprecationWarning\u001b[49m)\n\u001b[0;32m     72\u001b[0m \u001b[38;5;28mself\u001b[39m\u001b[38;5;241m.\u001b[39mhist_specs \u001b[38;5;241m=\u001b[39m axs\u001b[38;5;241m.\u001b[39mhist(plot_data, weights \u001b[38;5;241m=\u001b[39m normalizing_weights, bins\u001b[38;5;241m=\u001b[39m\u001b[38;5;28mself\u001b[39m\u001b[38;5;241m.\u001b[39mnum_bins, \\\n\u001b[0;32m     73\u001b[0m                            rwidth \u001b[38;5;241m=\u001b[39m (\u001b[38;5;241m100.0\u001b[39m \u001b[38;5;241m-\u001b[39m gap_percent) \u001b[38;5;241m/\u001b[39m \u001b[38;5;241m100.0\u001b[39m)\n\u001b[0;32m     74\u001b[0m warnings\u001b[38;5;241m.\u001b[39mfilterwarnings(\u001b[38;5;124m'\u001b[39m\u001b[38;5;124monce\u001b[39m\u001b[38;5;124m'\u001b[39m, category\u001b[38;5;241m=\u001b[39mnp\u001b[38;5;241m.\u001b[39mVisibleDeprecationWarning)\n",
      "File \u001b[1;32mc:\\Users\\fesle\\miniconda3\\envs\\dsbootcamp\\Lib\\site-packages\\numpy\\__init__.py:424\u001b[0m, in \u001b[0;36m__getattr__\u001b[1;34m(attr)\u001b[0m\n\u001b[0;32m    421\u001b[0m     \u001b[38;5;28;01mimport\u001b[39;00m \u001b[38;5;21;01mnumpy\u001b[39;00m\u001b[38;5;21;01m.\u001b[39;00m\u001b[38;5;21;01mchar\u001b[39;00m \u001b[38;5;28;01mas\u001b[39;00m \u001b[38;5;21;01mchar\u001b[39;00m\n\u001b[0;32m    422\u001b[0m     \u001b[38;5;28;01mreturn\u001b[39;00m char\u001b[38;5;241m.\u001b[39mchararray\n\u001b[1;32m--> 424\u001b[0m \u001b[38;5;28;01mraise\u001b[39;00m \u001b[38;5;167;01mAttributeError\u001b[39;00m(\u001b[38;5;124m\"\u001b[39m\u001b[38;5;124mmodule \u001b[39m\u001b[38;5;132;01m{!r}\u001b[39;00m\u001b[38;5;124m has no attribute \u001b[39m\u001b[38;5;124m\"\u001b[39m\n\u001b[0;32m    425\u001b[0m                      \u001b[38;5;124m\"\u001b[39m\u001b[38;5;132;01m{!r}\u001b[39;00m\u001b[38;5;124m\"\u001b[39m\u001b[38;5;241m.\u001b[39mformat(\u001b[38;5;18m__name__\u001b[39m, attr))\n",
      "\u001b[1;31mAttributeError\u001b[0m: module 'numpy' has no attribute 'VisibleDeprecationWarning'"
     ]
    },
    {
     "data": {
      "image/png": "[encoded data removed]",
      "text/plain": [
       "<Figure size 290x120 with 1 Axes>"
      ]
     },
     "metadata": {},
     "output_type": "display_data"
    },
    {
     "name": "stderr",
     "output_type": "stream",
     "text": [
      "Feature: salary (SAR)                        |████████  | [ 80%]   00:16 -> (00:00 left)"
     ]
    }
   ],
   "source": [
    "# Generate the Sweetviz report\n",
    "jobs_report = sv.analyze(jobs_df)\n",
    "jobs_report.show_html('Jobs_Sweetviz_Report.html')"
   ]
  },
  {
   "cell_type": "code",
   "execution_count": 24,
   "id": "48ecf77b-480c-4f64-9485-95be805bc357",
   "metadata": {},
   "outputs": [],
   "source": [
    "# go to lesson: statistics 1 then statistics 3\n",
    "# then go to univariate Non graphical analysis\n",
    "# detect outliers using numerical statistics "
   ]
  },
  {
   "cell_type": "code",
   "execution_count": null,
   "id": "ee200da8-62b0-492d-b118-f4d665a1fb16",
   "metadata": {},
   "outputs": [],
   "source": []
  },
  {
   "cell_type": "code",
   "execution_count": 25,
   "id": "4e66d611-6958-4860-8522-9ada7fce40b0",
   "metadata": {},
   "outputs": [],
   "source": [
    "# go to delete ouliers"
   ]
  },
  {
   "attachments": {},
   "cell_type": "markdown",
   "id": "4e886ec7-388c-414b-ada7-803c2fb1f2cb",
   "metadata": {},
   "source": [
    "## 2. Data Cleaning: \n",
    "\n",
    "Preliminary findings from data profiling can lead to cleaning the data by:\n",
    "- Handling missing values\n",
    "- Correcting errors.\n",
    "- Dealing with outliers.\n",
    "\n",
    "-------------------\n",
    "\n"
   ]
  },
  {
   "cell_type": "markdown",
   "id": "21876b48-f5ec-4970-85a9-0520d45d8841",
   "metadata": {},
   "source": [
    "### Handling missing values:"
   ]
  },
  {
   "cell_type": "markdown",
   "id": "c890d5a2-2a65-4090-9427-f89c0f011d3f",
   "metadata": {},
   "source": [
    "**Why my data has missing values?**\n",
    "They may occur at two stages:\n",
    "1. Data Extraction: It is possible that there are problems with extraction process. Errors at data extraction stage are typically easy to find and can be corrected easily as well.\n",
    "2. Data collection: These errors occur at time of data collection and are harder to correct.\n",
    "\n",
    "**Why do we need to handle the missing data?**\n",
    "To avoid:\n",
    "- Bias the conclusions.\n",
    "- Leading the business to make wrong decisions.\n",
    "\n",
    "**Which are the methods to treat missing values ?**\n",
    "1. Deletion: we delete rows where any of the variable is missing. Simplicity is one of the major advantage of this method, but this method reduces the power of model because it reduces the sample size.\n",
    "\n",
    "2. Imputation: is a method to fill in the missing values with estimated ones. This imputation is one of the most frequently used methods.\n",
    "\n",
    "    2.1. Mean/ Mode/ Median Imputation: It consists of replacing the missing data for a given attribute by the mean or median (quantitative attribute) or mode (qualitative attribute) of all known values of that variable.\n",
    "    > It can be of two types:\n",
    "    > - Generalized Imputation: In this case, we calculate the mean or median for all non missing values of that variable then replace missing value with mean or median.\n",
    "    > - Similar case Imputation: In this case, we calculate average for each group individually of non missing values then replace the missing value based on the group.\n",
    "\n",
    "    2.2. Constant Value\n",
    "   \n",
    "    2.3. Forward Filling\n",
    "   \n",
    "    2.4. Backward Filling\n",
    "\n",
    "6. Prediction Model:  Prediction model is one of the sophisticated method for handling missing data. Here, we create a predictive model to estimate values that will substitute the missing data.  In this case, we divide our data set into two sets: One set with no missing values for the variable and another one with missing values. First data set become training data set of the model while second data set with missing values is test data set and variable with missing values is treated as target variable. Next, we create a model to predict target variable based on other attributes of the training data set and populate missing values of test data set.\n",
    "\n",
    "> There are 2 drawbacks for this approach:\n",
    "> - The model estimated values are usually more well-behaved than the true values\n",
    "> - If there are no relationships with attributes in the data set and the attribute with missing values, then the model will not be precise for estimating missing values.\n",
    "\n",
    "9. KNN Imputation: In this method of imputation, the missing values of an attribute are imputed using the given number of attributes that are most similar to the attribute whose values are missing. The similarity of two attributes is determined using a distance function. It is also known to have certain advantage & disadvantages.\n",
    "\n",
    "   > **Advantages:**\n",
    "   > - k-nearest neighbour can predict both qualitative & quantitative attributes\n",
    "   > - Creation of predictive model for each attribute with missing data is not required\n",
    "   > - Attributes with multiple missing values can be easily treated\n",
    "   > - Correlation structure of the data is taken into consideration\n",
    "\n",
    "   > **Disadvantage:**\n",
    "   > - KNN algorithm is very time-consuming in analyzing large database. It searches through all the dataset looking for the most similar instances.\n",
    "   > - Choice of k-value is very critical. Higher value of k would include attributes which are significantly different from what we need whereas lower value of k implies missing out of significant attributes.\n",
    "\n",
    "--------------------\n"
   ]
  },
  {
   "cell_type": "code",
   "execution_count": null,
   "id": "57e741fb-71c1-46ad-a526-d8f0b1564dc3",
   "metadata": {},
   "outputs": [],
   "source": []
  },
  {
   "cell_type": "code",
   "execution_count": 80,
   "id": "01287962-8077-4c01-8d1d-5f8aed6cb37a",
   "metadata": {},
   "outputs": [],
   "source": [
    "# go back to 6th dimention --> Completeness"
   ]
  },
  {
   "cell_type": "markdown",
   "id": "f7cee10f-0af8-44e5-b595-8e965294daad",
   "metadata": {},
   "source": [
    "### Correcting errors\n",
    "\n",
    "-------------------"
   ]
  },
  {
   "cell_type": "code",
   "execution_count": null,
   "id": "06273b88-a169-42e8-81f5-5d71cb3f9c21",
   "metadata": {},
   "outputs": [],
   "source": []
  },
  {
   "cell_type": "code",
   "execution_count": null,
   "id": "f1d95da5-a3ba-473a-8243-aa177cadae20",
   "metadata": {},
   "outputs": [],
   "source": [
    "# go back to 7th dimension Accuracy "
   ]
  },
  {
   "cell_type": "markdown",
   "id": "5ecc7dbb-6867-44cf-8f99-1b969a80be40",
   "metadata": {},
   "source": [
    "### Dealing with outliers:"
   ]
  },
  {
   "attachments": {},
   "cell_type": "markdown",
   "id": "88347887-4bdf-48af-9486-cb8fe80c97af",
   "metadata": {},
   "source": [
    "**How to remove Outliers?**\n",
    "Most of the ways to deal with outliers are similar to the methods of missing values like deleting rows, transforming them, binning them, treat them as a separate group, imputing values and other statistical methods. Here, we will discuss the common techniques used to deal with outliers:\n",
    "\n",
    "1. Deleting rows: We delete outlier values if it is due to data entry error, data processing error or outlier rows are very small in numbers. We can also use trimming at both ends to remove outliers.\n",
    "\n",
    "2. Imputing: Like imputation of missing values, we can also impute outliers. We can use mean, median, mode imputation methods. Before imputing values, we should analyse if it is natural outlier or artificial. If it is artificial, we can go with imputing values. We can also use statistical model to predict values of outlier rows and after that we can impute it with predicted values.\n",
    "\n",
    "3. Treat separately: If there are significant number of outliers, we should treat them separately in the statistical model. One of the approach is to treat both groups as two different groups and build individual model for both groups and then combine the output.\n"
   ]
  },
  {
   "cell_type": "code",
   "execution_count": null,
   "id": "25a585f0-2b9c-42fa-bf21-cacc6aa3be3f",
   "metadata": {},
   "outputs": [],
   "source": []
  },
  {
   "cell_type": "markdown",
   "id": "98548b66-e309-4eb8-a5dc-65fe0abbf1e8",
   "metadata": {},
   "source": [
    "## 3. Univariate Analysis: \n",
    "\n",
    "This involves examining single variables to understand their characteristics (distribution, central tendency, dispersion, and shape).\n",
    "\n",
    "We calculate **numerical values** about the data that tells us about the distribution of the data. We also **draw graphs** showing visually how the data is distributed. **To answer the following questions about Features/characteristics of Data:**\n",
    "- Where is the center of the data? (location)\n",
    "- How much does the data vary? (scale)\n",
    "- What is the shape of the data? (shape)\n",
    "\n",
    "**The benefits of this analysis:**\n",
    "Statistics summary gives a high-level idea to identify whether the data has any outliers, data entry error, distribution of data such as the data is normally distributed or left/right skewed\n",
    "\n",
    "**In this step, we will explore variables one by one using following approaches:**"
   ]
  },
  {
   "cell_type": "markdown",
   "id": "d6718111-7ac2-4fff-9851-654655b62e0b",
   "metadata": {},
   "source": [
    "### 1. Univariate Graphical Analysis:\n",
    "Method to perform uni-variate analysis will depend on whether the variable type is categorical or numerical."
   ]
  },
  {
   "cell_type": "code",
   "execution_count": null,
   "id": "db79d803-b75c-4686-a623-e8420321a90f",
   "metadata": {},
   "outputs": [],
   "source": []
  },
  {
   "cell_type": "markdown",
   "id": "0d57c4b9-9bb3-494d-85dd-b8d39afda139",
   "metadata": {},
   "source": [
    "#### I. Categorical Variables:\n",
    "\n",
    "we’ll use frequency table to understand distribution of each category\n",
    "- Bar Chart (Ordinal) - Orderd\n",
    "- Pie Chart (Nominal) - non Orderd"
   ]
  },
  {
   "cell_type": "code",
   "execution_count": null,
   "id": "72ece4b7-5508-403a-8fb0-f519fc74272a",
   "metadata": {},
   "outputs": [],
   "source": []
  },
  {
   "cell_type": "markdown",
   "id": "d2641f0d-80f2-493b-99b7-15476379a1e2",
   "metadata": {},
   "source": [
    "#### II. Numerical Variables:\n",
    "\n",
    "we need to understand the central tendency and spread of the variable (Descriptive Analysis) using:\n",
    "   - Box plot\n",
    "   - Histogram"
   ]
  },
  {
   "cell_type": "code",
   "execution_count": null,
   "id": "5be16f08-a072-4a02-a3ee-6f9d57786fb4",
   "metadata": {},
   "outputs": [],
   "source": []
  },
  {
   "cell_type": "markdown",
   "id": "d66677d3-44ad-414f-9b39-f9c1995ad043",
   "metadata": {},
   "source": [
    "### 2. Univariate Non-Graphical analysis: \n",
    "\n",
    "- Where is the center of the data? (location) --> **Measures of central tendency**\n",
    "- How much does the data vary? (scale) --> **Measure of variability**\n",
    "- What is the shape of the data? (shape) --> **Measures of variation combined with an average (measure of center) gives a good picture of the distribution of the data.**"
   ]
  },
  {
   "cell_type": "code",
   "execution_count": null,
   "id": "f1058d84-e61e-4f5b-b66a-29931e77821b",
   "metadata": {},
   "outputs": [],
   "source": []
  },
  {
   "cell_type": "markdown",
   "id": "f09bb809-0edd-432b-bf23-abd0840b3e16",
   "metadata": {},
   "source": [
    "## 4. Bivariate/Multivariate Analysis:\n",
    "\n",
    "Here, you look at the relationships between two or more variables. This can involve looking for correlations, patterns, and trends that suggest a relationship or an association.\n",
    "\n",
    "We can perform bi-variate analysis for any combination of categorical and numerical variables. The combination can be:\n",
    "| bi-variate variables   | Plot type |\n",
    "| ------------- | ------------- |\n",
    "| Categorical & Categorical| Stacked Bar Chart |\n",
    "| Categorical & numerical  | scatter plot, histogram, box plot|\n",
    "| numerical  & numerical  | Scatter plot, line chart| \n",
    "\n",
    "\n",
    "Multivariate Analysis:\n",
    "- Heat map\n",
    "- Bar Chart\n",
    "- Scatter Chart\n",
    "- Line Chart"
   ]
  },
  {
   "cell_type": "markdown",
   "id": "838f2864-ce9e-4f15-99c8-052d053154a7",
   "metadata": {},
   "source": [
    "**Categorical & Categorical --> (Stacked Column Chart)**"
   ]
  },
  {
   "cell_type": "code",
   "execution_count": null,
   "id": "73f9f2ac-8477-49ea-9c68-4fe44d4395b6",
   "metadata": {},
   "outputs": [],
   "source": []
  },
  {
   "cell_type": "markdown",
   "id": "730e088f-fe13-40da-8fbb-686f5135fa4d",
   "metadata": {},
   "source": [
    "**Categorical & numerical --> (scatter plot, histogram, box plot)**"
   ]
  },
  {
   "cell_type": "code",
   "execution_count": null,
   "id": "3590e345-2051-4215-91ac-07d196b510ef",
   "metadata": {},
   "outputs": [],
   "source": []
  },
  {
   "cell_type": "markdown",
   "id": "20aed48d-b78e-46da-963f-e7f15e2f4dc7",
   "metadata": {},
   "source": [
    "**numerical & numerical --> (Scatter plot, line chart)**"
   ]
  },
  {
   "cell_type": "code",
   "execution_count": null,
   "id": "41023177-01cb-4f39-a750-12be71b13bda",
   "metadata": {},
   "outputs": [],
   "source": []
  },
  {
   "cell_type": "markdown",
   "id": "efb43b30-b1f0-48a4-a19c-195810cc8a0f",
   "metadata": {},
   "source": [
    "We could also use a correlation matrix to get more specific information about the relationship between these two variables."
   ]
  },
  {
   "cell_type": "code",
   "execution_count": null,
   "id": "8406f58f-b825-4a15-8f6e-c68ca66bd483",
   "metadata": {},
   "outputs": [],
   "source": []
  }
 ],
 "metadata": {
  "kernelspec": {
   "display_name": "dsbootcamp",
   "language": "python",
   "name": "python3"
  },
  "language_info": {
   "codemirror_mode": {
    "name": "ipython",
    "version": 3
   },
   "file_extension": ".py",
   "mimetype": "text/x-python",
   "name": "python",
   "nbconvert_exporter": "python",
   "pygments_lexer": "ipython3",
   "version": "3.11.10"
  }
 },
 "nbformat": 4,
 "nbformat_minor": 5
}
