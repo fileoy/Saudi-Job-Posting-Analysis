{
 "cells": [
  {
   "cell_type": "code",
   "execution_count": 171,
   "id": "e69c4ba1-85f3-4a02-ae37-c64347a01803",
   "metadata": {},
   "outputs": [],
   "source": [
    "#Import all relevant libraries\n",
    "import numpy as np\n",
    "import pandas as pd\n",
    "import matplotlib.pyplot as plt\n",
    "import seaborn as sns\n",
    "from scipy.stats import zscore\n",
    " \n",
    "## This statement allows the visuals to render within your Jupyter Notebook.\n",
    "%matplotlib inline"
   ]
  },
  {
   "cell_type": "markdown",
   "id": "e395e8bf-b530-4720-8d0f-26811e927d6e",
   "metadata": {},
   "source": [
    "## Loading the data\n",
    "We can now load the dataset into pandas using the read_csv() function. This converts the CSV file into a Pandas dataframe."
   ]
  },
  {
   "cell_type": "code",
   "execution_count": 172,
   "id": "cf4030b0-aa7f-4bd7-8e9c-c1b7f4d202d0",
   "metadata": {},
   "outputs": [],
   "source": [
    "#Read in the csv file and convert to a Pandas dataframe\n",
    "jobs_df = pd.read_csv('./data/Jadarat_data.csv')"
   ]
  },
  {
   "cell_type": "markdown",
   "id": "ca5ed983-0f72-43eb-8168-6fafd48c562e",
   "metadata": {},
   "source": [
    "### Viewing the dataframe\n",
    "We can get a quick sense of the size of our dataset by using the shape method. This returns a tuple with the number of rows and columns in the dataset."
   ]
  },
  {
   "cell_type": "code",
   "execution_count": 173,
   "id": "fc346f4a",
   "metadata": {},
   "outputs": [
    {
     "data": {
      "text/plain": [
       "(1470, 18)"
      ]
     },
     "execution_count": 173,
     "metadata": {},
     "output_type": "execute_result"
    }
   ],
   "source": [
    "jobs_df.shape"
   ]
  },
  {
   "cell_type": "code",
   "execution_count": 174,
   "id": "bfde0b69-613c-4dd1-8ebf-e4d2e570e653",
   "metadata": {},
   "outputs": [
    {
     "data": {
      "text/html": [
       "<div>\n",
       "<style scoped>\n",
       "    .dataframe tbody tr th:only-of-type {\n",
       "        vertical-align: middle;\n",
       "    }\n",
       "\n",
       "    .dataframe tbody tr th {\n",
       "        vertical-align: top;\n",
       "    }\n",
       "\n",
       "    .dataframe thead th {\n",
       "        text-align: right;\n",
       "    }\n",
       "</style>\n",
       "<table border=\"1\" class=\"dataframe\">\n",
       "  <thead>\n",
       "    <tr style=\"text-align: right;\">\n",
       "      <th></th>\n",
       "      <th>job_title</th>\n",
       "      <th>job_date</th>\n",
       "      <th>job_desc</th>\n",
       "      <th>job_tasks</th>\n",
       "      <th>comp_name</th>\n",
       "      <th>comp_no</th>\n",
       "      <th>comp_type</th>\n",
       "      <th>comp_size</th>\n",
       "      <th>eco_activity</th>\n",
       "      <th>qualif</th>\n",
       "      <th>region</th>\n",
       "      <th>city</th>\n",
       "      <th>benefits</th>\n",
       "      <th>contract</th>\n",
       "      <th>positions</th>\n",
       "      <th>job_post_id</th>\n",
       "      <th>exper</th>\n",
       "      <th>gender</th>\n",
       "    </tr>\n",
       "  </thead>\n",
       "  <tbody>\n",
       "    <tr>\n",
       "      <th>0</th>\n",
       "      <td>محاسب</td>\n",
       "      <td>27/05/1444</td>\n",
       "      <td>['إعداد وتنظيم مستندات الصرف ومتابعة تحصيل الإ...</td>\n",
       "      <td>['   تدقيق المطالبات المالية والتأكد من اكتمال...</td>\n",
       "      <td>شركة مقر العالم للسفريات</td>\n",
       "      <td>1-317262</td>\n",
       "      <td>خاص</td>\n",
       "      <td>متوسطة فئة أ</td>\n",
       "      <td>أنشطة وكالات السياحة والسفر</td>\n",
       "      <td>['Language data', 'اللغة الانجليزية', 'محترف']</td>\n",
       "      <td>الرياض</td>\n",
       "      <td>AR RIYADH...</td>\n",
       "      <td>['Salary', '5000.0']</td>\n",
       "      <td>دوام كامل</td>\n",
       "      <td>0 / 1</td>\n",
       "      <td>20202026350419</td>\n",
       "      <td>0 Years</td>\n",
       "      <td>both</td>\n",
       "    </tr>\n",
       "    <tr>\n",
       "      <th>1</th>\n",
       "      <td>بائع</td>\n",
       "      <td>27/05/1444</td>\n",
       "      <td>['بيع مجموعة من السلع والخدمات للعملاء، وتوفير...</td>\n",
       "      <td>['   بيع مجموعة من السلع والخدمات للعملاء.', '...</td>\n",
       "      <td>شركة عالم الكهرباء للمقاولات</td>\n",
       "      <td>4-1324428</td>\n",
       "      <td>خاص</td>\n",
       "      <td>متوسطة فئة ب</td>\n",
       "      <td>تركيب انظمة التبريد وتكييف الهواء وصيانتها واص...</td>\n",
       "      <td>NaN</td>\n",
       "      <td>المنطقة الشرقية</td>\n",
       "      <td>AD DAMMAM...</td>\n",
       "      <td>['Salary', '5000.0']</td>\n",
       "      <td>دوام كامل</td>\n",
       "      <td>0 / 3</td>\n",
       "      <td>20202026350389</td>\n",
       "      <td>0 Years</td>\n",
       "      <td>both</td>\n",
       "    </tr>\n",
       "  </tbody>\n",
       "</table>\n",
       "</div>"
      ],
      "text/plain": [
       "  job_title    job_date                                           job_desc  \\\n",
       "0     محاسب  27/05/1444  ['إعداد وتنظيم مستندات الصرف ومتابعة تحصيل الإ...   \n",
       "1      بائع  27/05/1444  ['بيع مجموعة من السلع والخدمات للعملاء، وتوفير...   \n",
       "\n",
       "                                           job_tasks  \\\n",
       "0  ['   تدقيق المطالبات المالية والتأكد من اكتمال...   \n",
       "1  ['   بيع مجموعة من السلع والخدمات للعملاء.', '...   \n",
       "\n",
       "                      comp_name    comp_no comp_type     comp_size  \\\n",
       "0      شركة مقر العالم للسفريات   1-317262       خاص  متوسطة فئة أ   \n",
       "1  شركة عالم الكهرباء للمقاولات  4-1324428       خاص  متوسطة فئة ب   \n",
       "\n",
       "                                        eco_activity  \\\n",
       "0                        أنشطة وكالات السياحة والسفر   \n",
       "1  تركيب انظمة التبريد وتكييف الهواء وصيانتها واص...   \n",
       "\n",
       "                                           qualif           region  \\\n",
       "0  ['Language data', 'اللغة الانجليزية', 'محترف']           الرياض   \n",
       "1                                             NaN  المنطقة الشرقية   \n",
       "\n",
       "           city              benefits   contract positions     job_post_id  \\\n",
       "0  AR RIYADH...  ['Salary', '5000.0']  دوام كامل     0 / 1  20202026350419   \n",
       "1  AD DAMMAM...  ['Salary', '5000.0']  دوام كامل     0 / 3  20202026350389   \n",
       "\n",
       "     exper gender  \n",
       "0  0 Years   both  \n",
       "1  0 Years   both  "
      ]
     },
     "execution_count": 174,
     "metadata": {},
     "output_type": "execute_result"
    }
   ],
   "source": [
    "jobs_df.head(2)"
   ]
  },
  {
   "cell_type": "code",
   "execution_count": 175,
   "id": "eb6162ba",
   "metadata": {},
   "outputs": [
    {
     "data": {
      "text/plain": [
       "job_title       object\n",
       "job_date        object\n",
       "job_desc        object\n",
       "job_tasks       object\n",
       "comp_name       object\n",
       "comp_no         object\n",
       "comp_type       object\n",
       "comp_size       object\n",
       "eco_activity    object\n",
       "qualif          object\n",
       "region          object\n",
       "city            object\n",
       "benefits        object\n",
       "contract        object\n",
       "positions       object\n",
       "job_post_id      int64\n",
       "exper           object\n",
       "gender          object\n",
       "dtype: object"
      ]
     },
     "execution_count": 175,
     "metadata": {},
     "output_type": "execute_result"
    }
   ],
   "source": [
    "jobs_df.dtypes"
   ]
  },
  {
   "cell_type": "markdown",
   "id": "bd2b5bc4-db37-4432-b666-0714afd0c4ca",
   "metadata": {},
   "source": [
    "## 1. Data Profiling:\n",
    "Data profiling is a comprehensive process of examining the data available in an existing dataset and collecting statistics and information about that data. "
   ]
  },
  {
   "cell_type": "code",
   "execution_count": 176,
   "id": "672f2081-5a2c-4908-8cbd-29519fb3cac5",
   "metadata": {},
   "outputs": [
    {
     "name": "stdout",
     "output_type": "stream",
     "text": [
      "<class 'pandas.core.frame.DataFrame'>\n",
      "RangeIndex: 1470 entries, 0 to 1469\n",
      "Data columns (total 18 columns):\n",
      " #   Column        Non-Null Count  Dtype \n",
      "---  ------        --------------  ----- \n",
      " 0   job_title     1470 non-null   object\n",
      " 1   job_date      1470 non-null   object\n",
      " 2   job_desc      1470 non-null   object\n",
      " 3   job_tasks     1470 non-null   object\n",
      " 4   comp_name     1470 non-null   object\n",
      " 5   comp_no       1470 non-null   object\n",
      " 6   comp_type     1470 non-null   object\n",
      " 7   comp_size     1456 non-null   object\n",
      " 8   eco_activity  1380 non-null   object\n",
      " 9   qualif        780 non-null    object\n",
      " 10  region        1470 non-null   object\n",
      " 11  city          1470 non-null   object\n",
      " 12  benefits      1470 non-null   object\n",
      " 13  contract      1470 non-null   object\n",
      " 14  positions     1470 non-null   object\n",
      " 15  job_post_id   1470 non-null   int64 \n",
      " 16  exper         1470 non-null   object\n",
      " 17  gender        1470 non-null   object\n",
      "dtypes: int64(1), object(17)\n",
      "memory usage: 206.8+ KB\n"
     ]
    }
   ],
   "source": [
    "jobs_df.info()"
   ]
  },
  {
   "cell_type": "code",
   "execution_count": 177,
   "id": "c3e74446",
   "metadata": {},
   "outputs": [
    {
     "data": {
      "text/html": [
       "<div>\n",
       "<style scoped>\n",
       "    .dataframe tbody tr th:only-of-type {\n",
       "        vertical-align: middle;\n",
       "    }\n",
       "\n",
       "    .dataframe tbody tr th {\n",
       "        vertical-align: top;\n",
       "    }\n",
       "\n",
       "    .dataframe thead th {\n",
       "        text-align: right;\n",
       "    }\n",
       "</style>\n",
       "<table border=\"1\" class=\"dataframe\">\n",
       "  <thead>\n",
       "    <tr style=\"text-align: right;\">\n",
       "      <th></th>\n",
       "      <th>job_title</th>\n",
       "      <th>job_date</th>\n",
       "      <th>job_desc</th>\n",
       "      <th>job_tasks</th>\n",
       "      <th>comp_name</th>\n",
       "      <th>comp_no</th>\n",
       "      <th>comp_type</th>\n",
       "      <th>comp_size</th>\n",
       "      <th>eco_activity</th>\n",
       "      <th>qualif</th>\n",
       "      <th>region</th>\n",
       "      <th>city</th>\n",
       "      <th>benefits</th>\n",
       "      <th>contract</th>\n",
       "      <th>positions</th>\n",
       "      <th>exper</th>\n",
       "      <th>gender</th>\n",
       "    </tr>\n",
       "  </thead>\n",
       "  <tbody>\n",
       "    <tr>\n",
       "      <th>count</th>\n",
       "      <td>1470</td>\n",
       "      <td>1470</td>\n",
       "      <td>1470</td>\n",
       "      <td>1470</td>\n",
       "      <td>1470</td>\n",
       "      <td>1470</td>\n",
       "      <td>1470</td>\n",
       "      <td>1456</td>\n",
       "      <td>1380</td>\n",
       "      <td>780</td>\n",
       "      <td>1470</td>\n",
       "      <td>1470</td>\n",
       "      <td>1470</td>\n",
       "      <td>1470</td>\n",
       "      <td>1470</td>\n",
       "      <td>1470</td>\n",
       "      <td>1470</td>\n",
       "    </tr>\n",
       "    <tr>\n",
       "      <th>unique</th>\n",
       "      <td>324</td>\n",
       "      <td>92</td>\n",
       "      <td>438</td>\n",
       "      <td>444</td>\n",
       "      <td>886</td>\n",
       "      <td>894</td>\n",
       "      <td>2</td>\n",
       "      <td>7</td>\n",
       "      <td>361</td>\n",
       "      <td>615</td>\n",
       "      <td>14</td>\n",
       "      <td>114</td>\n",
       "      <td>393</td>\n",
       "      <td>2</td>\n",
       "      <td>25</td>\n",
       "      <td>6</td>\n",
       "      <td>3</td>\n",
       "    </tr>\n",
       "    <tr>\n",
       "      <th>top</th>\n",
       "      <td>بائع</td>\n",
       "      <td>09/06/1444</td>\n",
       "      <td>['بيع مجموعة من السلع والخدمات للعملاء، وتوفير...</td>\n",
       "      <td>['   بيع مجموعة من السلع والخدمات للعملاء.', '...</td>\n",
       "      <td>شركه العرض المتقن للخدمات التجارية شركة مساهمة...</td>\n",
       "      <td>1-169123</td>\n",
       "      <td>خاص</td>\n",
       "      <td>صغيرة فئة ب</td>\n",
       "      <td>المطاعم مع الخدمة</td>\n",
       "      <td>['Language data', 'الانجليزية', 'متوسط']</td>\n",
       "      <td>الرياض</td>\n",
       "      <td>AR RIYADH...</td>\n",
       "      <td>['Salary', '4000.0']</td>\n",
       "      <td>دوام كامل</td>\n",
       "      <td>0 / 1</td>\n",
       "      <td>0 Years</td>\n",
       "      <td>both</td>\n",
       "    </tr>\n",
       "    <tr>\n",
       "      <th>freq</th>\n",
       "      <td>98</td>\n",
       "      <td>47</td>\n",
       "      <td>93</td>\n",
       "      <td>90</td>\n",
       "      <td>16</td>\n",
       "      <td>16</td>\n",
       "      <td>1465</td>\n",
       "      <td>635</td>\n",
       "      <td>65</td>\n",
       "      <td>28</td>\n",
       "      <td>622</td>\n",
       "      <td>523</td>\n",
       "      <td>449</td>\n",
       "      <td>1448</td>\n",
       "      <td>853</td>\n",
       "      <td>833</td>\n",
       "      <td>587</td>\n",
       "    </tr>\n",
       "  </tbody>\n",
       "</table>\n",
       "</div>"
      ],
      "text/plain": [
       "       job_title    job_date  \\\n",
       "count       1470        1470   \n",
       "unique       324          92   \n",
       "top         بائع  09/06/1444   \n",
       "freq          98          47   \n",
       "\n",
       "                                                 job_desc  \\\n",
       "count                                                1470   \n",
       "unique                                                438   \n",
       "top     ['بيع مجموعة من السلع والخدمات للعملاء، وتوفير...   \n",
       "freq                                                   93   \n",
       "\n",
       "                                                job_tasks  \\\n",
       "count                                                1470   \n",
       "unique                                                444   \n",
       "top     ['   بيع مجموعة من السلع والخدمات للعملاء.', '...   \n",
       "freq                                                   90   \n",
       "\n",
       "                                                comp_name   comp_no comp_type  \\\n",
       "count                                                1470      1470      1470   \n",
       "unique                                                886       894         2   \n",
       "top     شركه العرض المتقن للخدمات التجارية شركة مساهمة...  1-169123       خاص   \n",
       "freq                                                   16        16      1465   \n",
       "\n",
       "          comp_size       eco_activity  \\\n",
       "count          1456               1380   \n",
       "unique            7                361   \n",
       "top     صغيرة فئة ب  المطاعم مع الخدمة   \n",
       "freq            635                 65   \n",
       "\n",
       "                                          qualif  region          city  \\\n",
       "count                                        780    1470          1470   \n",
       "unique                                       615      14           114   \n",
       "top     ['Language data', 'الانجليزية', 'متوسط']  الرياض  AR RIYADH...   \n",
       "freq                                          28     622           523   \n",
       "\n",
       "                    benefits   contract positions    exper gender  \n",
       "count                   1470       1470      1470     1470   1470  \n",
       "unique                   393          2        25        6      3  \n",
       "top     ['Salary', '4000.0']  دوام كامل     0 / 1  0 Years   both  \n",
       "freq                     449       1448       853      833    587  "
      ]
     },
     "execution_count": 177,
     "metadata": {},
     "output_type": "execute_result"
    }
   ],
   "source": [
    "jobs_df.describe(include='object')"
   ]
  },
  {
   "cell_type": "code",
   "execution_count": 178,
   "id": "b9b840db",
   "metadata": {},
   "outputs": [
    {
     "data": {
      "text/plain": [
       "Index(['job_title', 'job_date', 'job_desc', 'job_tasks', 'comp_name',\n",
       "       'comp_no', 'comp_type', 'comp_size', 'eco_activity', 'qualif', 'region',\n",
       "       'city', 'benefits', 'contract', 'positions', 'job_post_id', 'exper',\n",
       "       'gender'],\n",
       "      dtype='object')"
      ]
     },
     "execution_count": 178,
     "metadata": {},
     "output_type": "execute_result"
    }
   ],
   "source": [
    "jobs_df.columns"
   ]
  },
  {
   "cell_type": "markdown",
   "id": "834929aa-fd6a-4ec5-84d4-77c4b3c1a506",
   "metadata": {},
   "source": [
    "The process of profiling differs slightly for categorical and numerical variables due to their inherent differences.\n",
    "\n",
    "**The two main types of data are:**\n",
    "- Quantitative (numerical) data\n",
    "- Qualitative (categorical) data"
   ]
  },
  {
   "cell_type": "markdown",
   "id": "3a9954f5-6fbc-45b4-ad86-3e21b6e0ca2d",
   "metadata": {},
   "source": [
    "### Data Quality Checks\n",
    "Data quality checks involve the process of ensuring that the data is accurate, complete, consistent, relevant, and reliable. \n",
    "\n",
    "\n",
    "**Here are typical steps involved in checking data quality:**"
   ]
  },
  {
   "cell_type": "markdown",
   "id": "4818c876-173d-4e56-9e7d-b4334d2def25",
   "metadata": {},
   "source": [
    "#### 1. Reliability:\n",
    "Evaluate the data's source and collection process to determine its trustworthiness."
   ]
  },
  {
   "cell_type": "code",
   "execution_count": 179,
   "id": "9034ae7b-dc1d-4cba-8f9e-bb499d021cde",
   "metadata": {},
   "outputs": [],
   "source": [
    "# In kaggle the data source is mentions \"Jadarat\""
   ]
  },
  {
   "cell_type": "markdown",
   "id": "2ce0cc59-8c92-4acc-8d07-c40764e1a86b",
   "metadata": {},
   "source": [
    "#### 2. Timeliness: \n",
    "Ensure the data is up-to-date and reflective of the current situation or the period of interest for the analysis."
   ]
  },
  {
   "cell_type": "code",
   "execution_count": 180,
   "id": "4b78ae35-7226-4cb6-b8b2-a46c2ed17cf9",
   "metadata": {},
   "outputs": [],
   "source": [
    "# Given that the problem statement didn't mention the time period, that means it should be for this year, but the data source is out of date."
   ]
  },
  {
   "cell_type": "markdown",
   "id": "7fab0fe2-6624-4615-b9d8-3c3669056bf8",
   "metadata": {},
   "source": [
    "#### 3. Consistency: \n",
    "\n",
    "Confirm that the data is consistent within the dataset and across multiple data sources. For example, the same data point should not have different values in different places.\n"
   ]
  },
  {
   "cell_type": "code",
   "execution_count": 181,
   "id": "7fecc573-959f-4800-8ddd-a67985c68b18",
   "metadata": {},
   "outputs": [],
   "source": [
    "# N/A"
   ]
  },
  {
   "cell_type": "markdown",
   "id": "bec3d183-bba0-4b12-b963-487daab1e876",
   "metadata": {},
   "source": [
    "#### 4. Relevance: \n",
    "Assess whether the data is appropriate and applicable for the intended analysis. Data that is not relevant can skew results and lead to incorrect conclusions.\n",
    "\n",
    "**Key considerations for relevance include:**\n",
    "\n",
    "> 1. Sample Appropriateness: Confirm that your data sample aligns with your analysis objectives. For instance, utilizing data from the Northern region will not yield accurate insights for the Western region of the Kingdom.\n",
    ">\n",
    "> 2. Variable Selection: Any column will not be relevant for our analysis, we can get rid of these using the drop() method. We will set the “axis” argument to 1 since we’re dealing with columns, and set the “inplace” argument to True to make the change permanent.\n"
   ]
  },
  {
   "cell_type": "code",
   "execution_count": 182,
   "id": "adfc5a62",
   "metadata": {},
   "outputs": [
    {
     "data": {
      "text/html": [
       "<div>\n",
       "<style scoped>\n",
       "    .dataframe tbody tr th:only-of-type {\n",
       "        vertical-align: middle;\n",
       "    }\n",
       "\n",
       "    .dataframe tbody tr th {\n",
       "        vertical-align: top;\n",
       "    }\n",
       "\n",
       "    .dataframe thead th {\n",
       "        text-align: right;\n",
       "    }\n",
       "</style>\n",
       "<table border=\"1\" class=\"dataframe\">\n",
       "  <thead>\n",
       "    <tr style=\"text-align: right;\">\n",
       "      <th></th>\n",
       "      <th>job_title</th>\n",
       "      <th>job_date</th>\n",
       "      <th>job_desc</th>\n",
       "      <th>job_tasks</th>\n",
       "      <th>comp_name</th>\n",
       "      <th>comp_no</th>\n",
       "      <th>comp_type</th>\n",
       "      <th>comp_size</th>\n",
       "      <th>eco_activity</th>\n",
       "      <th>qualif</th>\n",
       "      <th>region</th>\n",
       "      <th>city</th>\n",
       "      <th>benefits</th>\n",
       "      <th>contract</th>\n",
       "      <th>positions</th>\n",
       "      <th>job_post_id</th>\n",
       "      <th>exper</th>\n",
       "      <th>gender</th>\n",
       "    </tr>\n",
       "  </thead>\n",
       "  <tbody>\n",
       "    <tr>\n",
       "      <th>0</th>\n",
       "      <td>محاسب</td>\n",
       "      <td>27/05/1444</td>\n",
       "      <td>['إعداد وتنظيم مستندات الصرف ومتابعة تحصيل الإ...</td>\n",
       "      <td>['   تدقيق المطالبات المالية والتأكد من اكتمال...</td>\n",
       "      <td>شركة مقر العالم للسفريات</td>\n",
       "      <td>1-317262</td>\n",
       "      <td>خاص</td>\n",
       "      <td>متوسطة فئة أ</td>\n",
       "      <td>أنشطة وكالات السياحة والسفر</td>\n",
       "      <td>['Language data', 'اللغة الانجليزية', 'محترف']</td>\n",
       "      <td>الرياض</td>\n",
       "      <td>AR RIYADH...</td>\n",
       "      <td>['Salary', '5000.0']</td>\n",
       "      <td>دوام كامل</td>\n",
       "      <td>0 / 1</td>\n",
       "      <td>20202026350419</td>\n",
       "      <td>0 Years</td>\n",
       "      <td>both</td>\n",
       "    </tr>\n",
       "    <tr>\n",
       "      <th>1</th>\n",
       "      <td>بائع</td>\n",
       "      <td>27/05/1444</td>\n",
       "      <td>['بيع مجموعة من السلع والخدمات للعملاء، وتوفير...</td>\n",
       "      <td>['   بيع مجموعة من السلع والخدمات للعملاء.', '...</td>\n",
       "      <td>شركة عالم الكهرباء للمقاولات</td>\n",
       "      <td>4-1324428</td>\n",
       "      <td>خاص</td>\n",
       "      <td>متوسطة فئة ب</td>\n",
       "      <td>تركيب انظمة التبريد وتكييف الهواء وصيانتها واص...</td>\n",
       "      <td>NaN</td>\n",
       "      <td>المنطقة الشرقية</td>\n",
       "      <td>AD DAMMAM...</td>\n",
       "      <td>['Salary', '5000.0']</td>\n",
       "      <td>دوام كامل</td>\n",
       "      <td>0 / 3</td>\n",
       "      <td>20202026350389</td>\n",
       "      <td>0 Years</td>\n",
       "      <td>both</td>\n",
       "    </tr>\n",
       "  </tbody>\n",
       "</table>\n",
       "</div>"
      ],
      "text/plain": [
       "  job_title    job_date                                           job_desc  \\\n",
       "0     محاسب  27/05/1444  ['إعداد وتنظيم مستندات الصرف ومتابعة تحصيل الإ...   \n",
       "1      بائع  27/05/1444  ['بيع مجموعة من السلع والخدمات للعملاء، وتوفير...   \n",
       "\n",
       "                                           job_tasks  \\\n",
       "0  ['   تدقيق المطالبات المالية والتأكد من اكتمال...   \n",
       "1  ['   بيع مجموعة من السلع والخدمات للعملاء.', '...   \n",
       "\n",
       "                      comp_name    comp_no comp_type     comp_size  \\\n",
       "0      شركة مقر العالم للسفريات   1-317262       خاص  متوسطة فئة أ   \n",
       "1  شركة عالم الكهرباء للمقاولات  4-1324428       خاص  متوسطة فئة ب   \n",
       "\n",
       "                                        eco_activity  \\\n",
       "0                        أنشطة وكالات السياحة والسفر   \n",
       "1  تركيب انظمة التبريد وتكييف الهواء وصيانتها واص...   \n",
       "\n",
       "                                           qualif           region  \\\n",
       "0  ['Language data', 'اللغة الانجليزية', 'محترف']           الرياض   \n",
       "1                                             NaN  المنطقة الشرقية   \n",
       "\n",
       "           city              benefits   contract positions     job_post_id  \\\n",
       "0  AR RIYADH...  ['Salary', '5000.0']  دوام كامل     0 / 1  20202026350419   \n",
       "1  AD DAMMAM...  ['Salary', '5000.0']  دوام كامل     0 / 3  20202026350389   \n",
       "\n",
       "     exper gender  \n",
       "0  0 Years   both  \n",
       "1  0 Years   both  "
      ]
     },
     "execution_count": 182,
     "metadata": {},
     "output_type": "execute_result"
    }
   ],
   "source": [
    "jobs_df.head(2)"
   ]
  },
  {
   "cell_type": "code",
   "execution_count": 183,
   "id": "50a934b7-a0cd-443f-8a27-f10e9a6e8647",
   "metadata": {
    "scrolled": true
   },
   "outputs": [],
   "source": [
    "# No need for ['job_date', 'job_desc', 'job_tasks', 'comp_type', 'comp_size', 'eco_activity' , 'qualif', 'positions', 'job_post_id'], because we don't need them to answer the problem statements.\n",
    "jobs_df.drop(['job_date', 'job_desc', 'job_tasks', 'comp_type', 'comp_size', 'eco_activity' , 'qualif', 'positions', 'job_post_id'], axis=1, inplace=True)"
   ]
  },
  {
   "cell_type": "code",
   "execution_count": 184,
   "id": "8a254460",
   "metadata": {},
   "outputs": [
    {
     "data": {
      "text/html": [
       "<div>\n",
       "<style scoped>\n",
       "    .dataframe tbody tr th:only-of-type {\n",
       "        vertical-align: middle;\n",
       "    }\n",
       "\n",
       "    .dataframe tbody tr th {\n",
       "        vertical-align: top;\n",
       "    }\n",
       "\n",
       "    .dataframe thead th {\n",
       "        text-align: right;\n",
       "    }\n",
       "</style>\n",
       "<table border=\"1\" class=\"dataframe\">\n",
       "  <thead>\n",
       "    <tr style=\"text-align: right;\">\n",
       "      <th></th>\n",
       "      <th>job_title</th>\n",
       "      <th>comp_name</th>\n",
       "      <th>comp_no</th>\n",
       "      <th>region</th>\n",
       "      <th>city</th>\n",
       "      <th>benefits</th>\n",
       "      <th>contract</th>\n",
       "      <th>exper</th>\n",
       "      <th>gender</th>\n",
       "    </tr>\n",
       "  </thead>\n",
       "  <tbody>\n",
       "    <tr>\n",
       "      <th>0</th>\n",
       "      <td>محاسب</td>\n",
       "      <td>شركة مقر العالم للسفريات</td>\n",
       "      <td>1-317262</td>\n",
       "      <td>الرياض</td>\n",
       "      <td>AR RIYADH...</td>\n",
       "      <td>['Salary', '5000.0']</td>\n",
       "      <td>دوام كامل</td>\n",
       "      <td>0 Years</td>\n",
       "      <td>both</td>\n",
       "    </tr>\n",
       "    <tr>\n",
       "      <th>1</th>\n",
       "      <td>بائع</td>\n",
       "      <td>شركة عالم الكهرباء للمقاولات</td>\n",
       "      <td>4-1324428</td>\n",
       "      <td>المنطقة الشرقية</td>\n",
       "      <td>AD DAMMAM...</td>\n",
       "      <td>['Salary', '5000.0']</td>\n",
       "      <td>دوام كامل</td>\n",
       "      <td>0 Years</td>\n",
       "      <td>both</td>\n",
       "    </tr>\n",
       "  </tbody>\n",
       "</table>\n",
       "</div>"
      ],
      "text/plain": [
       "  job_title                     comp_name    comp_no           region  \\\n",
       "0     محاسب      شركة مقر العالم للسفريات   1-317262           الرياض   \n",
       "1      بائع  شركة عالم الكهرباء للمقاولات  4-1324428  المنطقة الشرقية   \n",
       "\n",
       "           city              benefits   contract    exper gender  \n",
       "0  AR RIYADH...  ['Salary', '5000.0']  دوام كامل  0 Years   both  \n",
       "1  AD DAMMAM...  ['Salary', '5000.0']  دوام كامل  0 Years   both  "
      ]
     },
     "execution_count": 184,
     "metadata": {},
     "output_type": "execute_result"
    }
   ],
   "source": [
    "jobs_df.head(2)"
   ]
  },
  {
   "cell_type": "markdown",
   "id": "0f5e3a2a-bbb7-4d06-8220-c93277b70146",
   "metadata": {},
   "source": [
    "#### 5. Uniqueness: \n",
    "Check for and remove duplicate records to prevent skewed analysis results.\n"
   ]
  },
  {
   "cell_type": "code",
   "execution_count": 185,
   "id": "a509a7aa-58f4-4d39-8eb8-e8298a21f2a7",
   "metadata": {},
   "outputs": [
    {
     "data": {
      "text/plain": [
       "116"
      ]
     },
     "execution_count": 185,
     "metadata": {},
     "output_type": "execute_result"
    }
   ],
   "source": [
    "jobs_df.duplicated().sum()"
   ]
  },
  {
   "cell_type": "code",
   "execution_count": 186,
   "id": "04c62559-3b48-48cf-a4e9-857e2e0ff416",
   "metadata": {},
   "outputs": [],
   "source": [
    "# go to delete duplicates columns\n",
    "jobs_df.drop_duplicates(inplace=True)"
   ]
  },
  {
   "cell_type": "code",
   "execution_count": 187,
   "id": "f387512a",
   "metadata": {},
   "outputs": [
    {
     "data": {
      "text/plain": [
       "0"
      ]
     },
     "execution_count": 187,
     "metadata": {},
     "output_type": "execute_result"
    }
   ],
   "source": [
    "jobs_df.duplicated().sum()"
   ]
  },
  {
   "cell_type": "markdown",
   "id": "c7724ac2-4ea2-4cf4-a9e0-e64368f87b92",
   "metadata": {},
   "source": [
    "#### 6. Completeness: \n",
    "Ensure that no critical data is missing. This might mean checking for null values or required fields that are empty.\n",
    "\n",
    "We will start by checking the dataset for missing or null values. For this, we can use the isna() method which returns a dataframe of boolean values indicating if a field is null or not. To group all missing values by column, we can include the sum() method."
   ]
  },
  {
   "cell_type": "code",
   "execution_count": 188,
   "id": "fa69632c",
   "metadata": {},
   "outputs": [
    {
     "data": {
      "text/plain": [
       "(1354, 9)"
      ]
     },
     "execution_count": 188,
     "metadata": {},
     "output_type": "execute_result"
    }
   ],
   "source": [
    "jobs_df.shape"
   ]
  },
  {
   "cell_type": "code",
   "execution_count": 189,
   "id": "48a4de54-a344-4b94-9908-9528c15c13f7",
   "metadata": {},
   "outputs": [
    {
     "name": "stdout",
     "output_type": "stream",
     "text": [
      "<class 'pandas.core.frame.DataFrame'>\n",
      "Index: 1354 entries, 0 to 1468\n",
      "Data columns (total 9 columns):\n",
      " #   Column     Non-Null Count  Dtype \n",
      "---  ------     --------------  ----- \n",
      " 0   job_title  1354 non-null   object\n",
      " 1   comp_name  1354 non-null   object\n",
      " 2   comp_no    1354 non-null   object\n",
      " 3   region     1354 non-null   object\n",
      " 4   city       1354 non-null   object\n",
      " 5   benefits   1354 non-null   object\n",
      " 6   contract   1354 non-null   object\n",
      " 7   exper      1354 non-null   object\n",
      " 8   gender     1354 non-null   object\n",
      "dtypes: object(9)\n",
      "memory usage: 105.8+ KB\n"
     ]
    }
   ],
   "source": [
    "#Display number missing values per column\n",
    "jobs_df.info()"
   ]
  },
  {
   "cell_type": "code",
   "execution_count": 190,
   "id": "abec31c4-0904-4b73-8cee-b7bc14ab1e67",
   "metadata": {},
   "outputs": [],
   "source": [
    "# go to clean them \n",
    "# No missing values in the dataset"
   ]
  },
  {
   "cell_type": "markdown",
   "id": "b40de63c-5a1d-49ed-a87e-c5229ee08bbe",
   "metadata": {},
   "source": [
    "#### 7. Check Accuracy:\n",
    "\n",
    "Verify that the data is correct and precise. This could involve comparing data samples with known sources or using validation rules.\n",
    "\n",
    "**The process includes:**\n",
    "1. Validating the appropriateness of data types for the dataset.\n",
    "2. Identifying outliers  using established validation  rule"
   ]
  },
  {
   "cell_type": "code",
   "execution_count": 191,
   "id": "68be5334-ae10-4abd-8097-3259fe5e72c8",
   "metadata": {},
   "outputs": [
    {
     "data": {
      "text/plain": [
       "job_title    object\n",
       "comp_name    object\n",
       "comp_no      object\n",
       "region       object\n",
       "city         object\n",
       "benefits     object\n",
       "contract     object\n",
       "exper        object\n",
       "gender       object\n",
       "dtype: object"
      ]
     },
     "execution_count": 191,
     "metadata": {},
     "output_type": "execute_result"
    }
   ],
   "source": [
    "# check columns types \n",
    "jobs_df.dtypes"
   ]
  },
  {
   "cell_type": "code",
   "execution_count": 192,
   "id": "2ee790ba-dcc0-45f1-b6f8-0133e913e149",
   "metadata": {},
   "outputs": [
    {
     "data": {
      "text/plain": [
       "region\n",
       "الرياض             571\n",
       "مكة المكرمة        339\n",
       "المنطقة الشرقية    206\n",
       "المدينة المنورة     75\n",
       "الباحة              45\n",
       "عسير                37\n",
       "القصيم              29\n",
       "حائل                18\n",
       "تبوك                11\n",
       "نجران                8\n",
       "جازان                7\n",
       "الحدود الشمالية      4\n",
       "الجوف                3\n",
       "اخرى                 1\n",
       "Name: count, dtype: int64"
      ]
     },
     "execution_count": 192,
     "metadata": {},
     "output_type": "execute_result"
    }
   ],
   "source": [
    "# go to clean them \n",
    "jobs_df['region'].value_counts()"
   ]
  },
  {
   "cell_type": "code",
   "execution_count": 193,
   "id": "f9cbb12b",
   "metadata": {},
   "outputs": [
    {
     "data": {
      "text/plain": [
       "array(['الرياض', 'المنطقة الشرقية', 'مكة المكرمة', 'حائل',\n",
       "       'المدينة المنورة', 'الباحة', 'عسير', 'القصيم', 'تبوك', 'جازان',\n",
       "       'الحدود الشمالية', 'نجران', 'الجوف', 'اخرى'], dtype=object)"
      ]
     },
     "execution_count": 193,
     "metadata": {},
     "output_type": "execute_result"
    }
   ],
   "source": [
    "jobs_df['region'].unique()"
   ]
  },
  {
   "cell_type": "code",
   "execution_count": 194,
   "id": "d41ed41b",
   "metadata": {},
   "outputs": [
    {
     "data": {
      "text/html": [
       "<div>\n",
       "<style scoped>\n",
       "    .dataframe tbody tr th:only-of-type {\n",
       "        vertical-align: middle;\n",
       "    }\n",
       "\n",
       "    .dataframe tbody tr th {\n",
       "        vertical-align: top;\n",
       "    }\n",
       "\n",
       "    .dataframe thead th {\n",
       "        text-align: right;\n",
       "    }\n",
       "</style>\n",
       "<table border=\"1\" class=\"dataframe\">\n",
       "  <thead>\n",
       "    <tr style=\"text-align: right;\">\n",
       "      <th></th>\n",
       "      <th>job_title</th>\n",
       "      <th>comp_name</th>\n",
       "      <th>comp_no</th>\n",
       "      <th>region</th>\n",
       "      <th>city</th>\n",
       "      <th>benefits</th>\n",
       "      <th>contract</th>\n",
       "      <th>exper</th>\n",
       "      <th>gender</th>\n",
       "    </tr>\n",
       "  </thead>\n",
       "  <tbody>\n",
       "    <tr>\n",
       "      <th>499</th>\n",
       "      <td>محاسب</td>\n",
       "      <td>مؤسسة سلاسل بابل للمقاولات</td>\n",
       "      <td>13-97350</td>\n",
       "      <td>اخرى</td>\n",
       "      <td>ABU TARFA...</td>\n",
       "      <td>['Salary', '4000.0']</td>\n",
       "      <td>دوام كامل</td>\n",
       "      <td>0 Years</td>\n",
       "      <td>F</td>\n",
       "    </tr>\n",
       "  </tbody>\n",
       "</table>\n",
       "</div>"
      ],
      "text/plain": [
       "    job_title                   comp_name   comp_no region          city  \\\n",
       "499     محاسب  مؤسسة سلاسل بابل للمقاولات  13-97350   اخرى  ABU TARFA...   \n",
       "\n",
       "                 benefits   contract    exper gender  \n",
       "499  ['Salary', '4000.0']  دوام كامل  0 Years      F  "
      ]
     },
     "execution_count": 194,
     "metadata": {},
     "output_type": "execute_result"
    }
   ],
   "source": [
    "jobs_df[jobs_df['region'] == 'اخرى']"
   ]
  },
  {
   "cell_type": "code",
   "execution_count": 195,
   "id": "b1f45171",
   "metadata": {},
   "outputs": [],
   "source": [
    "jobs_df.drop(jobs_df[jobs_df['region'] == 'اخرى'].index, inplace=True)"
   ]
  },
  {
   "cell_type": "code",
   "execution_count": 196,
   "id": "9e81f679",
   "metadata": {},
   "outputs": [
    {
     "data": {
      "text/plain": [
       "array(['الرياض', 'المنطقة الشرقية', 'مكة المكرمة', 'حائل',\n",
       "       'المدينة المنورة', 'الباحة', 'عسير', 'القصيم', 'تبوك', 'جازان',\n",
       "       'الحدود الشمالية', 'نجران', 'الجوف'], dtype=object)"
      ]
     },
     "execution_count": 196,
     "metadata": {},
     "output_type": "execute_result"
    }
   ],
   "source": [
    "jobs_df['region'].unique()"
   ]
  },
  {
   "cell_type": "code",
   "execution_count": 197,
   "id": "7c814f96",
   "metadata": {},
   "outputs": [
    {
     "data": {
      "text/plain": [
       "array([\"['Salary', '5000.0']\", \"['Salary', '4000.0']\",\n",
       "       \"['Salary', '4500.0']\", \"['Salary', '6000.0']\",\n",
       "       \"['Salary', '8000.0']\", \"['Salary', '10000.0']\",\n",
       "       \"['Salary', '7200.0', 'Benefits', 'بدل نقل 800 ريال']\",\n",
       "       \"['Salary', '7000.0']\", \"['Salary', '3000.0']\",\n",
       "       \"['Salary', '9000.0']\", \"['Salary', '12000.0']\",\n",
       "       \"['Salary', '5500.0']\", \"['Salary', '8400.0']\",\n",
       "       \"['Salary', '4000.0', 'Benefits', '500']\",\n",
       "       \"['Salary', '4000.0', 'Benefits', '2000']\",\n",
       "       \"['Salary', '4000.0', 'Benefits', 'تأمين طبي حسب نظام مكتب العمل']\",\n",
       "       \"['Salary', '4000.0', 'Benefits', '1000 حسب الخبره']\",\n",
       "       \"['Salary', '4000.0', 'Benefits', '4000 SR']\",\n",
       "       \"['Salary', '3200.0', 'Benefits', '3200 ريال']\",\n",
       "       \"['Salary', '5000.0', 'Benefits', '500 بدل نقل و500 بدل سكن وتامين طبي']\",\n",
       "       \"['Salary', '4500.0', 'Benefits', 'حسب سنوات الخبرة']\",\n",
       "       \"['Salary', '4500.0', 'Benefits', 'تارقت شهري', 'بونص سنوي']\",\n",
       "       \"['Salary', '4500.0', 'Benefits', 'اجازه يومين بالاسبوع ']\",\n",
       "       \"['Salary', '4170.0', 'Benefits', 'بدل نقل 400']\",\n",
       "       \"['Salary', '4500.0', 'Benefits', 'تأمين طبي+ اجازة يوم واحد ']\",\n",
       "       \"['Salary', '4000.0', 'Benefits', 'ستكون مزايا اخرى في حال اتقان العمل']\",\n",
       "       \"['Salary', '4500.0', 'Benefits', 'تحدد عند المقابلة ']\",\n",
       "       \"['Salary', '4000.0', 'Benefits', 'تامين طبي ']\",\n",
       "       \"['Salary', '4000.0', 'Benefits', 'تامين طبي']\",\n",
       "       \"['Salary', '5500.0', 'Benefits', '500 ']\", \"['Salary', '3640.0']\",\n",
       "       \"['Salary', '8000.0', 'Benefits', 'عمولة على الدخل']\",\n",
       "       \"['Salary', '5250.0', 'Benefits', 'بدل نقل 450 ريال', '', 'اجازة يومي الجمعة والسبت']\",\n",
       "       \"['Salary', '5000.0', 'Benefits', 'بعد المقابلة ']\",\n",
       "       \"['Salary', '4000.0', 'Benefits', 'مكافأت شهرية ', 'حوافز اسبوعية']\",\n",
       "       \"['Salary', '7000.0', 'Benefits', '  ']\",\n",
       "       \"['Salary', '4000.0', 'Benefits', 'يتم الاتفاق عليها عند العمل ']\",\n",
       "       \"['Salary', '5000.0', 'Benefits', 'عمولات وزياده في حال اتقان العمل ']\",\n",
       "       \"['Salary', '5500.0', 'Benefits', 'نسبة على الرد ']\",\n",
       "       \"['Salary', '6000.0', 'Benefits', 'تامين طبي وتامين اجتماعي']\",\n",
       "       \"['Salary', '4400.0', 'Benefits', 'اضافي ']\",\n",
       "       \"['Salary', '4000.0', 'Benefits', 'بدلات اخرى 500']\",\n",
       "       \"['Salary', '3200.0']\", \"['Salary', '4082.0', 'Benefits', '326']\",\n",
       "       \"['Salary', '7000.0', 'Benefits', 'بدل مواصلات ', 'يحدد الراتب بعد المقابلة الشخصية بما لا يقل عن 7000 الاف اجر للاشتراك']\",\n",
       "       \"['Salary', '5000.0', 'Benefits', 'بدل مواصلات 400']\",\n",
       "       \"['Salary', '4000.0', 'Benefits', 'لايوجد']\",\n",
       "       \"['Salary', '8000.0', 'Benefits', 'تحدد بعد المقابلة الشخصية ']\",\n",
       "       \"['Salary', '5000.0', 'Benefits', 'بدل مواصلات 400 ريال']\",\n",
       "       \"['Salary', '6150.0']\",\n",
       "       \"['Salary', '6500.0', 'Benefits', 'تامين طبي ', 'اجازه سنويه 21 مدفعة الاجر ']\",\n",
       "       \"['Salary', '4400.0']\",\n",
       "       \"['Salary', '5000.0', 'Benefits', 'بدل نقل 400 ريال', 'اجازة مدفوعة الاجر 30 يوم بالسنة', 'تأمين طبي للموظف وعائلته']\",\n",
       "       \"['Salary', '5000.0', 'Benefits', '300']\",\n",
       "       \"['Salary', '4000.0', 'Benefits', 'بدل مواصلات 500 ']\",\n",
       "       \"['Salary', '15000.0']\", \"['Salary', '16000.0']\",\n",
       "       \"['Salary', '5000.0', 'Benefits', 'تامين طبي']\",\n",
       "       \"['Salary', '4500.0', 'Benefits', 'تأمين طب ']\",\n",
       "       \"['Salary', '4500.0', 'Benefits', 'الراتب شامل بدل سكن + بدل مواصلات ']\",\n",
       "       \"['Salary', '7000.0', 'Benefits', 'تأمين طبي ممتاز ']\",\n",
       "       \"['Salary', '5000.0', 'Benefits', 'تأمين طبي']\",\n",
       "       \"['Salary', '6500.0']\",\n",
       "       \"['Salary', '3000.0', 'Benefits', ' الدوام 4 ساعات مساء من 5 عصر  الي 9 مساء ', 'مكتب مقاولات عامة ']\",\n",
       "       \"['Salary', '5700.0']\",\n",
       "       \"['Salary', '5500.0', 'Benefits', 'بدل مواصلات 500']\",\n",
       "       \"['Salary', '5000.0', 'Benefits', 'بدل أنتقال', 'حوافز على المبيعات']\",\n",
       "       \"['Salary', '4000.0', 'Benefits', 'بدل تنقل ', 'حوافز ماديه على المبيعات ']\",\n",
       "       \"['Salary', '4000.0', 'Benefits', '400تامينات اجتماعية ']\",\n",
       "       \"['Salary', '4000.0', 'Benefits', 'الراتب يتحدد بعد المقابلة الشخصية ']\",\n",
       "       \"['Salary', '10000.0', 'Benefits', 'الراتب يتراوح من 10000 الى 15000 ويتحدد بعد المقابلة الشخصية ']\",\n",
       "       \"['Salary', '5000.0', 'Benefits', 'الراتب الاساسي يتحدد بعد المقابلة ']\",\n",
       "       \"['Salary', '4000.0', 'Benefits', 'الراتب يتحدد بعد المقابله الشخصية ']\",\n",
       "       \"['Salary', '4782.0']\",\n",
       "       \"['Salary', '3200.0', 'Benefits', 'تأمين طبي']\",\n",
       "       \"['Salary', '7000.0', 'Benefits', '* تامين طبي']\",\n",
       "       \"['Salary', '5000.0', 'Benefits', '* تأمين طبي']\",\n",
       "       \"['Salary', '6000.0', 'Benefits', '0']\",\n",
       "       \"['Salary', '4000.0', 'Benefits', '0']\",\n",
       "       \"['Salary', '10000.0', 'Benefits', 'نسبة  30% علي دخل العيادة الخاصة به بعد 20000 ريال ']\",\n",
       "       \"['Salary', '4500.0', 'Benefits', 'تأمين طبي', 'دورات تدريبيه وتطويرية', 'مكأفأت معنويه ومادية']\",\n",
       "       \"['Salary', '4000.0', 'Benefits', '400']\",\n",
       "       \"['Salary', '4000.0', 'Benefits', 'عمولات عند تحقيق الهدف']\",\n",
       "       \"['Salary', '6000.0', 'Benefits', 'حوافز 3000 ريال شهري ', 'تامين طبي ', 'فرص عاليه للتطوير الوظيفي ']\",\n",
       "       \"['Salary', '4000.0', 'Benefits', 'مكافأت سنوية']\",\n",
       "       \"['Salary', '4375.0']\",\n",
       "       \"['Salary', '5000.0', 'Benefits', 'الراتب شامل']\",\n",
       "       \"['Salary', '6500.0', 'Benefits', 'اجازه يومين في الاسبوع', 'خصومات لدى منسوبين', 'ومزايا اخرى تحدد وقت المقابلة الشخصية ']\",\n",
       "       \"['Salary', '4000.0', 'Benefits', 'يوجد بدل ساعات اضافيه ان لزم الامر']\",\n",
       "       \"['Salary', '5500.0', 'Benefits', 'حسب السيرة الذاتية']\",\n",
       "       \"['Salary', '4434.0', 'Benefits', 'شامل بدل السكن والمواصلات']\",\n",
       "       \"['Salary', '10000.0', 'Benefits', 'تأمين طبي للموظف ولأفراد اسرتة - بدل مواصلات']\",\n",
       "       \"['Salary', '6000.0', 'Benefits', 'بعد المقابلة الشخصية ']\",\n",
       "       \"['Salary', '6500.0', 'Benefits', 'بدلات اخرى +بدل مواصلات']\",\n",
       "       \"['Salary', '4000.0', 'Benefits', 'عمولة مبيعات ']\",\n",
       "       \"['Salary', '6000.0', 'Benefits', 'نسبة الخصم ال10% من التأمينات الاجتماعية مستردة للموظف']\",\n",
       "       \"['Salary', '13889.0']\", \"['Salary', '4444.0']\",\n",
       "       \"['Salary', '4800.0']\",\n",
       "       \"['Salary', '5000.0', 'Benefits', '- تأمين طبي ', '- دوات تدريبيه وتطويريه']\",\n",
       "       \"['Salary', '6000.0', 'Benefits', 'نسبة خصم التأمينات الاجتماعية ال10& مستردة للموظف']\",\n",
       "       \"['Salary', '4000.0', 'Benefits', 'حوافز مبيعات']\",\n",
       "       \"['Salary', '5000.0', 'Benefits', '500']\",\n",
       "       \"['Salary', '4500.0', 'Benefits', '600 بدل مواصلات']\",\n",
       "       \"['Salary', '4500.0', 'Benefits', 'تأمين طبي وعلاوت سنوية وحوافز حسب تقييم مهندسي المشروع']\",\n",
       "       \"['Salary', '4000.0', 'Benefits', 'تأمين طبي']\",\n",
       "       \"['Salary', '4000.0', 'Benefits', 'عمولة على المبيعات ', 'تأمين طبي', '4000 رابت صافي بعد استقطاع اشتراك التامينات الاجتماعية ']\",\n",
       "       \"['Salary', '4000.0', 'Benefits', 'حسب سياسات الشركة ']\",\n",
       "       \"['Salary', '5625.0', 'Benefits', 'عمولات ']\",\n",
       "       \"['Salary', '9200.0', 'Benefits', 'الرواتب تعتمد على توصيل الطرود ']\",\n",
       "       \"['Salary', '5600.0']\", \"['Salary', '8803.0']\",\n",
       "       \"['Salary', '4000.0', 'Benefits', 'تامين طبي', 'تامينات', 'تدريب ']\",\n",
       "       \"['Salary', '4000.0', 'Benefits', 'فرص للترقي وزياده الراتب والعمولات البيعيه']\",\n",
       "       \"['Salary', '4000.0', 'Benefits', 'مكافئات شهرية', 'علاوات سنوية ']\",\n",
       "       \"['Salary', '6000.0', 'Benefits', 'عمولة مبيعات، تأمين طبي']\",\n",
       "       \"['Salary', '4000.0', 'Benefits', 'عمولات']\",\n",
       "       \"['Salary', '3200.0', 'Benefits', 'تسجيل تامينات الاجتماعية']\",\n",
       "       \"['Salary', '4000.0', 'Benefits', 'عمولة عند تحقيق هدف المبيعات الشهري']\",\n",
       "       \"['Salary', '6000.0', 'Benefits', 'عمولات ربع سنوية']\",\n",
       "       \"['Salary', '6000.0', 'Benefits', 'عمولات كل ربع سنة']\",\n",
       "       \"['Salary', '3500.0']\",\n",
       "       \"['Salary', '5093.0', 'Benefits', 'بدل نقل: 407 ريال ']\",\n",
       "       \"['Salary', '5800.0']\",\n",
       "       \"['Salary', '9000.0', 'Benefits', 'الراتب الاجمالي 9000 قابل للزيادة حسب المقابلة الشخصية']\",\n",
       "       \"['Salary', '4000.0', 'Benefits', ' ']\", \"['Salary', '5625.0']\",\n",
       "       \"['Salary', '6000.0', 'Benefits', 'ــ الراتب من 7000 إلى 8000 ريال بحسب المقابلة الشخصية ', 'ــ تأمين طبي بحسب اللائحة الداخلية . ']\",\n",
       "       \"['Salary', '5000.0', 'Benefits', '1- التامين الطبي ', '2- اجازات سنويه 30 ', '3- خصم للوالدين 50%', '4- خصم للاخوان 30%', '5- زيادة سنوية 4% حسب تقييم السنوية ']\",\n",
       "       \"['Salary', '5000.0', 'Benefits', 'ارسال السيرة الذاتية على اميل ', 'salih_1434h@hotmail.com']\",\n",
       "       \"['Salary', '5000.0', 'Benefits', 'بدل مواصلات']\",\n",
       "       \"['Salary', '5200.0']\",\n",
       "       \"['Salary', '8000.0', 'Benefits', 'ان يكون الخبرة فوق 10 سنوات ', 'ويكون مسجل في الهيئة السعودية للمهندسين محترف']\",\n",
       "       \"['Salary', '4000.0', 'Benefits', 'فرص للترقي']\",\n",
       "       \"['Salary', '8500.0', 'Benefits', 'تأمين طبي']\",\n",
       "       \"['Salary', '4000.0', 'Benefits', 'مكافآت سنويه']\",\n",
       "       \"['Salary', '3600.0']\",\n",
       "       \"['Salary', '6000.0', 'Benefits', 'بدل خارج دوام -- مواصلات  ']\",\n",
       "       \"['Salary', '6000.0', 'Benefits', 'تحدد بعد المقابله']\",\n",
       "       \"['Salary', '7000.0', 'Benefits', 'يحدد بعد المقابله']\",\n",
       "       \"['Salary', '7500.0']\", \"['Salary', '4408.0']\",\n",
       "       \"['Salary', '5500.0', 'Benefits', 'عمولات ']\",\n",
       "       \"['Salary', '4000.0', 'Benefits', 'بدل مواصلات + عمولة مبيعات + تأمين طبي']\",\n",
       "       \"['Salary', '27000.0']\",\n",
       "       \"['Salary', '7500.0', 'Benefits', '600 بل مواصلات', 'تامين طبي']\",\n",
       "       \"['Salary', '4083.0', 'Benefits', '500 بدل مواصلات ', 'تامين طبي']\",\n",
       "       \"['Salary', '7000.0', 'Benefits', 'تامين طبي', 'اجازه يوم في الاسبوع', 'اجازه سنويه']\",\n",
       "       \"['Salary', '12000.0', 'Benefits', 'تامين طبي ', 'اجازه يوم في الاسبوع', 'اجازه سنويه']\",\n",
       "       \"['Salary', '5500.0', 'Benefits', 'راتب أساسي بدون بدلات']\",\n",
       "       \"['Salary', '5500.0', 'Benefits', 'راتب أساسي فقط']\",\n",
       "       \"['Salary', '5000.0', 'Benefits', 'عمولة مستهدفة من ارباح الفرع ']\",\n",
       "       \"['Salary', '10000.0', 'Benefits', 'راتب أساسي فقط']\",\n",
       "       \"['Salary', '4000.0', 'Benefits', 'عمولات بيع']\",\n",
       "       \"['Salary', '4600.0']\", \"['Salary', '8496.0']\",\n",
       "       \"['Salary', '6000.0', 'Benefits', 'تحدد بعد المقابله ']\",\n",
       "       \"['Salary', '6000.0', 'Benefits', '1000 بدل نقل']\",\n",
       "       \"['Salary', '4500.0', 'Benefits', 'تأمين طبي .']\",\n",
       "       \"['Salary', '4500.0', 'Benefits', 'بونص شهري حسب تحقيق الهدف']\",\n",
       "       \"['Salary', '8000.0', 'Benefits', 'مواصلات']\",\n",
       "       \"['Salary', '6000.0', 'Benefits', '1000']\", \"['Salary', '6250.0']\",\n",
       "       \"['Salary', '8333.0', 'Benefits', 'تأمين طبي وبدل نقل ']\",\n",
       "       \"['Salary', '5000.0', 'Benefits', 'تامين طبي', 'دورات تدريبيه', 'اخرى']\",\n",
       "       \"['Salary', '4000.0', 'Benefits', 'مكافئات تصل الى ١٠٠٠ شهريا']\",\n",
       "       \"['Salary', '4000.0', 'Benefits', 'مكافاة وحوافز ']\",\n",
       "       \"['Salary', '4000.0', 'Benefits', 'عمولات البيع']\",\n",
       "       \"['Salary', '5500.0', 'Benefits', 'زيادة سنوية وعموولات ']\",\n",
       "       \"['Salary', '32000.0', 'Benefits', 'حافز سنوي ( راتبين)', 'حوافز  حسب الاداء', 'تأمين طبي']\",\n",
       "       \"['Salary', '4000.0', 'Benefits', 'تأمينات + تأمين طبي']\",\n",
       "       \"['Salary', '12325.0']\",\n",
       "       \"['Salary', '4000.0', 'Benefits', 'حسب الكفاءة ومايتم تحديده بعد المقابلة الشخصية']\",\n",
       "       \"['Salary', '3500.0', 'Benefits', 'بدل نقل 500']\",\n",
       "       \"['Salary', '6583.0', 'Benefits', 'بدل المواصلات + تأمين طبي ']\",\n",
       "       \"['Salary', '6583.0', 'Benefits', 'بدل مواصلات + تأمين طبي']\",\n",
       "       \"['Salary', '4000.0', 'Benefits', 'تأمين طبي وتأمين اجتماعي']\",\n",
       "       \"['Salary', '6583.0', 'Benefits', 'بدل المواصلات + تأمين طبي']\",\n",
       "       \"['Salary', '4000.0', 'Benefits', 'مكافاءات نهاية السنة']\",\n",
       "       \"['Salary', '4000.0', 'Benefits', 'بدل تنقلات']\",\n",
       "       \"['Salary', '5500.0', 'Benefits', 'للعمل في مدينة جدة']\",\n",
       "       \"['Salary', '5000.0', 'Benefits', 'ساعات عمل مرنة']\",\n",
       "       \"['Salary', '4000.0', 'Benefits', 'بدل مواصلات']\",\n",
       "       \"['Salary', '5500.0', 'Benefits', 'خصم أبناء 40% من رسوم الأبناء ']\",\n",
       "       \"['Salary', '6000.0', 'Benefits', 'خصم ابناء 40% من رسوم التسجيل ']\",\n",
       "       \"['Salary', '4800.0', 'Benefits', 'خصم أبناء 40% من رسوم الأبناء ']\",\n",
       "       \"['Salary', '6500.0', 'Benefits', 'خصم أبناء 40%']\",\n",
       "       \"['Salary', '6000.0', 'Benefits', 'خصم أبناء 40% ']\",\n",
       "       \"['Salary', '7500.0', 'Benefits', 'خصم أبناء 40%']\",\n",
       "       \"['Salary', '8500.0', 'Benefits', 'خصم 40% من الرسوم الدراسية ']\",\n",
       "       \"['Salary', '6000.0', 'Benefits', 'خصم 40 % من الرسوم الدراسية ']\",\n",
       "       \"['Salary', '5599.0', 'Benefits', 'خصم 40% من رسوم تسجيل الأبناء في المدرسة ']\",\n",
       "       \"['Salary', '4500.0', 'Benefits', 'خصم أبناء 40% من الرسوم الدراسية ', 'تأمين طبي ', 'إجازات بين الفصول الدراسية مدفوعة']\",\n",
       "       \"['Salary', '3500.0', 'Benefits', '500 سكن']\",\n",
       "       \"['Salary', '4000.0', 'Benefits', 'حسب المقابله ']\",\n",
       "       \"['Salary', '5000.0', 'Benefits', 'بدل نقل']\",\n",
       "       \"['Salary', '5000.0', 'Benefits', 'عمولة مبيعات 1%']\",\n",
       "       \"['Salary', '8500.0']\",\n",
       "       \"['Salary', '5500.0', 'Benefits', 'تأمين طبي - اجازه سنويه - مكافئات سنويه - دورات تدريبيه']\",\n",
       "       \"['Salary', '9500.0']\", \"['Salary', '11000.0']\",\n",
       "       \"['Salary', '6000.0', 'Benefits', 'اخري ']\",\n",
       "       \"['Salary', '4750.0']\",\n",
       "       \"['Salary', '4000.0', 'Benefits', 'الراتب شامل 4000ريال كل شي']\",\n",
       "       \"['Salary', '4500.0', 'Benefits', 'وجود بونص بعد تحقيق الهدف و مكافأة تحفيزيه و جود تامين طبي ']\",\n",
       "       \"['Salary', '5000.0', 'Benefits', 'بدل موصلات + تأمين صحي']\",\n",
       "       \"['Salary', '3500.0', 'Benefits', 'عمولة مبيعات ']\",\n",
       "       \"['Salary', '4500.0', 'Benefits', 'بدلات ']\",\n",
       "       \"['Salary', '6000.0', 'Benefits', 'مزايا اخرى']\",\n",
       "       \"['Salary', '4000.0', 'Benefits', '2000  قد يختلف الراتب والمزايا بناء على اثر المقابلة ', 'العمل سيكون لساعات مححدة في اليوم مابين 4- 5 ساعات ', 'وقد يتم اختيار مواعيد العمل وفق لرغبة الموظف ', '', 'العمل شبه تطوعي في جمعية تعنى بخدمة المجتمع']\",\n",
       "       \"['Salary', '5000.0', 'Benefits', 'أوفر تايم - عمولات - أجازة يوم فالسبوع']\",\n",
       "       \"['Salary', '5000.0', 'Benefits', 'أوفر تايم عمولات - أجارز يوم فالاسبوع ']\",\n",
       "       \"['Salary', '5000.0', 'Benefits', 'أوفر تايم - أجارز يوم واحد في الاسبوع - عمولات اضافية ']\",\n",
       "       \"['Salary', '4320.0']\",\n",
       "       \"['Salary', '4630.0', 'Benefits', 'بدل التذاكر سنوياً حسب سياسة الشركة', 'التأمين الطبي للموظف والمعالين حسب مجلي الضمان الصحي']\",\n",
       "       \"['Salary', '4375.0', 'Benefits', '850 بدل نقل وطبيعة ']\",\n",
       "       \"['Salary', '5066.0']\",\n",
       "       \"['Salary', '4630.0', 'Benefits', 'بدل التذاكر سنوياً حسب سياسة الشركة', 'التأمين الطبي للموظف والمعالين حسب مجلس الضمان الصحي']\",\n",
       "       \"['Salary', '5000.0', 'Benefits', 'تأمين طبي ']\",\n",
       "       \"['Salary', '4000.0', 'Benefits', 'الراتب فى حدود 4000 الى 4500']\",\n",
       "       \"['Salary', '6000.0', 'Benefits', 'تذكرة سنوية ']\",\n",
       "       \"['Salary', '4687.0']\",\n",
       "       \"['Salary', '4625.0', 'Benefits', 'بدل مواصلات 375 ريال.', 'فترة عمل وردية واحدة.', 'يومين راحة في الاسبوع.']\",\n",
       "       \"['Salary', '6000.0', 'Benefits', '1000ريال بدل نقل ويمكن للجنة النظر في المزايا']\",\n",
       "       \"['Salary', '6000.0', 'Benefits', '1000 ريال بدل نقل ويمكن للجنة النظر في المزايا']\",\n",
       "       \"['Salary', '5000.0', 'Benefits', 'حوافز وعمولات ']\",\n",
       "       \"['Salary', '4000.0', 'Benefits', 'تسجيل بالتأمينات الاجتماعية ', 'تامين طبي ']\",\n",
       "       \"['Salary', '5000.0', 'Benefits', '300 بدل نقل', 'تأمين طبي']\",\n",
       "       \"['Salary', '7000.0', 'Benefits', '1000']\",\n",
       "       \"['Salary', '3200.0', 'Benefits', '1300 بدلات ومزايا ']\",\n",
       "       \"['Salary', '10250.0']\",\n",
       "       \"['Salary', '5000.0', 'Benefits', 'حوافز و مكافات شهرية']\",\n",
       "       \"['Salary', '4000.0', 'Benefits', 'تامين طبي + اجازة يوم واحد بالاسبوع']\",\n",
       "       \"['Salary', '5000.0', 'Benefits', 'راتب +اجازة سنوية مدفوعة +']\",\n",
       "       \"['Salary', '5040.0', 'Benefits', 'حسب سياسة المنشأة']\",\n",
       "       \"['Salary', '3198.0']\",\n",
       "       \"['Salary', '6000.0', 'Benefits', '500 بدل نقل']\",\n",
       "       \"['Salary', '4050.0']\",\n",
       "       \"['Salary', '4000.0', 'Benefits', 'عمولات ومكافآت ']\",\n",
       "       \"['Salary', '4000.0', 'Benefits', 'تأمين طبي ']\",\n",
       "       \"['Salary', '9600.0']\",\n",
       "       \"['Salary', '8000.0', 'Benefits', 'تأمين طبي']\",\n",
       "       \"['Salary', '3500.0', 'Benefits', 'جوال، بنزين لسيارة العمل ']\",\n",
       "       \"['Salary', '7000.0', 'Benefits', 'بدل المواصلات']\",\n",
       "       \"['Salary', '8500.0', 'Benefits', 'بدل المواصلات']\",\n",
       "       \"['Salary', '5600.0', 'Benefits', 'بدل مواصلات']\",\n",
       "       \"['Salary', '7000.0', 'Benefits', '0']\",\n",
       "       \"['Salary', '6000.0', 'Benefits', 'شامل البدلات']\",\n",
       "       \"['Salary', '6000.0', 'Benefits', 'شامل']\",\n",
       "       \"['Salary', '4000.0', 'Benefits', 'يوجد نسب على المبيعات اضافة على الراتب']\",\n",
       "       \"['Salary', '4000.0', 'Benefits', 'عمولة شهرية على مبيعات المعرض']\",\n",
       "       \"['Salary', '6000.0', 'Benefits', '2000 ريال حسب الخبرة']\",\n",
       "       \"['Salary', '4200.0']\",\n",
       "       \"['Salary', '3200.0', 'Benefits', 'أرسال السيره على الجوال0563952421']\",\n",
       "       \"['Salary', '8000.0', 'Benefits', 'الراتب من 8000 الى 15000']\",\n",
       "       \"['Salary', '4082.0']\",\n",
       "       \"['Salary', '4000.0', 'Benefits', 'عمولات مجزية']\",\n",
       "       \"['Salary', '35000.0']\", \"['Salary', '13200.0']\",\n",
       "       \"['Salary', '4000.0', 'Benefits', 'حوافز بيعية']\",\n",
       "       \"['Salary', '3000.0', 'Benefits', 'عمولة مبيعات']\",\n",
       "       \"['Salary', '5000.0', 'Benefits', 'وجبات موظفين']\",\n",
       "       \"['Salary', '4000.0', 'Benefits', '1000']\",\n",
       "       \"['Salary', '7500.0', 'Benefits', '1500']\", \"['Salary', '5271.0']\",\n",
       "       \"['Salary', '5500.0', 'Benefits', 'بدل مواصلات 1500 ريال']\",\n",
       "       \"['Salary', '5000.0', 'Benefits', 'التامين الطبي, حوافز , بيئة عمل احترافية ']\",\n",
       "       \"['Salary', '15532.0']\",\n",
       "       \"['Salary', '4667.0', 'Benefits', 'بدل انتقال= 333']\",\n",
       "       \"['Salary', '5500.0', 'Benefits', 'الراتب يحدد بعد المقابلة، وفقاً لطبيعة الدوام الذي يتفق عليه (كامل أو جزئي)(حضوري أو عن بعد) وعدد أيام العمل المطلوبة']\",\n",
       "       \"['Salary', '4000.0', 'Benefits', '5 ايام عمل يومين راحة', 'اجازة سنوية 21 يوم ']\",\n",
       "       \"['Salary', '4300.0', 'Benefits', 'حوافز سنوية في حال تحقيق خطة عمل المؤسسة']\",\n",
       "       \"['Salary', '12000.0', 'Benefits', 'تعتمد على المقابلة الشخصية و تشمل التسجيل في التأمينات و التأمين الصحي و بونص.']\",\n",
       "       \"['Salary', '4000.0', 'Benefits', 'بونص يبدء من 4 ال 10 بالمية + تارقت ']\",\n",
       "       \"['Salary', '4001.0']\", \"['Salary', '4500.0', 'Benefits', '1050']\",\n",
       "       \"['Salary', '5500.0', 'Benefits', 'تأمين طبي']\",\n",
       "       \"['Salary', '3300.0', 'Benefits', '00']\",\n",
       "       \"['Salary', '5500.0', 'Benefits', 'حوافز شهرية ومكافاة']\",\n",
       "       \"['Salary', '4000.0', 'Benefits', 'امكانية العمل لساعات اضافية وحوافز يتم الاتفاق عليها في حال نمو المبيعات ']\",\n",
       "       \"['Salary', '5000.0', 'Benefits', 'بدل مواصلات  + تامين طبي  ']\",\n",
       "       \"['Salary', '5483.0', 'Benefits', 'بدل مواصلات ', 'التامين الطبي ']\",\n",
       "       \"['Salary', '4000.0', 'Benefits', 'نسبة على القضايا التي يحضرها عن طريقة قابلة للنقاش ']\",\n",
       "       \"['Salary', '5625.0', 'Benefits', 'مزايا أخرى']\",\n",
       "       \"['Salary', '6250.0', 'Benefits', 'مزايا أخرى ']\",\n",
       "       \"['Salary', '7200.0', 'Benefits', 'بدل مواصلات: 800 ريال سعودي']\",\n",
       "       \"['Salary', '5000.0', 'Benefits', '500 بدل نقل']\",\n",
       "       \"['Salary', '5000.0', 'Benefits', 'بدل نقل 500 ريال']\",\n",
       "       \"['Salary', '4000.0', 'Benefits', 'بونص كل ثلاث اشهر راتب او راتبين حسب الاداء . ', 'نسبة ١ ٪\\\\u061c من اجمالي صافي المبيعات سنويا توزع على حسب الاحقية ']\",\n",
       "       \"['Salary', '5000.0', 'Benefits', '-الراتب يبدأ من 5000 ريال ويرتفع حسب خبرة ومهارات المتقدم ', '-بدل نقل ١٠٪ من الراتب الأساسي', '- تأمين طبي', '- اجازة يومين بالاسبوع']\",\n",
       "       \"['Salary', '5500.0', 'Benefits', '-الراتب يبدأ من 5500 ريال (شامل بدل السكن) ويرتفع حسب خبرة ومهارات المتقدم ', '-بدل نقل ١٠٪ من الراتب الاساسي', '- تأمين طبي', '- اجازة يومين بالاسبوع']\",\n",
       "       \"['Salary', '6000.0', 'Benefits', '-الراتب يبدأ من ٦٠٠٠ ريال ويرتفع حسب خبرة ومهارات المتقدم ', '- تأمين طبي', '- اجازة يومين بالاسبوع']\",\n",
       "       \"['Salary', '6000.0', 'Benefits', 'التامين الطبي ']\",\n",
       "       \"['Salary', '7000.0', 'Benefits', 'الراتب يتراوح من 5000 الى 8000 يتحدد بعد المقابلة وفترة التجربة .', '', 'عند اتمام البيع يوجد نسبه لكل بيعه ويود حافز حسن اداء يحدد من قبل المدير المباشر .']\",\n",
       "       \"['Salary', '5500.0', 'Benefits', '500 ريال بدلات']\",\n",
       "       \"['Salary', '4000.0', 'Benefits', 'حوفز']\",\n",
       "       \"['Salary', '5000.0', 'Benefits', '+ عمولة مبيعات']\",\n",
       "       \"['Salary', '4000.0', 'Benefits', 'عمولات ']\",\n",
       "       \"['Salary', '5000.0', 'Benefits', 'عمولة شهرية']\",\n",
       "       \"['Salary', '4500.0', 'Benefits', 'اجازة سنوية 21 وبعد 5 سنوات تصبح 30 يوم']\",\n",
       "       \"['Salary', '6000.0', 'Benefits', '1000 بدل نقل وللجنة تحديد الراتب بشكل كامل']\",\n",
       "       \"['Salary', '4000.0', 'Benefits', '1-تامين صحي.', '2-اجازة اسبوعية مرنه.', '3-عمولة بيع.']\",\n",
       "       \"['Salary', '7000.0', 'Benefits', 'عمولات بيع']\",\n",
       "       \"['Salary', '7000.0', 'Benefits', 'حسب الاتفاق']\",\n",
       "       \"['Salary', '4000.0', 'Benefits', 'عموله']\",\n",
       "       \"['Salary', '6000.0', 'Benefits', '4500 ريال راتب أساسي', '1000 ريال بد سكن', '500 ريال بدل إنتقال']\",\n",
       "       \"['Salary', '3500.0', 'Benefits', 'لا يوجد']\",\n",
       "       \"['Salary', '8000.0', 'Benefits', 'حوافز']\",\n",
       "       \"['Salary', '7000.0', 'Benefits', 'حوافز']\",\n",
       "       \"['Salary', '5000.0', 'Benefits', 'تأمين طبي', 'بدل نقل']\",\n",
       "       \"['Salary', '5000.0', 'Benefits', 'يتغير الراتب المحدد بناء على خبرات ومهارات المتقدم ']\",\n",
       "       \"['Salary', '5000.0', 'Benefits', 'تأمين طبي.', 'بدل نقل.']\",\n",
       "       \"['Salary', '5000.0', 'Benefits', 'التأمين الطبي.', 'بدل نقل.']\",\n",
       "       \"['Salary', '5000.0', 'Benefits', 'تأمين طبي.']\",\n",
       "       \"['Salary', '7000.0', 'Benefits', 'التأمين الطبي.']\",\n",
       "       \"['Salary', '7000.0', 'Benefits', 'تأمين طبي.']\",\n",
       "       \"['Salary', '7000.0', 'Benefits', '- تأمين طبي.']\",\n",
       "       \"['Salary', '6000.0', 'Benefits', 'الراتب تقريبيا ']\",\n",
       "       \"['Salary', '4000.0', 'Benefits', 'الراتب كامل بدون خصم ', '2 يومين اجازة في الاسبوع ']\",\n",
       "       \"['Salary', '7000.0', 'Benefits', 'بدل مواصلات + تامين طبي']\",\n",
       "       \"['Salary', '7757.0']\",\n",
       "       \"['Salary', '4000.0', 'Benefits', '1000 ريال بدلات أخرى ']\",\n",
       "       \"['Salary', '18000.0']\",\n",
       "       \"['Salary', '8000.0', 'Benefits', 'بعد المقابلة تحدد']\",\n",
       "       \"['Salary', '6000.0', 'Benefits', 'حوافز']\",\n",
       "       \"['Salary', '4000.0', 'Benefits', 'خبره']\",\n",
       "       \"['Salary', '7500.0', 'Benefits', 'تأمين طبي للموظف و عائلته']\",\n",
       "       \"['Salary', '10000.0', 'Benefits', 'بدل مواصلات']\",\n",
       "       \"['Salary', '7500.0', 'Benefits', 'يوجد مزايا تنافسية تحدد بعد المقابلة']\",\n",
       "       \"['Salary', '4000.0', 'Benefits', '500 مكافاة التزام + وجبة يومية مجانية للموظف ']\",\n",
       "       \"['Salary', '4500.0', 'Benefits', 'تامين طبي ', 'تامينات']\",\n",
       "       \"['Salary', '3500.0', 'Benefits', '1000 ريال بدلات اخرى ']\",\n",
       "       \"['Salary', '7000.0', 'Benefits', 'تأمين طبي']\",\n",
       "       \"['Salary', '3600.0', 'Benefits', 'بدل نقل 400 ريال']\",\n",
       "       \"['Salary', '3600.0', 'Benefits', 'بدل نقل 400 ريال ', 'بدل أداء  500 ريال ']\",\n",
       "       \"['Salary', '4000.0', 'Benefits', 'تأمينات']\",\n",
       "       \"['Salary', '4000.0', 'Benefits', 'حوافز ومكافأت']\",\n",
       "       \"['Salary', '5500.0', 'Benefits', 'يشترط وجود رخصه قياده']\",\n",
       "       \"['Salary', '4500.0', 'Benefits', 'بونص على التحصيل']\",\n",
       "       \"['Salary', '6999.0']\",\n",
       "       \"['Salary', '6000.0', 'Benefits', 'يوجد بدلات ومزايا ونسب شهرية وسنوية ']\",\n",
       "       \"['Salary', '15000.0', 'Benefits', 'بدل انتقال ']\",\n",
       "       \"['Salary', '4082.0', 'Benefits', 'موصلات 326']\",\n",
       "       \"['Salary', '4000.0', 'Benefits', '1. بيئة عمل ايجابية ومريحة', '2. قابلية التطور الوظيفي', '3. فريق عمل داعم وخلوق']\",\n",
       "       \"['Salary', '4000.0', 'Benefits', '1. بيئة عمل إيجابية محفزة مريحة .', '2. فرصة التطور الوظيفي .', '3. تقديم الدورات والدعم .']\",\n",
       "       \"['Salary', '9900.0']\",\n",
       "       \"['Salary', '5000.0', 'Benefits', 'عمولات يتم تحديدها على حسب المؤهلات']\",\n",
       "       \"['Salary', '4000.0', 'Benefits', 'تأمينات  ']\",\n",
       "       \"['Salary', '4082.0', 'Benefits', 'بدل موصلات 326']\",\n",
       "       \"['Salary', '5000.0', 'Benefits', 'فرص للترقي وزياده الراتب']\",\n",
       "       \"['Salary', '4000.0', 'Benefits', 'فرص للترقيه وزياده الراتب']\",\n",
       "       \"['Salary', '4000.0', 'Benefits', '600']\", \"['Salary', '4900.0']\",\n",
       "       \"['Salary', '4000.0', 'Benefits', 'بدل وقود ونقل 500 ريال ']\",\n",
       "       \"['Salary', '3000.0', 'Benefits', '0']\",\n",
       "       \"['Salary', '4000.0', 'Benefits', 'الراتب حسب المقابلة']\",\n",
       "       \"['Salary', '12400.0']\",\n",
       "       \"['Salary', '4200.0', 'Benefits', 'تأمين طبي حسب سياسة المنشأة']\",\n",
       "       \"['Salary', '6000.0', 'Benefits', 'تأمين طبي ', 'إجازة سنوية 21 يوم ']\",\n",
       "       \"['Salary', '5500.0', 'Benefits', '- تأمين طبي']\",\n",
       "       \"['Salary', '4000.0', 'Benefits', 'بونص وبدلات']\",\n",
       "       \"['Salary', '9259.0']\",\n",
       "       \"['Salary', '4000.0', 'Benefits', 'بدل خارج دوام/منطقة اخرى']\",\n",
       "       \"['Salary', '4000.0', 'Benefits', 'حسب المقابلة']\",\n",
       "       \"['Salary', '4000.0', 'Benefits', 'حسب المقابة ']\",\n",
       "       \"['Salary', '4000.0', 'Benefits', 'يتم التواصل وإرسال السيرة الذاتية علي رقم (0555636186)']\",\n",
       "       \"['Salary', '4000.0', 'Benefits', 'تأمين طبي + حوافز مالية ']\",\n",
       "       \"['Salary', '4000.0', 'Benefits', 'بإمكانه اللاستفادة من أنشطة النادي بدون مقابل خارج وقت العمل ']\",\n",
       "       \"['Salary', '7000.0', 'Benefits', 'تأمين صحي و بدل جوال ']\",\n",
       "       \"['Salary', '6000.0', 'Benefits', 'بدل نقل 5%']\",\n",
       "       \"['Salary', '4000.0', 'Benefits', 'لا يوجد']\",\n",
       "       \"['Salary', '5000.0', 'Benefits', 'بعد انتهاء فترة التدريب من الممكن زيادة الراتب']\",\n",
       "       \"['Salary', '5500.0', 'Benefits', 'هنالك مزايا آخرى سوف تحدد بعد المقابلة الشخصية والموافقة على المتقدم']\",\n",
       "       \"['Salary', '5000.0', 'Benefits', 'زيادة في الراتب بعد التجربة']\",\n",
       "       \"['Salary', '8000.0', 'Benefits', 'هنالك مزايا آخرى سوف تحدد بعد إجراء المقابلة الشخصية والموافقه على المتقدم']\",\n",
       "       \"['Salary', '5000.0', 'Benefits', 'تامين صحي']\",\n",
       "       \"['Salary', '12000.0', 'Benefits', 'عمولات بيع ']\",\n",
       "       \"['Salary', '7000.0', 'Benefits', 'مكافأة نهاية السنه على الإنجاز ']\",\n",
       "       \"['Salary', '4000.0', 'Benefits', 'عمولات حسب الاداء']\",\n",
       "       \"['Salary', '14000.0']\",\n",
       "       \"['Salary', '5000.0', 'Benefits', 'بدل نقل تأمين طبي']\",\n",
       "       \"['Salary', '4000.0', 'Benefits', 'بدل سكن']\",\n",
       "       \"['Salary', '4100.0']\",\n",
       "       \"['Salary', '5000.0', 'Benefits', 'عمولة مبيعات', 'بدل نقل ']\",\n",
       "       \"['Salary', '4000.0', 'Benefits', 'نسبة مبيعات']\",\n",
       "       \"['Salary', '4500.0', 'Benefits', 'تأمين طبي ', 'اجازة سنوية 21 يوم']\",\n",
       "       \"['Salary', '4500.0', 'Benefits', 'لايوجد ']\",\n",
       "       \"['Salary', '7000.0', 'Benefits', 'بدون']\",\n",
       "       \"['Salary', '4200.0', 'Benefits', 'تأمين طبي حسب سياسة الشركة']\",\n",
       "       \"['Salary', '5000.0', 'Benefits', 'بدل المواصلات 1000']\",\n",
       "       \"['Salary', '5556.0']\",\n",
       "       \"['Salary', '5000.0', 'Benefits', 'عموله']\",\n",
       "       \"['Salary', '4000.0', 'Benefits', 'اجازة سنوية 30 يوم ']\"],\n",
       "      dtype=object)"
      ]
     },
     "execution_count": 197,
     "metadata": {},
     "output_type": "execute_result"
    }
   ],
   "source": [
    "jobs_df['benefits'].unique()"
   ]
  },
  {
   "cell_type": "code",
   "execution_count": 198,
   "id": "b3b9694b",
   "metadata": {},
   "outputs": [],
   "source": [
    "import re\n",
    "jobs_df['salary (SAR)'] = jobs_df['benefits'].apply(lambda x: float(re.search(r\"\\d+\\.\\d+\", x).group()))"
   ]
  },
  {
   "cell_type": "code",
   "execution_count": 199,
   "id": "3ec59344",
   "metadata": {},
   "outputs": [
    {
     "data": {
      "text/html": [
       "<div>\n",
       "<style scoped>\n",
       "    .dataframe tbody tr th:only-of-type {\n",
       "        vertical-align: middle;\n",
       "    }\n",
       "\n",
       "    .dataframe tbody tr th {\n",
       "        vertical-align: top;\n",
       "    }\n",
       "\n",
       "    .dataframe thead th {\n",
       "        text-align: right;\n",
       "    }\n",
       "</style>\n",
       "<table border=\"1\" class=\"dataframe\">\n",
       "  <thead>\n",
       "    <tr style=\"text-align: right;\">\n",
       "      <th></th>\n",
       "      <th>job_title</th>\n",
       "      <th>comp_name</th>\n",
       "      <th>comp_no</th>\n",
       "      <th>region</th>\n",
       "      <th>city</th>\n",
       "      <th>benefits</th>\n",
       "      <th>contract</th>\n",
       "      <th>exper</th>\n",
       "      <th>gender</th>\n",
       "      <th>salary (SAR)</th>\n",
       "    </tr>\n",
       "  </thead>\n",
       "  <tbody>\n",
       "    <tr>\n",
       "      <th>0</th>\n",
       "      <td>محاسب</td>\n",
       "      <td>شركة مقر العالم للسفريات</td>\n",
       "      <td>1-317262</td>\n",
       "      <td>الرياض</td>\n",
       "      <td>AR RIYADH...</td>\n",
       "      <td>['Salary', '5000.0']</td>\n",
       "      <td>دوام كامل</td>\n",
       "      <td>0 Years</td>\n",
       "      <td>both</td>\n",
       "      <td>5000.0</td>\n",
       "    </tr>\n",
       "    <tr>\n",
       "      <th>1</th>\n",
       "      <td>بائع</td>\n",
       "      <td>شركة عالم الكهرباء للمقاولات</td>\n",
       "      <td>4-1324428</td>\n",
       "      <td>المنطقة الشرقية</td>\n",
       "      <td>AD DAMMAM...</td>\n",
       "      <td>['Salary', '5000.0']</td>\n",
       "      <td>دوام كامل</td>\n",
       "      <td>0 Years</td>\n",
       "      <td>both</td>\n",
       "      <td>5000.0</td>\n",
       "    </tr>\n",
       "  </tbody>\n",
       "</table>\n",
       "</div>"
      ],
      "text/plain": [
       "  job_title                     comp_name    comp_no           region  \\\n",
       "0     محاسب      شركة مقر العالم للسفريات   1-317262           الرياض   \n",
       "1      بائع  شركة عالم الكهرباء للمقاولات  4-1324428  المنطقة الشرقية   \n",
       "\n",
       "           city              benefits   contract    exper gender  salary (SAR)  \n",
       "0  AR RIYADH...  ['Salary', '5000.0']  دوام كامل  0 Years   both        5000.0  \n",
       "1  AD DAMMAM...  ['Salary', '5000.0']  دوام كامل  0 Years   both        5000.0  "
      ]
     },
     "execution_count": 199,
     "metadata": {},
     "output_type": "execute_result"
    }
   ],
   "source": [
    "jobs_df.head(2)"
   ]
  },
  {
   "cell_type": "code",
   "execution_count": 200,
   "id": "6e69d7e6",
   "metadata": {},
   "outputs": [
    {
     "data": {
      "text/plain": [
       "exper\n",
       "0 Years     765\n",
       "2 Years     401\n",
       "4 Years     141\n",
       "7 Years      29\n",
       "10 Years     14\n",
       "12 Years      3\n",
       "Name: count, dtype: int64"
      ]
     },
     "execution_count": 200,
     "metadata": {},
     "output_type": "execute_result"
    }
   ],
   "source": [
    "jobs_df['exper'].value_counts()"
   ]
  },
  {
   "cell_type": "code",
   "execution_count": 201,
   "id": "4e684053",
   "metadata": {},
   "outputs": [],
   "source": [
    "jobs_df['experience (years)'] = jobs_df['exper'].apply(lambda x: int(re.search(r\"\\d+\", x).group()))\n"
   ]
  },
  {
   "cell_type": "code",
   "execution_count": 202,
   "id": "0fd7378e",
   "metadata": {},
   "outputs": [
    {
     "data": {
      "text/html": [
       "<div>\n",
       "<style scoped>\n",
       "    .dataframe tbody tr th:only-of-type {\n",
       "        vertical-align: middle;\n",
       "    }\n",
       "\n",
       "    .dataframe tbody tr th {\n",
       "        vertical-align: top;\n",
       "    }\n",
       "\n",
       "    .dataframe thead th {\n",
       "        text-align: right;\n",
       "    }\n",
       "</style>\n",
       "<table border=\"1\" class=\"dataframe\">\n",
       "  <thead>\n",
       "    <tr style=\"text-align: right;\">\n",
       "      <th></th>\n",
       "      <th>job_title</th>\n",
       "      <th>comp_name</th>\n",
       "      <th>comp_no</th>\n",
       "      <th>region</th>\n",
       "      <th>city</th>\n",
       "      <th>benefits</th>\n",
       "      <th>contract</th>\n",
       "      <th>exper</th>\n",
       "      <th>gender</th>\n",
       "      <th>salary (SAR)</th>\n",
       "      <th>experience (years)</th>\n",
       "    </tr>\n",
       "  </thead>\n",
       "  <tbody>\n",
       "    <tr>\n",
       "      <th>0</th>\n",
       "      <td>محاسب</td>\n",
       "      <td>شركة مقر العالم للسفريات</td>\n",
       "      <td>1-317262</td>\n",
       "      <td>الرياض</td>\n",
       "      <td>AR RIYADH...</td>\n",
       "      <td>['Salary', '5000.0']</td>\n",
       "      <td>دوام كامل</td>\n",
       "      <td>0 Years</td>\n",
       "      <td>both</td>\n",
       "      <td>5000.0</td>\n",
       "      <td>0</td>\n",
       "    </tr>\n",
       "    <tr>\n",
       "      <th>1</th>\n",
       "      <td>بائع</td>\n",
       "      <td>شركة عالم الكهرباء للمقاولات</td>\n",
       "      <td>4-1324428</td>\n",
       "      <td>المنطقة الشرقية</td>\n",
       "      <td>AD DAMMAM...</td>\n",
       "      <td>['Salary', '5000.0']</td>\n",
       "      <td>دوام كامل</td>\n",
       "      <td>0 Years</td>\n",
       "      <td>both</td>\n",
       "      <td>5000.0</td>\n",
       "      <td>0</td>\n",
       "    </tr>\n",
       "  </tbody>\n",
       "</table>\n",
       "</div>"
      ],
      "text/plain": [
       "  job_title                     comp_name    comp_no           region  \\\n",
       "0     محاسب      شركة مقر العالم للسفريات   1-317262           الرياض   \n",
       "1      بائع  شركة عالم الكهرباء للمقاولات  4-1324428  المنطقة الشرقية   \n",
       "\n",
       "           city              benefits   contract    exper gender  \\\n",
       "0  AR RIYADH...  ['Salary', '5000.0']  دوام كامل  0 Years   both   \n",
       "1  AD DAMMAM...  ['Salary', '5000.0']  دوام كامل  0 Years   both   \n",
       "\n",
       "   salary (SAR)  experience (years)  \n",
       "0        5000.0                   0  \n",
       "1        5000.0                   0  "
      ]
     },
     "execution_count": 202,
     "metadata": {},
     "output_type": "execute_result"
    }
   ],
   "source": [
    "jobs_df.head(2)"
   ]
  },
  {
   "cell_type": "code",
   "execution_count": 203,
   "id": "1b7ca446",
   "metadata": {},
   "outputs": [
    {
     "data": {
      "text/plain": [
       "gender\n",
       "both    538\n",
       "M       442\n",
       "F       373\n",
       "Name: count, dtype: int64"
      ]
     },
     "execution_count": 203,
     "metadata": {},
     "output_type": "execute_result"
    }
   ],
   "source": [
    "jobs_df['gender'].value_counts()"
   ]
  },
  {
   "cell_type": "code",
   "execution_count": 204,
   "id": "491cb7be",
   "metadata": {},
   "outputs": [],
   "source": [
    "jobs_df['gender'] = jobs_df['gender'].replace({'M': 'Male', 'F': 'Female'})"
   ]
  },
  {
   "cell_type": "code",
   "execution_count": 205,
   "id": "c857ca7b",
   "metadata": {},
   "outputs": [],
   "source": [
    "# Now no need for ['exper', 'benefits']\n",
    "jobs_df.drop(['exper', 'benefits'], axis=1, inplace=True)"
   ]
  },
  {
   "cell_type": "code",
   "execution_count": 206,
   "id": "4b1aff66",
   "metadata": {},
   "outputs": [
    {
     "data": {
      "text/html": [
       "<div>\n",
       "<style scoped>\n",
       "    .dataframe tbody tr th:only-of-type {\n",
       "        vertical-align: middle;\n",
       "    }\n",
       "\n",
       "    .dataframe tbody tr th {\n",
       "        vertical-align: top;\n",
       "    }\n",
       "\n",
       "    .dataframe thead th {\n",
       "        text-align: right;\n",
       "    }\n",
       "</style>\n",
       "<table border=\"1\" class=\"dataframe\">\n",
       "  <thead>\n",
       "    <tr style=\"text-align: right;\">\n",
       "      <th></th>\n",
       "      <th>job_title</th>\n",
       "      <th>comp_name</th>\n",
       "      <th>comp_no</th>\n",
       "      <th>region</th>\n",
       "      <th>city</th>\n",
       "      <th>contract</th>\n",
       "      <th>gender</th>\n",
       "      <th>salary (SAR)</th>\n",
       "      <th>experience (years)</th>\n",
       "    </tr>\n",
       "  </thead>\n",
       "  <tbody>\n",
       "    <tr>\n",
       "      <th>467</th>\n",
       "      <td>بائع</td>\n",
       "      <td>شركة المشرق الذهبي المحدودة (شركة شخص واحد)</td>\n",
       "      <td>10-1964380</td>\n",
       "      <td>المدينة المنورة</td>\n",
       "      <td>AL MADINA...</td>\n",
       "      <td>دوام كامل</td>\n",
       "      <td>Male</td>\n",
       "      <td>4000.0</td>\n",
       "      <td>0</td>\n",
       "    </tr>\n",
       "    <tr>\n",
       "      <th>1305</th>\n",
       "      <td>أخصائي علاج وظيفي</td>\n",
       "      <td>شركة أطباء الشفاء الطبية شركة شخص واحد</td>\n",
       "      <td>8-1966593</td>\n",
       "      <td>المنطقة الشرقية</td>\n",
       "      <td>ABRAQIYAH...</td>\n",
       "      <td>دوام كامل</td>\n",
       "      <td>Female</td>\n",
       "      <td>7000.0</td>\n",
       "      <td>0</td>\n",
       "    </tr>\n",
       "    <tr>\n",
       "      <th>559</th>\n",
       "      <td>مدير تسويق</td>\n",
       "      <td>شركة روافد الحقول للوجبات السريعة شركة شخص واحد</td>\n",
       "      <td>9-2075281</td>\n",
       "      <td>مكة المكرمة</td>\n",
       "      <td>JEDDAH...</td>\n",
       "      <td>دوام كامل</td>\n",
       "      <td>both</td>\n",
       "      <td>15000.0</td>\n",
       "      <td>4</td>\n",
       "    </tr>\n",
       "    <tr>\n",
       "      <th>1343</th>\n",
       "      <td>موظف صندوق محاسبة</td>\n",
       "      <td>مؤسسة مذاق الحورية التجارية</td>\n",
       "      <td>20-1950958</td>\n",
       "      <td>الباحة</td>\n",
       "      <td>BANI SAR...</td>\n",
       "      <td>دوام كامل</td>\n",
       "      <td>both</td>\n",
       "      <td>4000.0</td>\n",
       "      <td>0</td>\n",
       "    </tr>\n",
       "    <tr>\n",
       "      <th>386</th>\n",
       "      <td>محضر أطعمة باردة</td>\n",
       "      <td>مطعم مذاق الشرفة لتقديم الوجبات</td>\n",
       "      <td>4-2008447</td>\n",
       "      <td>المنطقة الشرقية</td>\n",
       "      <td>AL KHUBAR...</td>\n",
       "      <td>دوام كامل</td>\n",
       "      <td>both</td>\n",
       "      <td>5000.0</td>\n",
       "      <td>0</td>\n",
       "    </tr>\n",
       "    <tr>\n",
       "      <th>591</th>\n",
       "      <td>أمين صندوق</td>\n",
       "      <td>شركة ابداعنا يختلف للخدمات التجارية (شركة شخص ...</td>\n",
       "      <td>9-2070227</td>\n",
       "      <td>مكة المكرمة</td>\n",
       "      <td>JEDDAH...</td>\n",
       "      <td>دوام كامل</td>\n",
       "      <td>Female</td>\n",
       "      <td>4500.0</td>\n",
       "      <td>2</td>\n",
       "    </tr>\n",
       "    <tr>\n",
       "      <th>600</th>\n",
       "      <td>فني أشعة</td>\n",
       "      <td>مجمع الهلال الفضي الطبي العام</td>\n",
       "      <td>15-1500</td>\n",
       "      <td>المنطقة الشرقية</td>\n",
       "      <td>ATH THUQB...</td>\n",
       "      <td>دوام كامل</td>\n",
       "      <td>Female</td>\n",
       "      <td>5000.0</td>\n",
       "      <td>0</td>\n",
       "    </tr>\n",
       "  </tbody>\n",
       "</table>\n",
       "</div>"
      ],
      "text/plain": [
       "              job_title                                          comp_name  \\\n",
       "467                بائع        شركة المشرق الذهبي المحدودة (شركة شخص واحد)   \n",
       "1305  أخصائي علاج وظيفي             شركة أطباء الشفاء الطبية شركة شخص واحد   \n",
       "559          مدير تسويق    شركة روافد الحقول للوجبات السريعة شركة شخص واحد   \n",
       "1343  موظف صندوق محاسبة                        مؤسسة مذاق الحورية التجارية   \n",
       "386    محضر أطعمة باردة                    مطعم مذاق الشرفة لتقديم الوجبات   \n",
       "591          أمين صندوق  شركة ابداعنا يختلف للخدمات التجارية (شركة شخص ...   \n",
       "600            فني أشعة                      مجمع الهلال الفضي الطبي العام   \n",
       "\n",
       "         comp_no           region          city   contract  gender  \\\n",
       "467   10-1964380  المدينة المنورة  AL MADINA...  دوام كامل    Male   \n",
       "1305   8-1966593  المنطقة الشرقية  ABRAQIYAH...  دوام كامل  Female   \n",
       "559    9-2075281      مكة المكرمة     JEDDAH...  دوام كامل    both   \n",
       "1343  20-1950958           الباحة   BANI SAR...  دوام كامل    both   \n",
       "386    4-2008447  المنطقة الشرقية  AL KHUBAR...  دوام كامل    both   \n",
       "591    9-2070227      مكة المكرمة     JEDDAH...  دوام كامل  Female   \n",
       "600      15-1500  المنطقة الشرقية  ATH THUQB...  دوام كامل  Female   \n",
       "\n",
       "      salary (SAR)  experience (years)  \n",
       "467         4000.0                   0  \n",
       "1305        7000.0                   0  \n",
       "559        15000.0                   4  \n",
       "1343        4000.0                   0  \n",
       "386         5000.0                   0  \n",
       "591         4500.0                   2  \n",
       "600         5000.0                   0  "
      ]
     },
     "execution_count": 206,
     "metadata": {},
     "output_type": "execute_result"
    }
   ],
   "source": [
    "jobs_df.sample(7)"
   ]
  },
  {
   "cell_type": "code",
   "execution_count": 207,
   "id": "c69b303a-5459-45f9-a28e-fcee45c21c05",
   "metadata": {},
   "outputs": [
    {
     "name": "stderr",
     "output_type": "stream",
     "text": [
      "Summarize dataset: 100%|██████████| 22/22 [00:01<00:00, 17.04it/s, Completed]                                     \n",
      "Generate report structure: 100%|██████████| 1/1 [00:06<00:00,  6.61s/it]\n",
      "Render HTML: 100%|██████████| 1/1 [00:00<00:00,  2.89it/s]\n",
      "Export report to file: 100%|██████████| 1/1 [00:00<00:00, 134.05it/s]\n"
     ]
    }
   ],
   "source": [
    "# check outliers \n",
    "from ydata_profiling import ProfileReport\n",
    "import sweetviz as sv\n",
    "\n",
    "# Generate the YData Profiling report\n",
    "profile = ProfileReport(jobs_df, title=\"YData Profiling Report\")\n",
    "\n",
    "# Save the report as an HTML file\n",
    "profile.to_file(\"YData_Profiling_Report.html\")\n",
    "\n"
   ]
  },
  {
   "cell_type": "code",
   "execution_count": null,
   "id": "17583ed4",
   "metadata": {},
   "outputs": [],
   "source": []
  },
  {
   "cell_type": "markdown",
   "id": "4aca9d42-add6-45db-92cf-1f6dae5f277b",
   "metadata": {},
   "source": [
    "**What is an Outlier?** \n",
    "Outlier is an row/observation that appears far away and diverges from an overall pattern in a sample.\n",
    "\n",
    "**What are the types of Outliers?**\n",
    "1. Univariate: These outliers can be found when we look at distribution of a single variable\n",
    "2. Multivariate: are outliers in an n-dimensional space. In order to find them, you have to look at distributions in multi-dimensions. example (hight=100, weight=100) for a person\n",
    "\n",
    "**What causes Outliers?**\n",
    "Whenever we come across outliers, the ideal way to tackle them is to find out the reason of having these outliers. The method to deal with them would then depend on the reason of their occurrence.\n",
    "\n",
    "Let’s understand various types of outliers:\n",
    "\n",
    "1. Data Entry Errors:- Human errors such as errors caused during data collection, recording, or entry can cause outliers in data.\n",
    "2. Measurement Error: It is the most common source of outliers. This is caused when the measurement instrument used turns out to be faulty.\n",
    "3. Data Processing Error: Whenever we perform data mining, we extract data from multiple sources. It is possible that some manipulation or extraction errors may lead to outliers in the dataset.\n",
    "4. Sampling error: For instance, we have to measure the height of athletes. By mistake, we include a few basketball players in the sample. This inclusion is likely to cause outliers in the dataset.\n",
    "5. Natural Outlier: When an outlier is not artificial (due to error), it is a natural outlier. For instance: In my last assignment with one of the renowned insurance company, I noticed that the performance of top 50 financial advisors was far higher than rest of the population. Surprisingly, it was not due to any error. Hence, whenever we perform any data mining activity with advisors, we used to treat this segment separately.\n",
    "\n",
    "\n",
    "**What is the impact of Outliers on a dataset?**\n",
    "\n",
    "\n",
    "![image.png](https://www.analyticsvidhya.com/wp-content/uploads/2015/02/Outlier_31.png)\n",
    "\n",
    "\n",
    "\n",
    "**How to detect Outliers?**\n",
    "\n",
    "1. Most commonly used method to detect outliers is visualization (Univariate Graphical Analysis).\n",
    "\n",
    "We use 3 common visualization methods:\n",
    ">- Box-plot: A box plot is a method for graphically depicting groups of numerical data through their quartiles. The box extends from the Q1 to Q3 quartile values of the data, with a line at the median (Q2). The whiskers extend from the edges of the box to show the range of the data. Outlier points are those past the end of the whiskers. Box plots show robust measures of location and spread as well as providing information about symmetry and outliers.\n",
    ">\n",
    ">  \n",
    ">![image.png](https://miro.medium.com/v2/resize:fit:698/format:webp/1*VK5iHA2AB28HSZwWwUbNYg.png)\n",
    ">\n",
    ">\n",
    ">- Histogram\n",
    ">- Scatter Plot: A scatter plot is a mathematical diagram using Cartesian coordinates to display values for two variables for a set of data. The data are displayed as a collection of points, each having the value of one variable determining the position on the horizontal axis and the value of the other variable determining the position on the vertical axis. The points that are far from the population can be termed as an outlier.\n",
    ">\n",
    ">  \n",
    ">![image.png](https://miro.medium.com/v2/resize:fit:4800/format:webp/1*Ov6aH-8yIwNoUxtMFwgx4g.png)\n",
    ">\n",
    ">\n",
    "\n",
    "2. Using statistical method (Univariate Non-Graphical analysis):\n",
    ">- Any value, which is beyond the range of -1.5 x IQR to 1.5 x IQR\n",
    " \n",
    "![image.png](https://www.whatissixsigma.net/wp-content/uploads/2015/07/Box-Plot-Diagram-to-identify-Outliers-figure-1.png)\n",
    "\n",
    ">- Use capping methods. Any value which out of range of 5th and 95th percentile can be considered as outlier\n",
    ">- Data points, three or more standard deviation away from mean are considered outlier: The Z-score is the signed number of standard deviations by which the value of an observation or data point is above the mean value of what is being observed or measured. While calculating the Z-score we re-scale and center the data and look for data points that are too far from zero. These data points which are way too far from zero will be treated as the outliers. In most of the cases, a threshold of 3 or -3 is used i.e if the Z-score value is greater than or less than 3 or -3 respectively, that data point will be identified as outliers.\n",
    "> - Outlier detection is merely a special case of the examination of data for influential data points and it also depends on the business understanding\n"
   ]
  },
  {
   "cell_type": "code",
   "execution_count": 208,
   "id": "f0019559",
   "metadata": {},
   "outputs": [
    {
     "data": {
      "text/plain": [
       "(1353, 9)"
      ]
     },
     "execution_count": 208,
     "metadata": {},
     "output_type": "execute_result"
    }
   ],
   "source": [
    "jobs_df.shape"
   ]
  },
  {
   "cell_type": "code",
   "execution_count": 209,
   "id": "74ea6194-cc01-45d8-be38-c4543eb1714e",
   "metadata": {},
   "outputs": [],
   "source": [
    "# go to univariate graphical analysis\n",
    "# go to lesson : data visualisation 1 - chart type section\n",
    "# then go to univariate graphical analysis\n",
    "# detect outliers using graphs varbaly"
   ]
  },
  {
   "cell_type": "code",
   "execution_count": 210,
   "id": "363fb31f",
   "metadata": {},
   "outputs": [],
   "source": [
    "jobs_df.drop_duplicates(inplace=True)"
   ]
  },
  {
   "cell_type": "code",
   "execution_count": 211,
   "id": "27d51e29",
   "metadata": {},
   "outputs": [
    {
     "data": {
      "text/html": [
       "<div>\n",
       "<style scoped>\n",
       "    .dataframe tbody tr th:only-of-type {\n",
       "        vertical-align: middle;\n",
       "    }\n",
       "\n",
       "    .dataframe tbody tr th {\n",
       "        vertical-align: top;\n",
       "    }\n",
       "\n",
       "    .dataframe thead th {\n",
       "        text-align: right;\n",
       "    }\n",
       "</style>\n",
       "<table border=\"1\" class=\"dataframe\">\n",
       "  <thead>\n",
       "    <tr style=\"text-align: right;\">\n",
       "      <th></th>\n",
       "      <th>job_title</th>\n",
       "      <th>comp_name</th>\n",
       "      <th>comp_no</th>\n",
       "      <th>region</th>\n",
       "      <th>city</th>\n",
       "      <th>contract</th>\n",
       "      <th>gender</th>\n",
       "      <th>salary (SAR)</th>\n",
       "      <th>experience (years)</th>\n",
       "    </tr>\n",
       "  </thead>\n",
       "  <tbody>\n",
       "    <tr>\n",
       "      <th>0</th>\n",
       "      <td>محاسب</td>\n",
       "      <td>شركة مقر العالم للسفريات</td>\n",
       "      <td>1-317262</td>\n",
       "      <td>الرياض</td>\n",
       "      <td>AR RIYADH...</td>\n",
       "      <td>دوام كامل</td>\n",
       "      <td>both</td>\n",
       "      <td>5000.0</td>\n",
       "      <td>0</td>\n",
       "    </tr>\n",
       "    <tr>\n",
       "      <th>1</th>\n",
       "      <td>بائع</td>\n",
       "      <td>شركة عالم الكهرباء للمقاولات</td>\n",
       "      <td>4-1324428</td>\n",
       "      <td>المنطقة الشرقية</td>\n",
       "      <td>AD DAMMAM...</td>\n",
       "      <td>دوام كامل</td>\n",
       "      <td>both</td>\n",
       "      <td>5000.0</td>\n",
       "      <td>0</td>\n",
       "    </tr>\n",
       "  </tbody>\n",
       "</table>\n",
       "</div>"
      ],
      "text/plain": [
       "  job_title                     comp_name    comp_no           region  \\\n",
       "0     محاسب      شركة مقر العالم للسفريات   1-317262           الرياض   \n",
       "1      بائع  شركة عالم الكهرباء للمقاولات  4-1324428  المنطقة الشرقية   \n",
       "\n",
       "           city   contract gender  salary (SAR)  experience (years)  \n",
       "0  AR RIYADH...  دوام كامل   both        5000.0                   0  \n",
       "1  AD DAMMAM...  دوام كامل   both        5000.0                   0  "
      ]
     },
     "execution_count": 211,
     "metadata": {},
     "output_type": "execute_result"
    }
   ],
   "source": [
    "jobs_df.head(2)"
   ]
  },
  {
   "cell_type": "code",
   "execution_count": 212,
   "id": "3ad35d8b",
   "metadata": {},
   "outputs": [
    {
     "data": {
      "text/plain": [
       "job_title\n",
       "بائع                                           87\n",
       "محاسب                                          80\n",
       "أخصائي تسويق                                   52\n",
       "مساعد إداري                                    45\n",
       "موظف استقبال                                   41\n",
       "                                               ..\n",
       "معلم ابتدائي إجتماعيات ولغة عربية وإسلاميات     1\n",
       "معلم ثانوي لغة أجنبية                           1\n",
       "معلم ابتدائي علوم ورياضيات                      1\n",
       "وكيل مدرسة                                      1\n",
       "مشغل آلة تشطيب رخام                             1\n",
       "Name: count, Length: 324, dtype: int64"
      ]
     },
     "execution_count": 212,
     "metadata": {},
     "output_type": "execute_result"
    }
   ],
   "source": [
    "jobs_df['job_title'].value_counts()"
   ]
  },
  {
   "cell_type": "code",
   "execution_count": 213,
   "id": "47b00ed0",
   "metadata": {},
   "outputs": [
    {
     "data": {
      "image/png": "[encoded data removed]",
      "text/plain": [
       "<Figure size 800x600 with 1 Axes>"
      ]
     },
     "metadata": {},
     "output_type": "display_data"
    }
   ],
   "source": [
    "plt.figure(figsize=(8, 6))\n",
    "plt.boxplot(jobs_df['salary (SAR)'])\n",
    "plt.title('Box Plot of Salary')\n",
    "plt.ylabel('Salary (SAR)')\n",
    "plt.show()\n"
   ]
  },
  {
   "cell_type": "code",
   "execution_count": 214,
   "id": "011b9e2d",
   "metadata": {},
   "outputs": [
    {
     "data": {
      "image/png": "[encoded data removed]",
      "text/plain": [
       "<Figure size 1000x600 with 1 Axes>"
      ]
     },
     "metadata": {},
     "output_type": "display_data"
    }
   ],
   "source": [
    "plt.figure(figsize=(10, 6))\n",
    "plt.scatter(jobs_df['experience (years)'], jobs_df['salary (SAR)'], alpha=0.6, color='teal')\n",
    "plt.xlabel('Experience (Years)')\n",
    "plt.ylabel('Salary (SAR)')\n",
    "plt.title('Scatter Plot of Salary vs. Experience')\n",
    "plt.grid(True)\n",
    "plt.show()\n"
   ]
  },
  {
   "cell_type": "code",
   "execution_count": 215,
   "id": "1312f036",
   "metadata": {},
   "outputs": [
    {
     "data": {
      "text/plain": [
       "(1352, 9)"
      ]
     },
     "execution_count": 215,
     "metadata": {},
     "output_type": "execute_result"
    }
   ],
   "source": [
    "jobs_df.shape"
   ]
  },
  {
   "cell_type": "code",
   "execution_count": 216,
   "id": "365589ae",
   "metadata": {},
   "outputs": [],
   "source": [
    "Q1 = jobs_df['salary (SAR)'].quantile(0.25)\n",
    "Q3 = jobs_df['salary (SAR)'].quantile(0.75)\n",
    "IQR = Q3 - Q1\n",
    "jobs_df = jobs_df[~((jobs_df['salary (SAR)'] < (Q1 - 1.5 * IQR)) | (jobs_df['salary (SAR)'] > (Q3 + 1.5 * IQR)))]\n"
   ]
  },
  {
   "cell_type": "code",
   "execution_count": 217,
   "id": "3efd6001",
   "metadata": {},
   "outputs": [
    {
     "data": {
      "text/plain": [
       "(1292, 9)"
      ]
     },
     "execution_count": 217,
     "metadata": {},
     "output_type": "execute_result"
    }
   ],
   "source": [
    "jobs_df.shape"
   ]
  },
  {
   "cell_type": "code",
   "execution_count": 218,
   "id": "5f5e5ca0",
   "metadata": {},
   "outputs": [
    {
     "data": {
      "text/html": [
       "<div>\n",
       "<style scoped>\n",
       "    .dataframe tbody tr th:only-of-type {\n",
       "        vertical-align: middle;\n",
       "    }\n",
       "\n",
       "    .dataframe tbody tr th {\n",
       "        vertical-align: top;\n",
       "    }\n",
       "\n",
       "    .dataframe thead th {\n",
       "        text-align: right;\n",
       "    }\n",
       "</style>\n",
       "<table border=\"1\" class=\"dataframe\">\n",
       "  <thead>\n",
       "    <tr style=\"text-align: right;\">\n",
       "      <th></th>\n",
       "      <th>job_title</th>\n",
       "      <th>comp_name</th>\n",
       "      <th>comp_no</th>\n",
       "      <th>region</th>\n",
       "      <th>city</th>\n",
       "      <th>contract</th>\n",
       "      <th>gender</th>\n",
       "      <th>salary (SAR)</th>\n",
       "      <th>experience (years)</th>\n",
       "    </tr>\n",
       "  </thead>\n",
       "  <tbody>\n",
       "    <tr>\n",
       "      <th>0</th>\n",
       "      <td>محاسب</td>\n",
       "      <td>شركة مقر العالم للسفريات</td>\n",
       "      <td>1-317262</td>\n",
       "      <td>الرياض</td>\n",
       "      <td>AR RIYADH...</td>\n",
       "      <td>دوام كامل</td>\n",
       "      <td>both</td>\n",
       "      <td>5000.0</td>\n",
       "      <td>0</td>\n",
       "    </tr>\n",
       "    <tr>\n",
       "      <th>1</th>\n",
       "      <td>بائع</td>\n",
       "      <td>شركة عالم الكهرباء للمقاولات</td>\n",
       "      <td>4-1324428</td>\n",
       "      <td>المنطقة الشرقية</td>\n",
       "      <td>AD DAMMAM...</td>\n",
       "      <td>دوام كامل</td>\n",
       "      <td>both</td>\n",
       "      <td>5000.0</td>\n",
       "      <td>0</td>\n",
       "    </tr>\n",
       "  </tbody>\n",
       "</table>\n",
       "</div>"
      ],
      "text/plain": [
       "  job_title                     comp_name    comp_no           region  \\\n",
       "0     محاسب      شركة مقر العالم للسفريات   1-317262           الرياض   \n",
       "1      بائع  شركة عالم الكهرباء للمقاولات  4-1324428  المنطقة الشرقية   \n",
       "\n",
       "           city   contract gender  salary (SAR)  experience (years)  \n",
       "0  AR RIYADH...  دوام كامل   both        5000.0                   0  \n",
       "1  AD DAMMAM...  دوام كامل   both        5000.0                   0  "
      ]
     },
     "execution_count": 218,
     "metadata": {},
     "output_type": "execute_result"
    }
   ],
   "source": [
    "jobs_df.head(2)"
   ]
  },
  {
   "cell_type": "markdown",
   "id": "f8741756",
   "metadata": {},
   "source": [
    "# Q1"
   ]
  },
  {
   "cell_type": "code",
   "execution_count": 219,
   "id": "577ff1c2",
   "metadata": {},
   "outputs": [],
   "source": [
    "# Calculate the proportion of job postings by region\n",
    "region_proportions = jobs_df['region'].value_counts(normalize=True) * 100"
   ]
  },
  {
   "cell_type": "code",
   "execution_count": 220,
   "id": "1689a973",
   "metadata": {},
   "outputs": [
    {
     "data": {
      "text/plain": [
       "region\n",
       "الرياض             42.492260\n",
       "مكة المكرمة        24.922601\n",
       "المنطقة الشرقية    15.015480\n",
       "المدينة المنورة     5.727554\n",
       "الباحة              3.250774\n",
       "عسير                2.863777\n",
       "القصيم              2.244582\n",
       "حائل                1.160991\n",
       "تبوك                0.773994\n",
       "جازان               0.541796\n",
       "نجران               0.541796\n",
       "الحدود الشمالية     0.232198\n",
       "الجوف               0.232198\n",
       "Name: proportion, dtype: float64"
      ]
     },
     "execution_count": 220,
     "metadata": {},
     "output_type": "execute_result"
    }
   ],
   "source": [
    "region_proportions"
   ]
  },
  {
   "cell_type": "code",
   "execution_count": 238,
   "id": "e070df36",
   "metadata": {},
   "outputs": [
    {
     "data": {
      "application/vnd.plotly.v1+json": {
       "config": {
        "plotlyServerURL": "https://plot.ly"
       },
       "data": [
        {
         "domain": {
          "x": [
           0,
           1
          ],
          "y": [
           0,
           1
          ]
         },
         "hole": 0.3,
         "hovertemplate": "label=%{label}<br>value=%{value}<extra></extra>",
         "labels": [
          "الرياض",
          "مكة المكرمة",
          "المنطقة الشرقية",
          "المدينة المنورة",
          "الباحة",
          "عسير",
          "القصيم",
          "حائل",
          "تبوك",
          "جازان",
          "نجران",
          "الحدود الشمالية",
          "الجوف"
         ],
         "legendgroup": "",
         "name": "",
         "showlegend": true,
         "type": "pie",
         "values": [
          42.49226006191951,
          24.922600619195045,
          15.015479876160992,
          5.727554179566564,
          3.2507739938080498,
          2.863777089783282,
          2.244582043343653,
          1.1609907120743035,
          0.7739938080495357,
          0.541795665634675,
          0.541795665634675,
          0.23219814241486067,
          0.23219814241486067
         ]
        }
       ],
       "layout": {
        "legend": {
         "tracegroupgap": 0
        },
        "template": {
         "data": {
          "bar": [
           {
            "error_x": {
             "color": "#2a3f5f"
            },
            "error_y": {
             "color": "#2a3f5f"
            },
            "marker": {
             "line": {
              "color": "#E5ECF6",
              "width": 0.5
             },
             "pattern": {
              "fillmode": "overlay",
              "size": 10,
              "solidity": 0.2
             }
            },
            "type": "bar"
           }
          ],
          "barpolar": [
           {
            "marker": {
             "line": {
              "color": "#E5ECF6",
              "width": 0.5
             },
             "pattern": {
              "fillmode": "overlay",
              "size": 10,
              "solidity": 0.2
             }
            },
            "type": "barpolar"
           }
          ],
          "carpet": [
           {
            "aaxis": {
             "endlinecolor": "#2a3f5f",
             "gridcolor": "white",
             "linecolor": "white",
             "minorgridcolor": "white",
             "startlinecolor": "#2a3f5f"
            },
            "baxis": {
             "endlinecolor": "#2a3f5f",
             "gridcolor": "white",
             "linecolor": "white",
             "minorgridcolor": "white",
             "startlinecolor": "#2a3f5f"
            },
            "type": "carpet"
           }
          ],
          "choropleth": [
           {
            "colorbar": {
             "outlinewidth": 0,
             "ticks": ""
            },
            "type": "choropleth"
           }
          ],
          "contour": [
           {
            "colorbar": {
             "outlinewidth": 0,
             "ticks": ""
            },
            "colorscale": [
             [
              0,
              "#0d0887"
             ],
             [
              0.1111111111111111,
              "#46039f"
             ],
             [
              0.2222222222222222,
              "#7201a8"
             ],
             [
              0.3333333333333333,
              "#9c179e"
             ],
             [
              0.4444444444444444,
              "#bd3786"
             ],
             [
              0.5555555555555556,
              "#d8576b"
             ],
             [
              0.6666666666666666,
              "#ed7953"
             ],
             [
              0.7777777777777778,
              "#fb9f3a"
             ],
             [
              0.8888888888888888,
              "#fdca26"
             ],
             [
              1,
              "#f0f921"
             ]
            ],
            "type": "contour"
           }
          ],
          "contourcarpet": [
           {
            "colorbar": {
             "outlinewidth": 0,
             "ticks": ""
            },
            "type": "contourcarpet"
           }
          ],
          "heatmap": [
           {
            "colorbar": {
             "outlinewidth": 0,
             "ticks": ""
            },
            "colorscale": [
             [
              0,
              "#0d0887"
             ],
             [
              0.1111111111111111,
              "#46039f"
             ],
             [
              0.2222222222222222,
              "#7201a8"
             ],
             [
              0.3333333333333333,
              "#9c179e"
             ],
             [
              0.4444444444444444,
              "#bd3786"
             ],
             [
              0.5555555555555556,
              "#d8576b"
             ],
             [
              0.6666666666666666,
              "#ed7953"
             ],
             [
              0.7777777777777778,
              "#fb9f3a"
             ],
             [
              0.8888888888888888,
              "#fdca26"
             ],
             [
              1,
              "#f0f921"
             ]
            ],
            "type": "heatmap"
           }
          ],
          "heatmapgl": [
           {
            "colorbar": {
             "outlinewidth": 0,
             "ticks": ""
            },
            "colorscale": [
             [
              0,
              "#0d0887"
             ],
             [
              0.1111111111111111,
              "#46039f"
             ],
             [
              0.2222222222222222,
              "#7201a8"
             ],
             [
              0.3333333333333333,
              "#9c179e"
             ],
             [
              0.4444444444444444,
              "#bd3786"
             ],
             [
              0.5555555555555556,
              "#d8576b"
             ],
             [
              0.6666666666666666,
              "#ed7953"
             ],
             [
              0.7777777777777778,
              "#fb9f3a"
             ],
             [
              0.8888888888888888,
              "#fdca26"
             ],
             [
              1,
              "#f0f921"
             ]
            ],
            "type": "heatmapgl"
           }
          ],
          "histogram": [
           {
            "marker": {
             "pattern": {
              "fillmode": "overlay",
              "size": 10,
              "solidity": 0.2
             }
            },
            "type": "histogram"
           }
          ],
          "histogram2d": [
           {
            "colorbar": {
             "outlinewidth": 0,
             "ticks": ""
            },
            "colorscale": [
             [
              0,
              "#0d0887"
             ],
             [
              0.1111111111111111,
              "#46039f"
             ],
             [
              0.2222222222222222,
              "#7201a8"
             ],
             [
              0.3333333333333333,
              "#9c179e"
             ],
             [
              0.4444444444444444,
              "#bd3786"
             ],
             [
              0.5555555555555556,
              "#d8576b"
             ],
             [
              0.6666666666666666,
              "#ed7953"
             ],
             [
              0.7777777777777778,
              "#fb9f3a"
             ],
             [
              0.8888888888888888,
              "#fdca26"
             ],
             [
              1,
              "#f0f921"
             ]
            ],
            "type": "histogram2d"
           }
          ],
          "histogram2dcontour": [
           {
            "colorbar": {
             "outlinewidth": 0,
             "ticks": ""
            },
            "colorscale": [
             [
              0,
              "#0d0887"
             ],
             [
              0.1111111111111111,
              "#46039f"
             ],
             [
              0.2222222222222222,
              "#7201a8"
             ],
             [
              0.3333333333333333,
              "#9c179e"
             ],
             [
              0.4444444444444444,
              "#bd3786"
             ],
             [
              0.5555555555555556,
              "#d8576b"
             ],
             [
              0.6666666666666666,
              "#ed7953"
             ],
             [
              0.7777777777777778,
              "#fb9f3a"
             ],
             [
              0.8888888888888888,
              "#fdca26"
             ],
             [
              1,
              "#f0f921"
             ]
            ],
            "type": "histogram2dcontour"
           }
          ],
          "mesh3d": [
           {
            "colorbar": {
             "outlinewidth": 0,
             "ticks": ""
            },
            "type": "mesh3d"
           }
          ],
          "parcoords": [
           {
            "line": {
             "colorbar": {
              "outlinewidth": 0,
              "ticks": ""
             }
            },
            "type": "parcoords"
           }
          ],
          "pie": [
           {
            "automargin": true,
            "type": "pie"
           }
          ],
          "scatter": [
           {
            "fillpattern": {
             "fillmode": "overlay",
             "size": 10,
             "solidity": 0.2
            },
            "type": "scatter"
           }
          ],
          "scatter3d": [
           {
            "line": {
             "colorbar": {
              "outlinewidth": 0,
              "ticks": ""
             }
            },
            "marker": {
             "colorbar": {
              "outlinewidth": 0,
              "ticks": ""
             }
            },
            "type": "scatter3d"
           }
          ],
          "scattercarpet": [
           {
            "marker": {
             "colorbar": {
              "outlinewidth": 0,
              "ticks": ""
             }
            },
            "type": "scattercarpet"
           }
          ],
          "scattergeo": [
           {
            "marker": {
             "colorbar": {
              "outlinewidth": 0,
              "ticks": ""
             }
            },
            "type": "scattergeo"
           }
          ],
          "scattergl": [
           {
            "marker": {
             "colorbar": {
              "outlinewidth": 0,
              "ticks": ""
             }
            },
            "type": "scattergl"
           }
          ],
          "scattermapbox": [
           {
            "marker": {
             "colorbar": {
              "outlinewidth": 0,
              "ticks": ""
             }
            },
            "type": "scattermapbox"
           }
          ],
          "scatterpolar": [
           {
            "marker": {
             "colorbar": {
              "outlinewidth": 0,
              "ticks": ""
             }
            },
            "type": "scatterpolar"
           }
          ],
          "scatterpolargl": [
           {
            "marker": {
             "colorbar": {
              "outlinewidth": 0,
              "ticks": ""
             }
            },
            "type": "scatterpolargl"
           }
          ],
          "scatterternary": [
           {
            "marker": {
             "colorbar": {
              "outlinewidth": 0,
              "ticks": ""
             }
            },
            "type": "scatterternary"
           }
          ],
          "surface": [
           {
            "colorbar": {
             "outlinewidth": 0,
             "ticks": ""
            },
            "colorscale": [
             [
              0,
              "#0d0887"
             ],
             [
              0.1111111111111111,
              "#46039f"
             ],
             [
              0.2222222222222222,
              "#7201a8"
             ],
             [
              0.3333333333333333,
              "#9c179e"
             ],
             [
              0.4444444444444444,
              "#bd3786"
             ],
             [
              0.5555555555555556,
              "#d8576b"
             ],
             [
              0.6666666666666666,
              "#ed7953"
             ],
             [
              0.7777777777777778,
              "#fb9f3a"
             ],
             [
              0.8888888888888888,
              "#fdca26"
             ],
             [
              1,
              "#f0f921"
             ]
            ],
            "type": "surface"
           }
          ],
          "table": [
           {
            "cells": {
             "fill": {
              "color": "#EBF0F8"
             },
             "line": {
              "color": "white"
             }
            },
            "header": {
             "fill": {
              "color": "#C8D4E3"
             },
             "line": {
              "color": "white"
             }
            },
            "type": "table"
           }
          ]
         },
         "layout": {
          "annotationdefaults": {
           "arrowcolor": "#2a3f5f",
           "arrowhead": 0,
           "arrowwidth": 1
          },
          "autotypenumbers": "strict",
          "coloraxis": {
           "colorbar": {
            "outlinewidth": 0,
            "ticks": ""
           }
          },
          "colorscale": {
           "diverging": [
            [
             0,
             "#8e0152"
            ],
            [
             0.1,
             "#c51b7d"
            ],
            [
             0.2,
             "#de77ae"
            ],
            [
             0.3,
             "#f1b6da"
            ],
            [
             0.4,
             "#fde0ef"
            ],
            [
             0.5,
             "#f7f7f7"
            ],
            [
             0.6,
             "#e6f5d0"
            ],
            [
             0.7,
             "#b8e186"
            ],
            [
             0.8,
             "#7fbc41"
            ],
            [
             0.9,
             "#4d9221"
            ],
            [
             1,
             "#276419"
            ]
           ],
           "sequential": [
            [
             0,
             "#0d0887"
            ],
            [
             0.1111111111111111,
             "#46039f"
            ],
            [
             0.2222222222222222,
             "#7201a8"
            ],
            [
             0.3333333333333333,
             "#9c179e"
            ],
            [
             0.4444444444444444,
             "#bd3786"
            ],
            [
             0.5555555555555556,
             "#d8576b"
            ],
            [
             0.6666666666666666,
             "#ed7953"
            ],
            [
             0.7777777777777778,
             "#fb9f3a"
            ],
            [
             0.8888888888888888,
             "#fdca26"
            ],
            [
             1,
             "#f0f921"
            ]
           ],
           "sequentialminus": [
            [
             0,
             "#0d0887"
            ],
            [
             0.1111111111111111,
             "#46039f"
            ],
            [
             0.2222222222222222,
             "#7201a8"
            ],
            [
             0.3333333333333333,
             "#9c179e"
            ],
            [
             0.4444444444444444,
             "#bd3786"
            ],
            [
             0.5555555555555556,
             "#d8576b"
            ],
            [
             0.6666666666666666,
             "#ed7953"
            ],
            [
             0.7777777777777778,
             "#fb9f3a"
            ],
            [
             0.8888888888888888,
             "#fdca26"
            ],
            [
             1,
             "#f0f921"
            ]
           ]
          },
          "colorway": [
           "#636efa",
           "#EF553B",
           "#00cc96",
           "#ab63fa",
           "#FFA15A",
           "#19d3f3",
           "#FF6692",
           "#B6E880",
           "#FF97FF",
           "#FECB52"
          ],
          "font": {
           "color": "#2a3f5f"
          },
          "geo": {
           "bgcolor": "white",
           "lakecolor": "white",
           "landcolor": "#E5ECF6",
           "showlakes": true,
           "showland": true,
           "subunitcolor": "white"
          },
          "hoverlabel": {
           "align": "left"
          },
          "hovermode": "closest",
          "mapbox": {
           "style": "light"
          },
          "paper_bgcolor": "white",
          "plot_bgcolor": "#E5ECF6",
          "polar": {
           "angularaxis": {
            "gridcolor": "white",
            "linecolor": "white",
            "ticks": ""
           },
           "bgcolor": "#E5ECF6",
           "radialaxis": {
            "gridcolor": "white",
            "linecolor": "white",
            "ticks": ""
           }
          },
          "scene": {
           "xaxis": {
            "backgroundcolor": "#E5ECF6",
            "gridcolor": "white",
            "gridwidth": 2,
            "linecolor": "white",
            "showbackground": true,
            "ticks": "",
            "zerolinecolor": "white"
           },
           "yaxis": {
            "backgroundcolor": "#E5ECF6",
            "gridcolor": "white",
            "gridwidth": 2,
            "linecolor": "white",
            "showbackground": true,
            "ticks": "",
            "zerolinecolor": "white"
           },
           "zaxis": {
            "backgroundcolor": "#E5ECF6",
            "gridcolor": "white",
            "gridwidth": 2,
            "linecolor": "white",
            "showbackground": true,
            "ticks": "",
            "zerolinecolor": "white"
           }
          },
          "shapedefaults": {
           "line": {
            "color": "#2a3f5f"
           }
          },
          "ternary": {
           "aaxis": {
            "gridcolor": "white",
            "linecolor": "white",
            "ticks": ""
           },
           "baxis": {
            "gridcolor": "white",
            "linecolor": "white",
            "ticks": ""
           },
           "bgcolor": "#E5ECF6",
           "caxis": {
            "gridcolor": "white",
            "linecolor": "white",
            "ticks": ""
           }
          },
          "title": {
           "x": 0.05
          },
          "xaxis": {
           "automargin": true,
           "gridcolor": "white",
           "linecolor": "white",
           "ticks": "",
           "title": {
            "standoff": 15
           },
           "zerolinecolor": "white",
           "zerolinewidth": 2
          },
          "yaxis": {
           "automargin": true,
           "gridcolor": "white",
           "linecolor": "white",
           "ticks": "",
           "title": {
            "standoff": 15
           },
           "zerolinecolor": "white",
           "zerolinewidth": 2
          }
         }
        },
        "title": {
         "text": "Proportion of Job Postings by Region in KSA"
        }
       }
      }
     },
     "metadata": {},
     "output_type": "display_data"
    }
   ],
   "source": [
    "import plotly.express as px\n",
    "\n",
    "# Create a pie chart using Plotly for region proportions\n",
    "fig = px.pie(values=region_proportions, names=region_proportions.index, \n",
    "             title='Proportion of Job Postings by Region in KSA', hole=0.3)\n",
    "\n",
    "# Display the chart\n",
    "fig.show()\n"
   ]
  },
  {
   "cell_type": "markdown",
   "id": "d34f9fc4",
   "metadata": {},
   "source": [
    "### Insight on Job Postings by Region in KSA\n",
    "\n",
    "The chart highlights the distribution of job postings across various regions in Saudi Arabia, showing a strong concentration in a few key areas:\n",
    "\n",
    "- **Riyadh**: Leading with **42.5%** of total job postings, Riyadh dominates as the primary region for employment opportunities, reflecting its position as the capital and a major economic hub.\n",
    "- **Makkah**: With **24.9%** of postings, Makkah follows Riyadh, indicating substantial job availability, likely due to its religious and economic significance.\n",
    "- **Eastern Province**: Accounting for **15%** of postings, this region has a strong presence, possibly due to its industrial and oil sectors.\n",
    "- **Smaller Regions**: Other regions like Al Madinah (5.73%), Al Bahah (3.25%), and Asir (2.86%) contribute smaller shares, suggesting fewer job openings relative to the larger cities.\n",
    "\n",
    "Overall, job opportunities are heavily concentrated in Riyadh, Makkah, and the Eastern Province, while other regions see significantly fewer postings, which may reflect their economic size and industry diversity.\n"
   ]
  },
  {
   "cell_type": "markdown",
   "id": "baf64bd0",
   "metadata": {},
   "source": [
    "# Q2"
   ]
  },
  {
   "cell_type": "code",
   "execution_count": 222,
   "id": "a7c089ed",
   "metadata": {},
   "outputs": [
    {
     "data": {
      "application/vnd.plotly.v1+json": {
       "config": {
        "plotlyServerURL": "https://plot.ly"
       },
       "data": [
        {
         "domain": {
          "x": [
           0,
           1
          ],
          "y": [
           0,
           1
          ]
         },
         "hole": 0.3,
         "hovertemplate": "label=%{label}<br>value=%{value}<extra></extra>",
         "labels": [
          "both",
          "Male",
          "Female"
         ],
         "legendgroup": "",
         "name": "",
         "pull": [
          0.1,
          0,
          0
         ],
         "showlegend": true,
         "textinfo": "percent+label",
         "type": "pie",
         "values": [
          38.85448916408669,
          32.50773993808049,
          28.637770897832816
         ]
        }
       ],
       "layout": {
        "legend": {
         "tracegroupgap": 0
        },
        "piecolorway": [
         "rgb(102, 197, 204)",
         "rgb(246, 207, 113)",
         "rgb(248, 156, 116)",
         "rgb(220, 176, 242)",
         "rgb(135, 197, 95)",
         "rgb(158, 185, 243)",
         "rgb(254, 136, 177)",
         "rgb(201, 219, 116)",
         "rgb(139, 224, 164)",
         "rgb(180, 151, 231)",
         "rgb(179, 179, 179)"
        ],
        "template": {
         "data": {
          "bar": [
           {
            "error_x": {
             "color": "#2a3f5f"
            },
            "error_y": {
             "color": "#2a3f5f"
            },
            "marker": {
             "line": {
              "color": "#E5ECF6",
              "width": 0.5
             },
             "pattern": {
              "fillmode": "overlay",
              "size": 10,
              "solidity": 0.2
             }
            },
            "type": "bar"
           }
          ],
          "barpolar": [
           {
            "marker": {
             "line": {
              "color": "#E5ECF6",
              "width": 0.5
             },
             "pattern": {
              "fillmode": "overlay",
              "size": 10,
              "solidity": 0.2
             }
            },
            "type": "barpolar"
           }
          ],
          "carpet": [
           {
            "aaxis": {
             "endlinecolor": "#2a3f5f",
             "gridcolor": "white",
             "linecolor": "white",
             "minorgridcolor": "white",
             "startlinecolor": "#2a3f5f"
            },
            "baxis": {
             "endlinecolor": "#2a3f5f",
             "gridcolor": "white",
             "linecolor": "white",
             "minorgridcolor": "white",
             "startlinecolor": "#2a3f5f"
            },
            "type": "carpet"
           }
          ],
          "choropleth": [
           {
            "colorbar": {
             "outlinewidth": 0,
             "ticks": ""
            },
            "type": "choropleth"
           }
          ],
          "contour": [
           {
            "colorbar": {
             "outlinewidth": 0,
             "ticks": ""
            },
            "colorscale": [
             [
              0,
              "#0d0887"
             ],
             [
              0.1111111111111111,
              "#46039f"
             ],
             [
              0.2222222222222222,
              "#7201a8"
             ],
             [
              0.3333333333333333,
              "#9c179e"
             ],
             [
              0.4444444444444444,
              "#bd3786"
             ],
             [
              0.5555555555555556,
              "#d8576b"
             ],
             [
              0.6666666666666666,
              "#ed7953"
             ],
             [
              0.7777777777777778,
              "#fb9f3a"
             ],
             [
              0.8888888888888888,
              "#fdca26"
             ],
             [
              1,
              "#f0f921"
             ]
            ],
            "type": "contour"
           }
          ],
          "contourcarpet": [
           {
            "colorbar": {
             "outlinewidth": 0,
             "ticks": ""
            },
            "type": "contourcarpet"
           }
          ],
          "heatmap": [
           {
            "colorbar": {
             "outlinewidth": 0,
             "ticks": ""
            },
            "colorscale": [
             [
              0,
              "#0d0887"
             ],
             [
              0.1111111111111111,
              "#46039f"
             ],
             [
              0.2222222222222222,
              "#7201a8"
             ],
             [
              0.3333333333333333,
              "#9c179e"
             ],
             [
              0.4444444444444444,
              "#bd3786"
             ],
             [
              0.5555555555555556,
              "#d8576b"
             ],
             [
              0.6666666666666666,
              "#ed7953"
             ],
             [
              0.7777777777777778,
              "#fb9f3a"
             ],
             [
              0.8888888888888888,
              "#fdca26"
             ],
             [
              1,
              "#f0f921"
             ]
            ],
            "type": "heatmap"
           }
          ],
          "heatmapgl": [
           {
            "colorbar": {
             "outlinewidth": 0,
             "ticks": ""
            },
            "colorscale": [
             [
              0,
              "#0d0887"
             ],
             [
              0.1111111111111111,
              "#46039f"
             ],
             [
              0.2222222222222222,
              "#7201a8"
             ],
             [
              0.3333333333333333,
              "#9c179e"
             ],
             [
              0.4444444444444444,
              "#bd3786"
             ],
             [
              0.5555555555555556,
              "#d8576b"
             ],
             [
              0.6666666666666666,
              "#ed7953"
             ],
             [
              0.7777777777777778,
              "#fb9f3a"
             ],
             [
              0.8888888888888888,
              "#fdca26"
             ],
             [
              1,
              "#f0f921"
             ]
            ],
            "type": "heatmapgl"
           }
          ],
          "histogram": [
           {
            "marker": {
             "pattern": {
              "fillmode": "overlay",
              "size": 10,
              "solidity": 0.2
             }
            },
            "type": "histogram"
           }
          ],
          "histogram2d": [
           {
            "colorbar": {
             "outlinewidth": 0,
             "ticks": ""
            },
            "colorscale": [
             [
              0,
              "#0d0887"
             ],
             [
              0.1111111111111111,
              "#46039f"
             ],
             [
              0.2222222222222222,
              "#7201a8"
             ],
             [
              0.3333333333333333,
              "#9c179e"
             ],
             [
              0.4444444444444444,
              "#bd3786"
             ],
             [
              0.5555555555555556,
              "#d8576b"
             ],
             [
              0.6666666666666666,
              "#ed7953"
             ],
             [
              0.7777777777777778,
              "#fb9f3a"
             ],
             [
              0.8888888888888888,
              "#fdca26"
             ],
             [
              1,
              "#f0f921"
             ]
            ],
            "type": "histogram2d"
           }
          ],
          "histogram2dcontour": [
           {
            "colorbar": {
             "outlinewidth": 0,
             "ticks": ""
            },
            "colorscale": [
             [
              0,
              "#0d0887"
             ],
             [
              0.1111111111111111,
              "#46039f"
             ],
             [
              0.2222222222222222,
              "#7201a8"
             ],
             [
              0.3333333333333333,
              "#9c179e"
             ],
             [
              0.4444444444444444,
              "#bd3786"
             ],
             [
              0.5555555555555556,
              "#d8576b"
             ],
             [
              0.6666666666666666,
              "#ed7953"
             ],
             [
              0.7777777777777778,
              "#fb9f3a"
             ],
             [
              0.8888888888888888,
              "#fdca26"
             ],
             [
              1,
              "#f0f921"
             ]
            ],
            "type": "histogram2dcontour"
           }
          ],
          "mesh3d": [
           {
            "colorbar": {
             "outlinewidth": 0,
             "ticks": ""
            },
            "type": "mesh3d"
           }
          ],
          "parcoords": [
           {
            "line": {
             "colorbar": {
              "outlinewidth": 0,
              "ticks": ""
             }
            },
            "type": "parcoords"
           }
          ],
          "pie": [
           {
            "automargin": true,
            "type": "pie"
           }
          ],
          "scatter": [
           {
            "fillpattern": {
             "fillmode": "overlay",
             "size": 10,
             "solidity": 0.2
            },
            "type": "scatter"
           }
          ],
          "scatter3d": [
           {
            "line": {
             "colorbar": {
              "outlinewidth": 0,
              "ticks": ""
             }
            },
            "marker": {
             "colorbar": {
              "outlinewidth": 0,
              "ticks": ""
             }
            },
            "type": "scatter3d"
           }
          ],
          "scattercarpet": [
           {
            "marker": {
             "colorbar": {
              "outlinewidth": 0,
              "ticks": ""
             }
            },
            "type": "scattercarpet"
           }
          ],
          "scattergeo": [
           {
            "marker": {
             "colorbar": {
              "outlinewidth": 0,
              "ticks": ""
             }
            },
            "type": "scattergeo"
           }
          ],
          "scattergl": [
           {
            "marker": {
             "colorbar": {
              "outlinewidth": 0,
              "ticks": ""
             }
            },
            "type": "scattergl"
           }
          ],
          "scattermapbox": [
           {
            "marker": {
             "colorbar": {
              "outlinewidth": 0,
              "ticks": ""
             }
            },
            "type": "scattermapbox"
           }
          ],
          "scatterpolar": [
           {
            "marker": {
             "colorbar": {
              "outlinewidth": 0,
              "ticks": ""
             }
            },
            "type": "scatterpolar"
           }
          ],
          "scatterpolargl": [
           {
            "marker": {
             "colorbar": {
              "outlinewidth": 0,
              "ticks": ""
             }
            },
            "type": "scatterpolargl"
           }
          ],
          "scatterternary": [
           {
            "marker": {
             "colorbar": {
              "outlinewidth": 0,
              "ticks": ""
             }
            },
            "type": "scatterternary"
           }
          ],
          "surface": [
           {
            "colorbar": {
             "outlinewidth": 0,
             "ticks": ""
            },
            "colorscale": [
             [
              0,
              "#0d0887"
             ],
             [
              0.1111111111111111,
              "#46039f"
             ],
             [
              0.2222222222222222,
              "#7201a8"
             ],
             [
              0.3333333333333333,
              "#9c179e"
             ],
             [
              0.4444444444444444,
              "#bd3786"
             ],
             [
              0.5555555555555556,
              "#d8576b"
             ],
             [
              0.6666666666666666,
              "#ed7953"
             ],
             [
              0.7777777777777778,
              "#fb9f3a"
             ],
             [
              0.8888888888888888,
              "#fdca26"
             ],
             [
              1,
              "#f0f921"
             ]
            ],
            "type": "surface"
           }
          ],
          "table": [
           {
            "cells": {
             "fill": {
              "color": "#EBF0F8"
             },
             "line": {
              "color": "white"
             }
            },
            "header": {
             "fill": {
              "color": "#C8D4E3"
             },
             "line": {
              "color": "white"
             }
            },
            "type": "table"
           }
          ]
         },
         "layout": {
          "annotationdefaults": {
           "arrowcolor": "#2a3f5f",
           "arrowhead": 0,
           "arrowwidth": 1
          },
          "autotypenumbers": "strict",
          "coloraxis": {
           "colorbar": {
            "outlinewidth": 0,
            "ticks": ""
           }
          },
          "colorscale": {
           "diverging": [
            [
             0,
             "#8e0152"
            ],
            [
             0.1,
             "#c51b7d"
            ],
            [
             0.2,
             "#de77ae"
            ],
            [
             0.3,
             "#f1b6da"
            ],
            [
             0.4,
             "#fde0ef"
            ],
            [
             0.5,
             "#f7f7f7"
            ],
            [
             0.6,
             "#e6f5d0"
            ],
            [
             0.7,
             "#b8e186"
            ],
            [
             0.8,
             "#7fbc41"
            ],
            [
             0.9,
             "#4d9221"
            ],
            [
             1,
             "#276419"
            ]
           ],
           "sequential": [
            [
             0,
             "#0d0887"
            ],
            [
             0.1111111111111111,
             "#46039f"
            ],
            [
             0.2222222222222222,
             "#7201a8"
            ],
            [
             0.3333333333333333,
             "#9c179e"
            ],
            [
             0.4444444444444444,
             "#bd3786"
            ],
            [
             0.5555555555555556,
             "#d8576b"
            ],
            [
             0.6666666666666666,
             "#ed7953"
            ],
            [
             0.7777777777777778,
             "#fb9f3a"
            ],
            [
             0.8888888888888888,
             "#fdca26"
            ],
            [
             1,
             "#f0f921"
            ]
           ],
           "sequentialminus": [
            [
             0,
             "#0d0887"
            ],
            [
             0.1111111111111111,
             "#46039f"
            ],
            [
             0.2222222222222222,
             "#7201a8"
            ],
            [
             0.3333333333333333,
             "#9c179e"
            ],
            [
             0.4444444444444444,
             "#bd3786"
            ],
            [
             0.5555555555555556,
             "#d8576b"
            ],
            [
             0.6666666666666666,
             "#ed7953"
            ],
            [
             0.7777777777777778,
             "#fb9f3a"
            ],
            [
             0.8888888888888888,
             "#fdca26"
            ],
            [
             1,
             "#f0f921"
            ]
           ]
          },
          "colorway": [
           "#636efa",
           "#EF553B",
           "#00cc96",
           "#ab63fa",
           "#FFA15A",
           "#19d3f3",
           "#FF6692",
           "#B6E880",
           "#FF97FF",
           "#FECB52"
          ],
          "font": {
           "color": "#2a3f5f"
          },
          "geo": {
           "bgcolor": "white",
           "lakecolor": "white",
           "landcolor": "#E5ECF6",
           "showlakes": true,
           "showland": true,
           "subunitcolor": "white"
          },
          "hoverlabel": {
           "align": "left"
          },
          "hovermode": "closest",
          "mapbox": {
           "style": "light"
          },
          "paper_bgcolor": "white",
          "plot_bgcolor": "#E5ECF6",
          "polar": {
           "angularaxis": {
            "gridcolor": "white",
            "linecolor": "white",
            "ticks": ""
           },
           "bgcolor": "#E5ECF6",
           "radialaxis": {
            "gridcolor": "white",
            "linecolor": "white",
            "ticks": ""
           }
          },
          "scene": {
           "xaxis": {
            "backgroundcolor": "#E5ECF6",
            "gridcolor": "white",
            "gridwidth": 2,
            "linecolor": "white",
            "showbackground": true,
            "ticks": "",
            "zerolinecolor": "white"
           },
           "yaxis": {
            "backgroundcolor": "#E5ECF6",
            "gridcolor": "white",
            "gridwidth": 2,
            "linecolor": "white",
            "showbackground": true,
            "ticks": "",
            "zerolinecolor": "white"
           },
           "zaxis": {
            "backgroundcolor": "#E5ECF6",
            "gridcolor": "white",
            "gridwidth": 2,
            "linecolor": "white",
            "showbackground": true,
            "ticks": "",
            "zerolinecolor": "white"
           }
          },
          "shapedefaults": {
           "line": {
            "color": "#2a3f5f"
           }
          },
          "ternary": {
           "aaxis": {
            "gridcolor": "white",
            "linecolor": "white",
            "ticks": ""
           },
           "baxis": {
            "gridcolor": "white",
            "linecolor": "white",
            "ticks": ""
           },
           "bgcolor": "#E5ECF6",
           "caxis": {
            "gridcolor": "white",
            "linecolor": "white",
            "ticks": ""
           }
          },
          "title": {
           "x": 0.05
          },
          "xaxis": {
           "automargin": true,
           "gridcolor": "white",
           "linecolor": "white",
           "ticks": "",
           "title": {
            "standoff": 15
           },
           "zerolinecolor": "white",
           "zerolinewidth": 2
          },
          "yaxis": {
           "automargin": true,
           "gridcolor": "white",
           "linecolor": "white",
           "ticks": "",
           "title": {
            "standoff": 15
           },
           "zerolinecolor": "white",
           "zerolinewidth": 2
          }
         }
        },
        "title": {
         "text": "Gender Preferences in Job Postings"
        }
       }
      }
     },
     "metadata": {},
     "output_type": "display_data"
    }
   ],
   "source": [
    "# Create a Plotly pie chart for gender preferences\n",
    "fig = px.pie(values=gender_preferences.values, names=gender_preferences.index,\n",
    "             title=\"Gender Preferences in Job Postings\", hole=0.3,\n",
    "             color_discrete_sequence=px.colors.qualitative.Pastel)\n",
    "\n",
    "# Enhance the visual by customizing text and layout\n",
    "fig.update_traces(textinfo='percent+label', pull=[0.1, 0, 0])\n",
    "\n",
    "# Display the Plotly figure\n",
    "fig.show()\n"
   ]
  },
  {
   "cell_type": "markdown",
   "id": "61317e8e",
   "metadata": {},
   "source": [
    "### Insight on Gender Preferences in Job Postings\n",
    "\n",
    "The pie chart shows the distribution of gender preferences in job postings, indicating an openness across genders:\n",
    "\n",
    "- **Gender-Neutral Preference (Both)**: A significant portion of job postings, **38.9%**, are open to both male and female candidates, reflecting flexibility among employers.\n",
    "- **Male-Preferred Roles**: Approximately **32.5%** of job postings specify a preference for male candidates, which might be due to job roles traditionally associated with male-dominated fields or industries.\n",
    "- **Female-Preferred Roles**: About **28.6%** of job postings target female candidates, showing a notable demand for female talent in certain positions.\n",
    "\n",
    "Overall, this distribution suggests a relatively balanced approach in gender-specific hiring, with a slightly higher preference for gender-neutral roles. This trend could indicate a growing inclusivity in the job market.\n"
   ]
  },
  {
   "cell_type": "markdown",
   "id": "dd38b0c5",
   "metadata": {},
   "source": [
    "# Q3"
   ]
  },
  {
   "cell_type": "code",
   "execution_count": 223,
   "id": "8c4e1c70",
   "metadata": {},
   "outputs": [],
   "source": [
    "jobs_df_zero_experience = jobs_df[jobs_df['experience (years)'] == 0]"
   ]
  },
  {
   "cell_type": "code",
   "execution_count": 224,
   "id": "351d7d0b",
   "metadata": {},
   "outputs": [
    {
     "data": {
      "text/plain": [
       "(760, 9)"
      ]
     },
     "execution_count": 224,
     "metadata": {},
     "output_type": "execute_result"
    }
   ],
   "source": [
    "jobs_df_zero_experience.shape"
   ]
  },
  {
   "cell_type": "code",
   "execution_count": 225,
   "id": "8c8feb02",
   "metadata": {},
   "outputs": [
    {
     "data": {
      "text/plain": [
       "(3000.0, 8803.0)"
      ]
     },
     "execution_count": 225,
     "metadata": {},
     "output_type": "execute_result"
    }
   ],
   "source": [
    "# Calculate the salary range (min and max) for fresh graduates (0 experience) in jobs_df_zero_experience\n",
    "jobs_df_zero_experience['salary (SAR)'].min(), jobs_df_zero_experience['salary (SAR)'].max()"
   ]
  },
  {
   "cell_type": "code",
   "execution_count": 228,
   "id": "ed26361c",
   "metadata": {},
   "outputs": [
    {
     "data": {
      "application/vnd.plotly.v1+json": {
       "config": {
        "plotlyServerURL": "https://plot.ly"
       },
       "data": [
        {
         "alignmentgroup": "True",
         "bingroup": "x",
         "hovertemplate": "Salary (SAR)=%{x}<br>count=%{y}<extra></extra>",
         "legendgroup": "",
         "marker": {
          "color": "#636efa",
          "pattern": {
           "shape": ""
          }
         },
         "name": "",
         "nbinsx": 15,
         "offsetgroup": "",
         "orientation": "v",
         "showlegend": false,
         "type": "histogram",
         "x": [
          5000,
          5000,
          5000,
          5000,
          4500,
          7200,
          4000,
          7200,
          5500,
          5000,
          4000,
          4000,
          4000,
          5500,
          3200,
          4500,
          4500,
          4000,
          4000,
          5500,
          4500,
          4500,
          4000,
          5000,
          4000,
          4170,
          4000,
          4500,
          5500,
          6000,
          4000,
          4500,
          4500,
          4000,
          4000,
          4000,
          4000,
          4000,
          4000,
          4000,
          4000,
          4000,
          7000,
          6000,
          4000,
          4000,
          4000,
          7000,
          5000,
          5500,
          3640,
          5000,
          4000,
          5000,
          5500,
          4000,
          4000,
          7000,
          7000,
          4000,
          4000,
          4000,
          4000,
          4000,
          4000,
          5000,
          4500,
          3000,
          4400,
          4000,
          4000,
          4000,
          4000,
          3200,
          4082,
          4000,
          4000,
          4000,
          4000,
          4000,
          4500,
          4000,
          4082,
          4082,
          6000,
          7000,
          4000,
          5000,
          5000,
          5000,
          8400,
          8400,
          8400,
          8400,
          6150,
          6000,
          4400,
          7000,
          4000,
          4000,
          4000,
          4000,
          4000,
          5000,
          5000,
          4000,
          5000,
          4500,
          4000,
          4000,
          4000,
          4000,
          4000,
          6500,
          5000,
          6000,
          3000,
          4000,
          5500,
          4000,
          4000,
          4000,
          4000,
          4000,
          4000,
          4782,
          7000,
          5000,
          6000,
          4500,
          4000,
          4500,
          4000,
          4000,
          6000,
          4000,
          4000,
          4000,
          4000,
          4000,
          5000,
          4000,
          6000,
          4000,
          4000,
          4000,
          4000,
          7000,
          4000,
          4000,
          4000,
          5000,
          5000,
          5000,
          4000,
          5000,
          4375,
          6000,
          4000,
          5000,
          4000,
          5500,
          4000,
          5700,
          6000,
          4000,
          4000,
          5000,
          4000,
          6000,
          6000,
          4000,
          4000,
          4000,
          4000,
          4000,
          4444,
          4800,
          6000,
          6000,
          6000,
          6000,
          6000,
          6000,
          5000,
          7000,
          5000,
          4000,
          4500,
          5000,
          4500,
          4000,
          4000,
          4000,
          5000,
          4000,
          4000,
          5000,
          4000,
          5600,
          5600,
          5600,
          4000,
          4000,
          5500,
          4800,
          8803,
          4000,
          8803,
          4000,
          7000,
          5000,
          4000,
          4000,
          7000,
          4000,
          4000,
          8000,
          5700,
          5700,
          5700,
          5000,
          5000,
          5000,
          5000,
          4000,
          4000,
          3200,
          4000,
          4000,
          4000,
          6000,
          6000,
          6000,
          3500,
          4000,
          5000,
          4000,
          4000,
          4000,
          5000,
          4000,
          4000,
          5625,
          5000,
          4000,
          5000,
          5000,
          5000,
          5000,
          6000,
          5200,
          4000,
          3600,
          4000,
          4408,
          5000,
          5500,
          4000,
          4000,
          4000,
          5000,
          4000,
          5000,
          4083,
          7000,
          4000,
          4000,
          6500,
          5500,
          4000,
          5000,
          4600,
          4000,
          5000,
          4000,
          8000,
          6000,
          4500,
          5000,
          5000,
          4000,
          4000,
          4000,
          4500,
          4000,
          5500,
          4000,
          6250,
          4000,
          4000,
          4000,
          4000,
          4000,
          5500,
          7000,
          4000,
          4000,
          5625,
          7000,
          3500,
          6583,
          6583,
          4000,
          6583,
          4000,
          4000,
          4000,
          4000,
          4000,
          4000,
          4000,
          4000,
          4000,
          5500,
          5000,
          4000,
          5000,
          4000,
          4500,
          4000,
          4000,
          4500,
          7000,
          4000,
          4000,
          3500,
          4000,
          5000,
          4000,
          4000,
          6000,
          5000,
          4000,
          8000,
          4000,
          4000,
          5000,
          4000,
          4500,
          4000,
          4500,
          4500,
          7000,
          4500,
          4500,
          4500,
          4500,
          6000,
          4750,
          5000,
          4000,
          4000,
          4500,
          4000,
          5000,
          4000,
          4000,
          4000,
          4000,
          3500,
          4000,
          4500,
          4000,
          4000,
          4000,
          5000,
          8000,
          5000,
          5000,
          5000,
          5000,
          4000,
          4000,
          4000,
          4000,
          4320,
          4630,
          4375,
          4500,
          4500,
          4500,
          4000,
          4500,
          4500,
          4500,
          4000,
          4630,
          4630,
          5000,
          4000,
          7000,
          4000,
          4000,
          5000,
          6000,
          5000,
          5000,
          7000,
          8500,
          4000,
          5000,
          5200,
          4625,
          4000,
          4500,
          4000,
          4500,
          4500,
          8000,
          6500,
          6500,
          5000,
          5000,
          7000,
          4500,
          4500,
          5500,
          5500,
          4500,
          4000,
          5700,
          4500,
          4500,
          4500,
          4000,
          4000,
          4000,
          5000,
          4000,
          4000,
          4000,
          4000,
          4000,
          4000,
          4000,
          4000,
          4000,
          5040,
          4500,
          4000,
          5000,
          4500,
          4000,
          4000,
          4000,
          4000,
          7000,
          4050,
          4000,
          4000,
          8400,
          8400,
          4000,
          4000,
          4000,
          5000,
          3500,
          4000,
          5000,
          6500,
          4000,
          4000,
          5600,
          7000,
          3500,
          5000,
          4500,
          4000,
          4000,
          5000,
          4000,
          5000,
          5000,
          6500,
          6000,
          5000,
          5000,
          4200,
          3200,
          4000,
          4000,
          4000,
          4000,
          5000,
          5000,
          4000,
          4000,
          4000,
          4000,
          4000,
          4200,
          4000,
          4000,
          4000,
          4082,
          4000,
          4000,
          6000,
          4000,
          3200,
          4000,
          3200,
          4000,
          4000,
          4000,
          5700,
          4000,
          4000,
          4000,
          3000,
          5000,
          4000,
          4000,
          4000,
          4000,
          4000,
          7500,
          4000,
          4000,
          5271,
          4000,
          4667,
          3200,
          4000,
          4000,
          4000,
          4500,
          5500,
          4000,
          4000,
          4000,
          4000,
          4000,
          4000,
          3640,
          4500,
          4000,
          4000,
          4000,
          4000,
          4001,
          4500,
          5500,
          4000,
          4000,
          4000,
          4000,
          4000,
          4000,
          5200,
          5500,
          4000,
          4000,
          6000,
          5000,
          5700,
          5700,
          5700,
          5625,
          5500,
          5000,
          5000,
          7000,
          4500,
          6000,
          5500,
          8000,
          8000,
          4000,
          4000,
          3200,
          5000,
          4000,
          6000,
          6000,
          4000,
          6000,
          5500,
          5000,
          5000,
          5000,
          4000,
          4000,
          4000,
          4000,
          5000,
          6500,
          6000,
          6000,
          6000,
          6000,
          5000,
          5000,
          5000,
          5000,
          4000,
          7000,
          4000,
          4000,
          7757,
          4000,
          4000,
          4500,
          3200,
          4500,
          4500,
          3500,
          6000,
          4000,
          4000,
          4000,
          6000,
          4000,
          4000,
          4000,
          4500,
          4500,
          4000,
          4500,
          4500,
          3500,
          4000,
          4000,
          3600,
          3600,
          4000,
          6000,
          4000,
          4000,
          4000,
          4000,
          6000,
          4000,
          4200,
          8000,
          6000,
          4500,
          5000,
          6000,
          4000,
          4082,
          4000,
          4000,
          5000,
          4000,
          4000,
          4082,
          5000,
          6000,
          7500,
          4000,
          4000,
          4000,
          4000,
          4000,
          4900,
          5000,
          5000,
          5500,
          6000,
          3000,
          4000,
          4000,
          4000,
          6000,
          4200,
          4000,
          5000,
          4000,
          4000,
          3500,
          6000,
          7000,
          4500,
          5500,
          4000,
          4000,
          4000,
          4000,
          4000,
          5000,
          4000,
          4000,
          4000,
          4000,
          4000,
          4000,
          4000,
          4000,
          4000,
          4000,
          6000,
          6000,
          4000,
          5500,
          5500,
          5500,
          4000,
          4000,
          4000,
          7000,
          4000,
          5000,
          6000,
          7000,
          7000,
          4000,
          4500,
          4500,
          4000,
          5000,
          4000,
          5000,
          4000,
          4900,
          4000,
          4500,
          4000,
          4000,
          5000,
          4500,
          4000,
          4000,
          4000,
          4000,
          4000,
          4000,
          4000,
          4000,
          7000,
          4000,
          4000,
          4000,
          7000,
          7000,
          7000,
          4000,
          4000,
          4000,
          4000,
          4000,
          4000,
          4000,
          4500,
          5500,
          4500,
          4500,
          4000,
          4500,
          6500,
          5000,
          5556,
          4000,
          4000,
          5000,
          4000,
          4000,
          5500,
          4000
         ],
         "xaxis": "x",
         "yaxis": "y"
        }
       ],
       "layout": {
        "bargap": 0.1,
        "barmode": "relative",
        "legend": {
         "tracegroupgap": 0
        },
        "template": {
         "data": {
          "bar": [
           {
            "error_x": {
             "color": "#2a3f5f"
            },
            "error_y": {
             "color": "#2a3f5f"
            },
            "marker": {
             "line": {
              "color": "#E5ECF6",
              "width": 0.5
             },
             "pattern": {
              "fillmode": "overlay",
              "size": 10,
              "solidity": 0.2
             }
            },
            "type": "bar"
           }
          ],
          "barpolar": [
           {
            "marker": {
             "line": {
              "color": "#E5ECF6",
              "width": 0.5
             },
             "pattern": {
              "fillmode": "overlay",
              "size": 10,
              "solidity": 0.2
             }
            },
            "type": "barpolar"
           }
          ],
          "carpet": [
           {
            "aaxis": {
             "endlinecolor": "#2a3f5f",
             "gridcolor": "white",
             "linecolor": "white",
             "minorgridcolor": "white",
             "startlinecolor": "#2a3f5f"
            },
            "baxis": {
             "endlinecolor": "#2a3f5f",
             "gridcolor": "white",
             "linecolor": "white",
             "minorgridcolor": "white",
             "startlinecolor": "#2a3f5f"
            },
            "type": "carpet"
           }
          ],
          "choropleth": [
           {
            "colorbar": {
             "outlinewidth": 0,
             "ticks": ""
            },
            "type": "choropleth"
           }
          ],
          "contour": [
           {
            "colorbar": {
             "outlinewidth": 0,
             "ticks": ""
            },
            "colorscale": [
             [
              0,
              "#0d0887"
             ],
             [
              0.1111111111111111,
              "#46039f"
             ],
             [
              0.2222222222222222,
              "#7201a8"
             ],
             [
              0.3333333333333333,
              "#9c179e"
             ],
             [
              0.4444444444444444,
              "#bd3786"
             ],
             [
              0.5555555555555556,
              "#d8576b"
             ],
             [
              0.6666666666666666,
              "#ed7953"
             ],
             [
              0.7777777777777778,
              "#fb9f3a"
             ],
             [
              0.8888888888888888,
              "#fdca26"
             ],
             [
              1,
              "#f0f921"
             ]
            ],
            "type": "contour"
           }
          ],
          "contourcarpet": [
           {
            "colorbar": {
             "outlinewidth": 0,
             "ticks": ""
            },
            "type": "contourcarpet"
           }
          ],
          "heatmap": [
           {
            "colorbar": {
             "outlinewidth": 0,
             "ticks": ""
            },
            "colorscale": [
             [
              0,
              "#0d0887"
             ],
             [
              0.1111111111111111,
              "#46039f"
             ],
             [
              0.2222222222222222,
              "#7201a8"
             ],
             [
              0.3333333333333333,
              "#9c179e"
             ],
             [
              0.4444444444444444,
              "#bd3786"
             ],
             [
              0.5555555555555556,
              "#d8576b"
             ],
             [
              0.6666666666666666,
              "#ed7953"
             ],
             [
              0.7777777777777778,
              "#fb9f3a"
             ],
             [
              0.8888888888888888,
              "#fdca26"
             ],
             [
              1,
              "#f0f921"
             ]
            ],
            "type": "heatmap"
           }
          ],
          "heatmapgl": [
           {
            "colorbar": {
             "outlinewidth": 0,
             "ticks": ""
            },
            "colorscale": [
             [
              0,
              "#0d0887"
             ],
             [
              0.1111111111111111,
              "#46039f"
             ],
             [
              0.2222222222222222,
              "#7201a8"
             ],
             [
              0.3333333333333333,
              "#9c179e"
             ],
             [
              0.4444444444444444,
              "#bd3786"
             ],
             [
              0.5555555555555556,
              "#d8576b"
             ],
             [
              0.6666666666666666,
              "#ed7953"
             ],
             [
              0.7777777777777778,
              "#fb9f3a"
             ],
             [
              0.8888888888888888,
              "#fdca26"
             ],
             [
              1,
              "#f0f921"
             ]
            ],
            "type": "heatmapgl"
           }
          ],
          "histogram": [
           {
            "marker": {
             "pattern": {
              "fillmode": "overlay",
              "size": 10,
              "solidity": 0.2
             }
            },
            "type": "histogram"
           }
          ],
          "histogram2d": [
           {
            "colorbar": {
             "outlinewidth": 0,
             "ticks": ""
            },
            "colorscale": [
             [
              0,
              "#0d0887"
             ],
             [
              0.1111111111111111,
              "#46039f"
             ],
             [
              0.2222222222222222,
              "#7201a8"
             ],
             [
              0.3333333333333333,
              "#9c179e"
             ],
             [
              0.4444444444444444,
              "#bd3786"
             ],
             [
              0.5555555555555556,
              "#d8576b"
             ],
             [
              0.6666666666666666,
              "#ed7953"
             ],
             [
              0.7777777777777778,
              "#fb9f3a"
             ],
             [
              0.8888888888888888,
              "#fdca26"
             ],
             [
              1,
              "#f0f921"
             ]
            ],
            "type": "histogram2d"
           }
          ],
          "histogram2dcontour": [
           {
            "colorbar": {
             "outlinewidth": 0,
             "ticks": ""
            },
            "colorscale": [
             [
              0,
              "#0d0887"
             ],
             [
              0.1111111111111111,
              "#46039f"
             ],
             [
              0.2222222222222222,
              "#7201a8"
             ],
             [
              0.3333333333333333,
              "#9c179e"
             ],
             [
              0.4444444444444444,
              "#bd3786"
             ],
             [
              0.5555555555555556,
              "#d8576b"
             ],
             [
              0.6666666666666666,
              "#ed7953"
             ],
             [
              0.7777777777777778,
              "#fb9f3a"
             ],
             [
              0.8888888888888888,
              "#fdca26"
             ],
             [
              1,
              "#f0f921"
             ]
            ],
            "type": "histogram2dcontour"
           }
          ],
          "mesh3d": [
           {
            "colorbar": {
             "outlinewidth": 0,
             "ticks": ""
            },
            "type": "mesh3d"
           }
          ],
          "parcoords": [
           {
            "line": {
             "colorbar": {
              "outlinewidth": 0,
              "ticks": ""
             }
            },
            "type": "parcoords"
           }
          ],
          "pie": [
           {
            "automargin": true,
            "type": "pie"
           }
          ],
          "scatter": [
           {
            "fillpattern": {
             "fillmode": "overlay",
             "size": 10,
             "solidity": 0.2
            },
            "type": "scatter"
           }
          ],
          "scatter3d": [
           {
            "line": {
             "colorbar": {
              "outlinewidth": 0,
              "ticks": ""
             }
            },
            "marker": {
             "colorbar": {
              "outlinewidth": 0,
              "ticks": ""
             }
            },
            "type": "scatter3d"
           }
          ],
          "scattercarpet": [
           {
            "marker": {
             "colorbar": {
              "outlinewidth": 0,
              "ticks": ""
             }
            },
            "type": "scattercarpet"
           }
          ],
          "scattergeo": [
           {
            "marker": {
             "colorbar": {
              "outlinewidth": 0,
              "ticks": ""
             }
            },
            "type": "scattergeo"
           }
          ],
          "scattergl": [
           {
            "marker": {
             "colorbar": {
              "outlinewidth": 0,
              "ticks": ""
             }
            },
            "type": "scattergl"
           }
          ],
          "scattermapbox": [
           {
            "marker": {
             "colorbar": {
              "outlinewidth": 0,
              "ticks": ""
             }
            },
            "type": "scattermapbox"
           }
          ],
          "scatterpolar": [
           {
            "marker": {
             "colorbar": {
              "outlinewidth": 0,
              "ticks": ""
             }
            },
            "type": "scatterpolar"
           }
          ],
          "scatterpolargl": [
           {
            "marker": {
             "colorbar": {
              "outlinewidth": 0,
              "ticks": ""
             }
            },
            "type": "scatterpolargl"
           }
          ],
          "scatterternary": [
           {
            "marker": {
             "colorbar": {
              "outlinewidth": 0,
              "ticks": ""
             }
            },
            "type": "scatterternary"
           }
          ],
          "surface": [
           {
            "colorbar": {
             "outlinewidth": 0,
             "ticks": ""
            },
            "colorscale": [
             [
              0,
              "#0d0887"
             ],
             [
              0.1111111111111111,
              "#46039f"
             ],
             [
              0.2222222222222222,
              "#7201a8"
             ],
             [
              0.3333333333333333,
              "#9c179e"
             ],
             [
              0.4444444444444444,
              "#bd3786"
             ],
             [
              0.5555555555555556,
              "#d8576b"
             ],
             [
              0.6666666666666666,
              "#ed7953"
             ],
             [
              0.7777777777777778,
              "#fb9f3a"
             ],
             [
              0.8888888888888888,
              "#fdca26"
             ],
             [
              1,
              "#f0f921"
             ]
            ],
            "type": "surface"
           }
          ],
          "table": [
           {
            "cells": {
             "fill": {
              "color": "#EBF0F8"
             },
             "line": {
              "color": "white"
             }
            },
            "header": {
             "fill": {
              "color": "#C8D4E3"
             },
             "line": {
              "color": "white"
             }
            },
            "type": "table"
           }
          ]
         },
         "layout": {
          "annotationdefaults": {
           "arrowcolor": "#2a3f5f",
           "arrowhead": 0,
           "arrowwidth": 1
          },
          "autotypenumbers": "strict",
          "coloraxis": {
           "colorbar": {
            "outlinewidth": 0,
            "ticks": ""
           }
          },
          "colorscale": {
           "diverging": [
            [
             0,
             "#8e0152"
            ],
            [
             0.1,
             "#c51b7d"
            ],
            [
             0.2,
             "#de77ae"
            ],
            [
             0.3,
             "#f1b6da"
            ],
            [
             0.4,
             "#fde0ef"
            ],
            [
             0.5,
             "#f7f7f7"
            ],
            [
             0.6,
             "#e6f5d0"
            ],
            [
             0.7,
             "#b8e186"
            ],
            [
             0.8,
             "#7fbc41"
            ],
            [
             0.9,
             "#4d9221"
            ],
            [
             1,
             "#276419"
            ]
           ],
           "sequential": [
            [
             0,
             "#0d0887"
            ],
            [
             0.1111111111111111,
             "#46039f"
            ],
            [
             0.2222222222222222,
             "#7201a8"
            ],
            [
             0.3333333333333333,
             "#9c179e"
            ],
            [
             0.4444444444444444,
             "#bd3786"
            ],
            [
             0.5555555555555556,
             "#d8576b"
            ],
            [
             0.6666666666666666,
             "#ed7953"
            ],
            [
             0.7777777777777778,
             "#fb9f3a"
            ],
            [
             0.8888888888888888,
             "#fdca26"
            ],
            [
             1,
             "#f0f921"
            ]
           ],
           "sequentialminus": [
            [
             0,
             "#0d0887"
            ],
            [
             0.1111111111111111,
             "#46039f"
            ],
            [
             0.2222222222222222,
             "#7201a8"
            ],
            [
             0.3333333333333333,
             "#9c179e"
            ],
            [
             0.4444444444444444,
             "#bd3786"
            ],
            [
             0.5555555555555556,
             "#d8576b"
            ],
            [
             0.6666666666666666,
             "#ed7953"
            ],
            [
             0.7777777777777778,
             "#fb9f3a"
            ],
            [
             0.8888888888888888,
             "#fdca26"
            ],
            [
             1,
             "#f0f921"
            ]
           ]
          },
          "colorway": [
           "#636efa",
           "#EF553B",
           "#00cc96",
           "#ab63fa",
           "#FFA15A",
           "#19d3f3",
           "#FF6692",
           "#B6E880",
           "#FF97FF",
           "#FECB52"
          ],
          "font": {
           "color": "#2a3f5f"
          },
          "geo": {
           "bgcolor": "white",
           "lakecolor": "white",
           "landcolor": "#E5ECF6",
           "showlakes": true,
           "showland": true,
           "subunitcolor": "white"
          },
          "hoverlabel": {
           "align": "left"
          },
          "hovermode": "closest",
          "mapbox": {
           "style": "light"
          },
          "paper_bgcolor": "white",
          "plot_bgcolor": "#E5ECF6",
          "polar": {
           "angularaxis": {
            "gridcolor": "white",
            "linecolor": "white",
            "ticks": ""
           },
           "bgcolor": "#E5ECF6",
           "radialaxis": {
            "gridcolor": "white",
            "linecolor": "white",
            "ticks": ""
           }
          },
          "scene": {
           "xaxis": {
            "backgroundcolor": "#E5ECF6",
            "gridcolor": "white",
            "gridwidth": 2,
            "linecolor": "white",
            "showbackground": true,
            "ticks": "",
            "zerolinecolor": "white"
           },
           "yaxis": {
            "backgroundcolor": "#E5ECF6",
            "gridcolor": "white",
            "gridwidth": 2,
            "linecolor": "white",
            "showbackground": true,
            "ticks": "",
            "zerolinecolor": "white"
           },
           "zaxis": {
            "backgroundcolor": "#E5ECF6",
            "gridcolor": "white",
            "gridwidth": 2,
            "linecolor": "white",
            "showbackground": true,
            "ticks": "",
            "zerolinecolor": "white"
           }
          },
          "shapedefaults": {
           "line": {
            "color": "#2a3f5f"
           }
          },
          "ternary": {
           "aaxis": {
            "gridcolor": "white",
            "linecolor": "white",
            "ticks": ""
           },
           "baxis": {
            "gridcolor": "white",
            "linecolor": "white",
            "ticks": ""
           },
           "bgcolor": "#E5ECF6",
           "caxis": {
            "gridcolor": "white",
            "linecolor": "white",
            "ticks": ""
           }
          },
          "title": {
           "x": 0.05
          },
          "xaxis": {
           "automargin": true,
           "gridcolor": "white",
           "linecolor": "white",
           "ticks": "",
           "title": {
            "standoff": 15
           },
           "zerolinecolor": "white",
           "zerolinewidth": 2
          },
          "yaxis": {
           "automargin": true,
           "gridcolor": "white",
           "linecolor": "white",
           "ticks": "",
           "title": {
            "standoff": 15
           },
           "zerolinecolor": "white",
           "zerolinewidth": 2
          }
         }
        },
        "title": {
         "text": "Salary Distribution for Fresh Graduates"
        },
        "xaxis": {
         "anchor": "y",
         "domain": [
          0,
          1
         ],
         "title": {
          "text": "Salary (SAR)"
         }
        },
        "yaxis": {
         "anchor": "x",
         "domain": [
          0,
          1
         ],
         "title": {
          "text": "Frequency"
         }
        }
       }
      }
     },
     "metadata": {},
     "output_type": "display_data"
    }
   ],
   "source": [
    "# Create a histogram using Plotly for the salary range of fresh graduates (0 experience)\n",
    "fig = px.histogram(jobs_df_zero_experience, x='salary (SAR)', nbins=15, \n",
    "                   title='Salary Distribution for Fresh Graduates',\n",
    "                   labels={'salary (SAR)': 'Salary (SAR)'})\n",
    "\n",
    "# Customize layout\n",
    "fig.update_layout(xaxis_title=\"Salary (SAR)\", yaxis_title=\"Frequency\", \n",
    "                  bargap=0.1)\n",
    "\n",
    "# Show the figure\n",
    "fig.show()\n"
   ]
  },
  {
   "cell_type": "markdown",
   "id": "a166b84d",
   "metadata": {},
   "source": [
    "### Insight on Salary Distribution for Fresh Graduates\n",
    "\n",
    "The histogram of salary distribution for fresh graduates (0 years of experience) reveals a significant concentration in the lower salary range:\n",
    "\n",
    "- **Most frequent salary range**: The majority of fresh graduate job postings offer salaries around **4,000 SAR**, with this range having the highest frequency.\n",
    "- **Lower salary tiers dominate**: There is a noticeable decline in job frequency as the salary increases, indicating that entry-level positions for fresh graduates tend to cluster in the lower salary brackets.\n",
    "- **Smaller proportion in higher salary ranges**: Only a few positions offer salaries above 6,000 SAR, and very few approach the 9,000 SAR mark. \n",
    "\n",
    "This trend suggests that while there are opportunities for fresh graduates, most employers offer starting salaries in the lower range, which may reflect standard entry-level compensation expectations for inexperienced candidates.\n"
   ]
  },
  {
   "cell_type": "markdown",
   "id": "b5ccef44",
   "metadata": {},
   "source": [
    "# Q4"
   ]
  },
  {
   "cell_type": "code",
   "execution_count": 232,
   "id": "ddaecaef",
   "metadata": {},
   "outputs": [
    {
     "data": {
      "text/plain": [
       "(760, 9)"
      ]
     },
     "execution_count": 232,
     "metadata": {},
     "output_type": "execute_result"
    }
   ],
   "source": [
    "jobs_df_zero_experience.shape"
   ]
  },
  {
   "cell_type": "code",
   "execution_count": 233,
   "id": "183f124b",
   "metadata": {},
   "outputs": [],
   "source": [
    "jobs_df_with_experience = jobs_df[jobs_df['experience (years)'] > 0]"
   ]
  },
  {
   "cell_type": "code",
   "execution_count": 234,
   "id": "e16e285b",
   "metadata": {},
   "outputs": [
    {
     "data": {
      "text/plain": [
       "(532, 9)"
      ]
     },
     "execution_count": 234,
     "metadata": {},
     "output_type": "execute_result"
    }
   ],
   "source": [
    "jobs_df_with_experience.shape"
   ]
  },
  {
   "cell_type": "code",
   "execution_count": 236,
   "id": "37b61b5a",
   "metadata": {},
   "outputs": [
    {
     "data": {
      "application/vnd.plotly.v1+json": {
       "config": {
        "plotlyServerURL": "https://plot.ly"
       },
       "data": [
        {
         "alignmentgroup": "True",
         "hovertemplate": "Experience Level=%{x}<br>Job Count=%{text}<extra></extra>",
         "legendgroup": "Fresh Graduates",
         "marker": {
          "color": "rgb(102, 197, 204)",
          "pattern": {
           "shape": ""
          }
         },
         "name": "Fresh Graduates",
         "offsetgroup": "Fresh Graduates",
         "orientation": "v",
         "showlegend": true,
         "text": [
          760
         ],
         "textposition": "outside",
         "type": "bar",
         "x": [
          "Fresh Graduates"
         ],
         "xaxis": "x",
         "y": [
          760
         ],
         "yaxis": "y"
        },
        {
         "alignmentgroup": "True",
         "hovertemplate": "Experience Level=%{x}<br>Job Count=%{text}<extra></extra>",
         "legendgroup": "With Experience",
         "marker": {
          "color": "rgb(246, 207, 113)",
          "pattern": {
           "shape": ""
          }
         },
         "name": "With Experience",
         "offsetgroup": "With Experience",
         "orientation": "v",
         "showlegend": true,
         "text": [
          532
         ],
         "textposition": "outside",
         "type": "bar",
         "x": [
          "With Experience"
         ],
         "xaxis": "x",
         "y": [
          532
         ],
         "yaxis": "y"
        }
       ],
       "layout": {
        "barmode": "relative",
        "legend": {
         "title": {
          "text": "Experience Level"
         },
         "tracegroupgap": 0
        },
        "showlegend": false,
        "template": {
         "data": {
          "bar": [
           {
            "error_x": {
             "color": "#2a3f5f"
            },
            "error_y": {
             "color": "#2a3f5f"
            },
            "marker": {
             "line": {
              "color": "#E5ECF6",
              "width": 0.5
             },
             "pattern": {
              "fillmode": "overlay",
              "size": 10,
              "solidity": 0.2
             }
            },
            "type": "bar"
           }
          ],
          "barpolar": [
           {
            "marker": {
             "line": {
              "color": "#E5ECF6",
              "width": 0.5
             },
             "pattern": {
              "fillmode": "overlay",
              "size": 10,
              "solidity": 0.2
             }
            },
            "type": "barpolar"
           }
          ],
          "carpet": [
           {
            "aaxis": {
             "endlinecolor": "#2a3f5f",
             "gridcolor": "white",
             "linecolor": "white",
             "minorgridcolor": "white",
             "startlinecolor": "#2a3f5f"
            },
            "baxis": {
             "endlinecolor": "#2a3f5f",
             "gridcolor": "white",
             "linecolor": "white",
             "minorgridcolor": "white",
             "startlinecolor": "#2a3f5f"
            },
            "type": "carpet"
           }
          ],
          "choropleth": [
           {
            "colorbar": {
             "outlinewidth": 0,
             "ticks": ""
            },
            "type": "choropleth"
           }
          ],
          "contour": [
           {
            "colorbar": {
             "outlinewidth": 0,
             "ticks": ""
            },
            "colorscale": [
             [
              0,
              "#0d0887"
             ],
             [
              0.1111111111111111,
              "#46039f"
             ],
             [
              0.2222222222222222,
              "#7201a8"
             ],
             [
              0.3333333333333333,
              "#9c179e"
             ],
             [
              0.4444444444444444,
              "#bd3786"
             ],
             [
              0.5555555555555556,
              "#d8576b"
             ],
             [
              0.6666666666666666,
              "#ed7953"
             ],
             [
              0.7777777777777778,
              "#fb9f3a"
             ],
             [
              0.8888888888888888,
              "#fdca26"
             ],
             [
              1,
              "#f0f921"
             ]
            ],
            "type": "contour"
           }
          ],
          "contourcarpet": [
           {
            "colorbar": {
             "outlinewidth": 0,
             "ticks": ""
            },
            "type": "contourcarpet"
           }
          ],
          "heatmap": [
           {
            "colorbar": {
             "outlinewidth": 0,
             "ticks": ""
            },
            "colorscale": [
             [
              0,
              "#0d0887"
             ],
             [
              0.1111111111111111,
              "#46039f"
             ],
             [
              0.2222222222222222,
              "#7201a8"
             ],
             [
              0.3333333333333333,
              "#9c179e"
             ],
             [
              0.4444444444444444,
              "#bd3786"
             ],
             [
              0.5555555555555556,
              "#d8576b"
             ],
             [
              0.6666666666666666,
              "#ed7953"
             ],
             [
              0.7777777777777778,
              "#fb9f3a"
             ],
             [
              0.8888888888888888,
              "#fdca26"
             ],
             [
              1,
              "#f0f921"
             ]
            ],
            "type": "heatmap"
           }
          ],
          "heatmapgl": [
           {
            "colorbar": {
             "outlinewidth": 0,
             "ticks": ""
            },
            "colorscale": [
             [
              0,
              "#0d0887"
             ],
             [
              0.1111111111111111,
              "#46039f"
             ],
             [
              0.2222222222222222,
              "#7201a8"
             ],
             [
              0.3333333333333333,
              "#9c179e"
             ],
             [
              0.4444444444444444,
              "#bd3786"
             ],
             [
              0.5555555555555556,
              "#d8576b"
             ],
             [
              0.6666666666666666,
              "#ed7953"
             ],
             [
              0.7777777777777778,
              "#fb9f3a"
             ],
             [
              0.8888888888888888,
              "#fdca26"
             ],
             [
              1,
              "#f0f921"
             ]
            ],
            "type": "heatmapgl"
           }
          ],
          "histogram": [
           {
            "marker": {
             "pattern": {
              "fillmode": "overlay",
              "size": 10,
              "solidity": 0.2
             }
            },
            "type": "histogram"
           }
          ],
          "histogram2d": [
           {
            "colorbar": {
             "outlinewidth": 0,
             "ticks": ""
            },
            "colorscale": [
             [
              0,
              "#0d0887"
             ],
             [
              0.1111111111111111,
              "#46039f"
             ],
             [
              0.2222222222222222,
              "#7201a8"
             ],
             [
              0.3333333333333333,
              "#9c179e"
             ],
             [
              0.4444444444444444,
              "#bd3786"
             ],
             [
              0.5555555555555556,
              "#d8576b"
             ],
             [
              0.6666666666666666,
              "#ed7953"
             ],
             [
              0.7777777777777778,
              "#fb9f3a"
             ],
             [
              0.8888888888888888,
              "#fdca26"
             ],
             [
              1,
              "#f0f921"
             ]
            ],
            "type": "histogram2d"
           }
          ],
          "histogram2dcontour": [
           {
            "colorbar": {
             "outlinewidth": 0,
             "ticks": ""
            },
            "colorscale": [
             [
              0,
              "#0d0887"
             ],
             [
              0.1111111111111111,
              "#46039f"
             ],
             [
              0.2222222222222222,
              "#7201a8"
             ],
             [
              0.3333333333333333,
              "#9c179e"
             ],
             [
              0.4444444444444444,
              "#bd3786"
             ],
             [
              0.5555555555555556,
              "#d8576b"
             ],
             [
              0.6666666666666666,
              "#ed7953"
             ],
             [
              0.7777777777777778,
              "#fb9f3a"
             ],
             [
              0.8888888888888888,
              "#fdca26"
             ],
             [
              1,
              "#f0f921"
             ]
            ],
            "type": "histogram2dcontour"
           }
          ],
          "mesh3d": [
           {
            "colorbar": {
             "outlinewidth": 0,
             "ticks": ""
            },
            "type": "mesh3d"
           }
          ],
          "parcoords": [
           {
            "line": {
             "colorbar": {
              "outlinewidth": 0,
              "ticks": ""
             }
            },
            "type": "parcoords"
           }
          ],
          "pie": [
           {
            "automargin": true,
            "type": "pie"
           }
          ],
          "scatter": [
           {
            "fillpattern": {
             "fillmode": "overlay",
             "size": 10,
             "solidity": 0.2
            },
            "type": "scatter"
           }
          ],
          "scatter3d": [
           {
            "line": {
             "colorbar": {
              "outlinewidth": 0,
              "ticks": ""
             }
            },
            "marker": {
             "colorbar": {
              "outlinewidth": 0,
              "ticks": ""
             }
            },
            "type": "scatter3d"
           }
          ],
          "scattercarpet": [
           {
            "marker": {
             "colorbar": {
              "outlinewidth": 0,
              "ticks": ""
             }
            },
            "type": "scattercarpet"
           }
          ],
          "scattergeo": [
           {
            "marker": {
             "colorbar": {
              "outlinewidth": 0,
              "ticks": ""
             }
            },
            "type": "scattergeo"
           }
          ],
          "scattergl": [
           {
            "marker": {
             "colorbar": {
              "outlinewidth": 0,
              "ticks": ""
             }
            },
            "type": "scattergl"
           }
          ],
          "scattermapbox": [
           {
            "marker": {
             "colorbar": {
              "outlinewidth": 0,
              "ticks": ""
             }
            },
            "type": "scattermapbox"
           }
          ],
          "scatterpolar": [
           {
            "marker": {
             "colorbar": {
              "outlinewidth": 0,
              "ticks": ""
             }
            },
            "type": "scatterpolar"
           }
          ],
          "scatterpolargl": [
           {
            "marker": {
             "colorbar": {
              "outlinewidth": 0,
              "ticks": ""
             }
            },
            "type": "scatterpolargl"
           }
          ],
          "scatterternary": [
           {
            "marker": {
             "colorbar": {
              "outlinewidth": 0,
              "ticks": ""
             }
            },
            "type": "scatterternary"
           }
          ],
          "surface": [
           {
            "colorbar": {
             "outlinewidth": 0,
             "ticks": ""
            },
            "colorscale": [
             [
              0,
              "#0d0887"
             ],
             [
              0.1111111111111111,
              "#46039f"
             ],
             [
              0.2222222222222222,
              "#7201a8"
             ],
             [
              0.3333333333333333,
              "#9c179e"
             ],
             [
              0.4444444444444444,
              "#bd3786"
             ],
             [
              0.5555555555555556,
              "#d8576b"
             ],
             [
              0.6666666666666666,
              "#ed7953"
             ],
             [
              0.7777777777777778,
              "#fb9f3a"
             ],
             [
              0.8888888888888888,
              "#fdca26"
             ],
             [
              1,
              "#f0f921"
             ]
            ],
            "type": "surface"
           }
          ],
          "table": [
           {
            "cells": {
             "fill": {
              "color": "#EBF0F8"
             },
             "line": {
              "color": "white"
             }
            },
            "header": {
             "fill": {
              "color": "#C8D4E3"
             },
             "line": {
              "color": "white"
             }
            },
            "type": "table"
           }
          ]
         },
         "layout": {
          "annotationdefaults": {
           "arrowcolor": "#2a3f5f",
           "arrowhead": 0,
           "arrowwidth": 1
          },
          "autotypenumbers": "strict",
          "coloraxis": {
           "colorbar": {
            "outlinewidth": 0,
            "ticks": ""
           }
          },
          "colorscale": {
           "diverging": [
            [
             0,
             "#8e0152"
            ],
            [
             0.1,
             "#c51b7d"
            ],
            [
             0.2,
             "#de77ae"
            ],
            [
             0.3,
             "#f1b6da"
            ],
            [
             0.4,
             "#fde0ef"
            ],
            [
             0.5,
             "#f7f7f7"
            ],
            [
             0.6,
             "#e6f5d0"
            ],
            [
             0.7,
             "#b8e186"
            ],
            [
             0.8,
             "#7fbc41"
            ],
            [
             0.9,
             "#4d9221"
            ],
            [
             1,
             "#276419"
            ]
           ],
           "sequential": [
            [
             0,
             "#0d0887"
            ],
            [
             0.1111111111111111,
             "#46039f"
            ],
            [
             0.2222222222222222,
             "#7201a8"
            ],
            [
             0.3333333333333333,
             "#9c179e"
            ],
            [
             0.4444444444444444,
             "#bd3786"
            ],
            [
             0.5555555555555556,
             "#d8576b"
            ],
            [
             0.6666666666666666,
             "#ed7953"
            ],
            [
             0.7777777777777778,
             "#fb9f3a"
            ],
            [
             0.8888888888888888,
             "#fdca26"
            ],
            [
             1,
             "#f0f921"
            ]
           ],
           "sequentialminus": [
            [
             0,
             "#0d0887"
            ],
            [
             0.1111111111111111,
             "#46039f"
            ],
            [
             0.2222222222222222,
             "#7201a8"
            ],
            [
             0.3333333333333333,
             "#9c179e"
            ],
            [
             0.4444444444444444,
             "#bd3786"
            ],
            [
             0.5555555555555556,
             "#d8576b"
            ],
            [
             0.6666666666666666,
             "#ed7953"
            ],
            [
             0.7777777777777778,
             "#fb9f3a"
            ],
            [
             0.8888888888888888,
             "#fdca26"
            ],
            [
             1,
             "#f0f921"
            ]
           ]
          },
          "colorway": [
           "#636efa",
           "#EF553B",
           "#00cc96",
           "#ab63fa",
           "#FFA15A",
           "#19d3f3",
           "#FF6692",
           "#B6E880",
           "#FF97FF",
           "#FECB52"
          ],
          "font": {
           "color": "#2a3f5f"
          },
          "geo": {
           "bgcolor": "white",
           "lakecolor": "white",
           "landcolor": "#E5ECF6",
           "showlakes": true,
           "showland": true,
           "subunitcolor": "white"
          },
          "hoverlabel": {
           "align": "left"
          },
          "hovermode": "closest",
          "mapbox": {
           "style": "light"
          },
          "paper_bgcolor": "white",
          "plot_bgcolor": "#E5ECF6",
          "polar": {
           "angularaxis": {
            "gridcolor": "white",
            "linecolor": "white",
            "ticks": ""
           },
           "bgcolor": "#E5ECF6",
           "radialaxis": {
            "gridcolor": "white",
            "linecolor": "white",
            "ticks": ""
           }
          },
          "scene": {
           "xaxis": {
            "backgroundcolor": "#E5ECF6",
            "gridcolor": "white",
            "gridwidth": 2,
            "linecolor": "white",
            "showbackground": true,
            "ticks": "",
            "zerolinecolor": "white"
           },
           "yaxis": {
            "backgroundcolor": "#E5ECF6",
            "gridcolor": "white",
            "gridwidth": 2,
            "linecolor": "white",
            "showbackground": true,
            "ticks": "",
            "zerolinecolor": "white"
           },
           "zaxis": {
            "backgroundcolor": "#E5ECF6",
            "gridcolor": "white",
            "gridwidth": 2,
            "linecolor": "white",
            "showbackground": true,
            "ticks": "",
            "zerolinecolor": "white"
           }
          },
          "shapedefaults": {
           "line": {
            "color": "#2a3f5f"
           }
          },
          "ternary": {
           "aaxis": {
            "gridcolor": "white",
            "linecolor": "white",
            "ticks": ""
           },
           "baxis": {
            "gridcolor": "white",
            "linecolor": "white",
            "ticks": ""
           },
           "bgcolor": "#E5ECF6",
           "caxis": {
            "gridcolor": "white",
            "linecolor": "white",
            "ticks": ""
           }
          },
          "title": {
           "x": 0.05
          },
          "xaxis": {
           "automargin": true,
           "gridcolor": "white",
           "linecolor": "white",
           "ticks": "",
           "title": {
            "standoff": 15
           },
           "zerolinecolor": "white",
           "zerolinewidth": 2
          },
          "yaxis": {
           "automargin": true,
           "gridcolor": "white",
           "linecolor": "white",
           "ticks": "",
           "title": {
            "standoff": 15
           },
           "zerolinecolor": "white",
           "zerolinewidth": 2
          }
         }
        },
        "title": {
         "text": "Job Opportunities for Fresh Graduates vs. Experienced Individuals"
        },
        "xaxis": {
         "anchor": "y",
         "categoryarray": [
          "Fresh Graduates",
          "With Experience"
         ],
         "categoryorder": "array",
         "domain": [
          0,
          1
         ],
         "title": {
          "text": "Experience Level"
         }
        },
        "yaxis": {
         "anchor": "x",
         "domain": [
          0,
          1
         ],
         "title": {
          "text": "Number of Job Postings"
         }
        }
       }
      }
     },
     "metadata": {},
     "output_type": "display_data"
    }
   ],
   "source": [
    "import pandas as pd\n",
    "import plotly.express as px\n",
    "\n",
    "# Data setup for job counts\n",
    "experience_data = pd.DataFrame({\n",
    "    'Experience Level': ['Fresh Graduates', 'With Experience'],\n",
    "    'Job Count': [760, 532]\n",
    "})\n",
    "\n",
    "# Plotting the bar chart\n",
    "fig = px.bar(experience_data, x='Experience Level', y='Job Count', \n",
    "             title='Job Opportunities for Fresh Graduates vs. Experienced Individuals',\n",
    "             text='Job Count', color='Experience Level', \n",
    "             color_discrete_sequence=px.colors.qualitative.Pastel)\n",
    "\n",
    "# Enhance chart visuals\n",
    "fig.update_traces(textposition='outside')\n",
    "fig.update_layout(xaxis_title=\"Experience Level\", yaxis_title=\"Number of Job Postings\", showlegend=False)\n",
    "\n",
    "fig.show()\n"
   ]
  },
  {
   "cell_type": "markdown",
   "id": "c82ab81b",
   "metadata": {},
   "source": [
    "### Insight on Job Opportunities for Fresh Graduates vs. Experienced Individuals\n",
    "\n",
    "The visualization highlights that **job opportunities are slightly more available to fresh graduates** than to individuals with prior experience. With **760 positions** targeted at fresh graduates compared to **532 for experienced candidates**, this suggests a notable openness among employers toward hiring new talent without prior work experience.\n",
    "\n",
    "#### Key Implications:\n",
    "1. **Investment in Talent Development**: Companies appear willing to train and develop fresh talent, potentially valuing current skills and potential over previous experience for certain roles.\n",
    "2. **Growth in Entry-Level Roles**: The demand for fresh graduates indicates that sectors may be expanding their entry-level positions, allowing recent graduates more access to the job market.\n",
    "\n",
    "Overall, this trend is promising for recent graduates as it suggests there’s considerable room for entry-level hires, providing them with opportunities to gain practical experience and grow within the industry.\n"
   ]
  }
 ],
 "metadata": {
  "kernelspec": {
   "display_name": "dsbootcamp",
   "language": "python",
   "name": "python3"
  },
  "language_info": {
   "codemirror_mode": {
    "name": "ipython",
    "version": 3
   },
   "file_extension": ".py",
   "mimetype": "text/x-python",
   "name": "python",
   "nbconvert_exporter": "python",
   "pygments_lexer": "ipython3",
   "version": "3.11.10"
  }
 },
 "nbformat": 4,
 "nbformat_minor": 5
}
